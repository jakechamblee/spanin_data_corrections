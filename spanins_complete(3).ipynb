{
 "cells": [
  {
   "cell_type": "code",
   "execution_count": 475,
   "id": "starting-nature",
   "metadata": {},
   "outputs": [],
   "source": [
    "import pandas as pd\n",
    "from Bio.Seq import Seq\n",
    "from Bio import Entrez\n",
    "import os\n",
    "from typing import List, Dict"
   ]
  },
  {
   "cell_type": "code",
   "execution_count": 476,
   "id": "middle-species",
   "metadata": {},
   "outputs": [
    {
     "data": {
      "text/plain": [
       "'C:\\\\Users\\\\jcham\\\\spanins'"
      ]
     },
     "execution_count": 476,
     "metadata": {},
     "output_type": "execute_result"
    }
   ],
   "source": [
    "os.chdir('C:\\\\Users\\\\jcham\\spanins')\n",
    "os.getcwd()"
   ]
  },
  {
   "cell_type": "markdown",
   "id": "comic-metabolism",
   "metadata": {},
   "source": [
    "## Goal: Return CDS for 'sequence', given 'ncbi_sequence' and 'cds' (ncbi cds).\n",
    "* Note: The spanin sequences in general are subsets of one another"
   ]
  },
  {
   "cell_type": "markdown",
   "id": "returning-angel",
   "metadata": {},
   "source": [
    "# Data exploration and prep"
   ]
  },
  {
   "cell_type": "markdown",
   "id": "thorough-admission",
   "metadata": {},
   "source": [
    "### Table dimensions are 122x13"
   ]
  },
  {
   "cell_type": "code",
   "execution_count": 477,
   "id": "promotional-prime",
   "metadata": {},
   "outputs": [
    {
     "data": {
      "text/html": [
       "<div>\n",
       "<style scoped>\n",
       "    .dataframe tbody tr th:only-of-type {\n",
       "        vertical-align: middle;\n",
       "    }\n",
       "\n",
       "    .dataframe tbody tr th {\n",
       "        vertical-align: top;\n",
       "    }\n",
       "\n",
       "    .dataframe thead th {\n",
       "        text-align: right;\n",
       "    }\n",
       "</style>\n",
       "<table border=\"1\" class=\"dataframe\">\n",
       "  <thead>\n",
       "    <tr style=\"text-align: right;\">\n",
       "      <th></th>\n",
       "      <th>host</th>\n",
       "      <th>host_taxid</th>\n",
       "      <th>phage_acc</th>\n",
       "      <th>protein_acc</th>\n",
       "      <th>protein_gi</th>\n",
       "      <th>cds</th>\n",
       "      <th>strand</th>\n",
       "      <th>function</th>\n",
       "      <th>spanin_type</th>\n",
       "      <th>property_feature</th>\n",
       "      <th>sequence</th>\n",
       "      <th>ncbi_sequence</th>\n",
       "      <th>same</th>\n",
       "    </tr>\n",
       "  </thead>\n",
       "  <tbody>\n",
       "    <tr>\n",
       "      <th>0</th>\n",
       "      <td>Aeromonas</td>\n",
       "      <td>642</td>\n",
       "      <td>NC_020879.1</td>\n",
       "      <td>YP_007677913.1</td>\n",
       "      <td>472438133</td>\n",
       "      <td>126555..126789</td>\n",
       "      <td>NEGATIVE</td>\n",
       "      <td>ISPANIN</td>\n",
       "      <td>sep</td>\n",
       "      <td>TMD:7..29</td>\n",
       "      <td>MLLTLSSLLSWLKSNALCIIIMVLMAIMMKNQHDEISTLKTSLESM...</td>\n",
       "      <td>MKNQHDEISTLKTSLESMKSFQTKSYENAKPVTEALLKSPKATKQM...</td>\n",
       "      <td>N</td>\n",
       "    </tr>\n",
       "    <tr>\n",
       "      <th>1</th>\n",
       "      <td>Aeromonas</td>\n",
       "      <td>642</td>\n",
       "      <td>NC_019543.1</td>\n",
       "      <td>YP_007010874.1</td>\n",
       "      <td>423262275</td>\n",
       "      <td>124571..124826</td>\n",
       "      <td>NEGATIVE</td>\n",
       "      <td>ISPANIN</td>\n",
       "      <td>sep</td>\n",
       "      <td>TMD:7..29</td>\n",
       "      <td>MLLTLSSLLSWLKSNALYIIIMVLMAIMMKNQHDEISTLKNSLESM...</td>\n",
       "      <td>MVLMAIMMKNQHDEISTLKNSLESMKSFQTKSYENAKPVTEALLKS...</td>\n",
       "      <td>N</td>\n",
       "    </tr>\n",
       "    <tr>\n",
       "      <th>2</th>\n",
       "      <td>Enterobacteria</td>\n",
       "      <td>547</td>\n",
       "      <td>AP011113</td>\n",
       "      <td>NaN</td>\n",
       "      <td>26042140</td>\n",
       "      <td>NaN</td>\n",
       "      <td>NaN</td>\n",
       "      <td>ISPANIN</td>\n",
       "      <td>sep</td>\n",
       "      <td>TMD:5..24</td>\n",
       "      <td>MHVSNFTAGLLLLVIAFGGTSIILKNKVERLETSVVEITKTANENA...</td>\n",
       "      <td>NaN</td>\n",
       "      <td>NaN</td>\n",
       "    </tr>\n",
       "    <tr>\n",
       "      <th>3</th>\n",
       "      <td>Enterobacteria</td>\n",
       "      <td>547</td>\n",
       "      <td>NC_024142.1</td>\n",
       "      <td>YP_009031980.1</td>\n",
       "      <td>640884671</td>\n",
       "      <td>12841..13066</td>\n",
       "      <td>POSITIVE</td>\n",
       "      <td>ISPANIN</td>\n",
       "      <td>emb</td>\n",
       "      <td>TMD:10..27</td>\n",
       "      <td>MKMLISKGWPYLLVVVLGATIYFWGNSNGQSTVQKKWDDQKVEDQK...</td>\n",
       "      <td>MQQSERRASVYKRQAEAGTFECRSLASHAARLDNSLEEGRRLVEEL...</td>\n",
       "      <td>N</td>\n",
       "    </tr>\n",
       "    <tr>\n",
       "      <th>4</th>\n",
       "      <td>Campylobacter</td>\n",
       "      <td>194</td>\n",
       "      <td>NC_016562.1</td>\n",
       "      <td>YP_004956969.1</td>\n",
       "      <td>371671013</td>\n",
       "      <td>89202..89547</td>\n",
       "      <td>NEGATIVE</td>\n",
       "      <td>ISPANIN</td>\n",
       "      <td>ovl</td>\n",
       "      <td>TMD:15..34</td>\n",
       "      <td>MQMFNFLFSFIKSNIIYILLGSLLAFTAYRYISLEKSNAILIENEK...</td>\n",
       "      <td>MQMFNFLFSFIKSNIIYILLGSLLAFTAYRYISLEKSNAILIENEK...</td>\n",
       "      <td>N</td>\n",
       "    </tr>\n",
       "    <tr>\n",
       "      <th>5</th>\n",
       "      <td>Escherichia</td>\n",
       "      <td>561</td>\n",
       "      <td>EU078592</td>\n",
       "      <td>NaN</td>\n",
       "      <td>40093751</td>\n",
       "      <td>NaN</td>\n",
       "      <td>NaN</td>\n",
       "      <td>ISPANIN</td>\n",
       "      <td>emb</td>\n",
       "      <td>TMD:4..26</td>\n",
       "      <td>MSRVTAIISALVICIIVCLSWAVNHYRDNAITYKAQRDKNARELKL...</td>\n",
       "      <td>NaN</td>\n",
       "      <td>NaN</td>\n",
       "    </tr>\n",
       "    <tr>\n",
       "      <th>6</th>\n",
       "      <td>Pseudomonas</td>\n",
       "      <td>286</td>\n",
       "      <td>NC_007805.1</td>\n",
       "      <td>YP_001293406.1</td>\n",
       "      <td>148912827</td>\n",
       "      <td>37910..38360</td>\n",
       "      <td>POSITIVE</td>\n",
       "      <td>ISPANIN</td>\n",
       "      <td>emb</td>\n",
       "      <td>NaN</td>\n",
       "      <td>MRWVPWLVVALVAALVFWRLDHVTAQRNDLQAAVEQSAETITAMAQ...</td>\n",
       "      <td>MVALVAALVFWRLDHVTAQRNDLQAAVEQSAETITAMAQQAQRDTQ...</td>\n",
       "      <td>N</td>\n",
       "    </tr>\n",
       "    <tr>\n",
       "      <th>7</th>\n",
       "      <td>Salmonella</td>\n",
       "      <td>590</td>\n",
       "      <td>KC139515.1</td>\n",
       "      <td>AGF88018.1</td>\n",
       "      <td>451937721</td>\n",
       "      <td>17634..17832</td>\n",
       "      <td>NEGATIVE</td>\n",
       "      <td>ISPANIN</td>\n",
       "      <td>ovl</td>\n",
       "      <td>TMD:4..26</td>\n",
       "      <td>MTGLLARIKTGVLAALVFVVALFGVWRAGRTKGKQDQINNQNNDTL...</td>\n",
       "      <td>MALFGVWRAGRTKGKQDQINNQNNDTLREQANADKNVAEVHNEINK...</td>\n",
       "      <td>N</td>\n",
       "    </tr>\n",
       "  </tbody>\n",
       "</table>\n",
       "</div>"
      ],
      "text/plain": [
       "             host  host_taxid    phage_acc     protein_acc  protein_gi  \\\n",
       "0       Aeromonas         642  NC_020879.1  YP_007677913.1   472438133   \n",
       "1       Aeromonas         642  NC_019543.1  YP_007010874.1   423262275   \n",
       "2  Enterobacteria         547     AP011113             NaN    26042140   \n",
       "3  Enterobacteria         547  NC_024142.1  YP_009031980.1   640884671   \n",
       "4   Campylobacter         194  NC_016562.1  YP_004956969.1   371671013   \n",
       "5     Escherichia         561     EU078592             NaN    40093751   \n",
       "6     Pseudomonas         286  NC_007805.1  YP_001293406.1   148912827   \n",
       "7      Salmonella         590   KC139515.1      AGF88018.1   451937721   \n",
       "\n",
       "              cds    strand function spanin_type property_feature  \\\n",
       "0  126555..126789  NEGATIVE  ISPANIN         sep        TMD:7..29   \n",
       "1  124571..124826  NEGATIVE  ISPANIN         sep        TMD:7..29   \n",
       "2             NaN       NaN  ISPANIN         sep        TMD:5..24   \n",
       "3    12841..13066  POSITIVE  ISPANIN         emb       TMD:10..27   \n",
       "4    89202..89547  NEGATIVE  ISPANIN         ovl       TMD:15..34   \n",
       "5             NaN       NaN  ISPANIN         emb        TMD:4..26   \n",
       "6    37910..38360  POSITIVE  ISPANIN         emb              NaN   \n",
       "7    17634..17832  NEGATIVE  ISPANIN         ovl        TMD:4..26   \n",
       "\n",
       "                                            sequence  \\\n",
       "0  MLLTLSSLLSWLKSNALCIIIMVLMAIMMKNQHDEISTLKTSLESM...   \n",
       "1  MLLTLSSLLSWLKSNALYIIIMVLMAIMMKNQHDEISTLKNSLESM...   \n",
       "2  MHVSNFTAGLLLLVIAFGGTSIILKNKVERLETSVVEITKTANENA...   \n",
       "3  MKMLISKGWPYLLVVVLGATIYFWGNSNGQSTVQKKWDDQKVEDQK...   \n",
       "4  MQMFNFLFSFIKSNIIYILLGSLLAFTAYRYISLEKSNAILIENEK...   \n",
       "5  MSRVTAIISALVICIIVCLSWAVNHYRDNAITYKAQRDKNARELKL...   \n",
       "6  MRWVPWLVVALVAALVFWRLDHVTAQRNDLQAAVEQSAETITAMAQ...   \n",
       "7  MTGLLARIKTGVLAALVFVVALFGVWRAGRTKGKQDQINNQNNDTL...   \n",
       "\n",
       "                                       ncbi_sequence same  \n",
       "0  MKNQHDEISTLKTSLESMKSFQTKSYENAKPVTEALLKSPKATKQM...    N  \n",
       "1  MVLMAIMMKNQHDEISTLKNSLESMKSFQTKSYENAKPVTEALLKS...    N  \n",
       "2                                                NaN  NaN  \n",
       "3  MQQSERRASVYKRQAEAGTFECRSLASHAARLDNSLEEGRRLVEEL...    N  \n",
       "4  MQMFNFLFSFIKSNIIYILLGSLLAFTAYRYISLEKSNAILIENEK...    N  \n",
       "5                                                NaN  NaN  \n",
       "6  MVALVAALVFWRLDHVTAQRNDLQAAVEQSAETITAMAQQAQRDTQ...    N  \n",
       "7  MALFGVWRAGRTKGKQDQINNQNNDTLREQANADKNVAEVHNEINK...    N  "
      ]
     },
     "metadata": {},
     "output_type": "display_data"
    },
    {
     "data": {
      "text/plain": [
       "(122, 13)"
      ]
     },
     "metadata": {},
     "output_type": "display_data"
    }
   ],
   "source": [
    "data = pd.read_csv('category_I_sequence_diff.csv')\n",
    "display(data.head(8), data.shape)"
   ]
  },
  {
   "cell_type": "markdown",
   "id": "right-inspiration",
   "metadata": {},
   "source": [
    "### NaN rows\n",
    "* 10 of the NaN rows do not have any ncbi_sequence data (probably weren't called at all by the submitter, but were called by rohit) **Need to manual pblast these probably?**\n",
    "* The other 10 do have sequence data but are missing other data\n",
    "* Rows 6, 8, 9, 15, 20, 28, and 32 are missing only the property_feature data. These rows should be manageable with the planned script\n",
    "* Rows 45, 79 and 99 have sequence data but no cds or strand. Probably need to be dealt with manually. \n",
    "* All others remaining (2, 5, 25, 40, 41, 42, 74, 81, 114, 118) were not called by the ncbi submitter."
   ]
  },
  {
   "cell_type": "code",
   "execution_count": 478,
   "id": "ethical-category",
   "metadata": {},
   "outputs": [
    {
     "data": {
      "text/html": [
       "<div>\n",
       "<style scoped>\n",
       "    .dataframe tbody tr th:only-of-type {\n",
       "        vertical-align: middle;\n",
       "    }\n",
       "\n",
       "    .dataframe tbody tr th {\n",
       "        vertical-align: top;\n",
       "    }\n",
       "\n",
       "    .dataframe thead th {\n",
       "        text-align: right;\n",
       "    }\n",
       "</style>\n",
       "<table border=\"1\" class=\"dataframe\">\n",
       "  <thead>\n",
       "    <tr style=\"text-align: right;\">\n",
       "      <th></th>\n",
       "      <th>host</th>\n",
       "      <th>host_taxid</th>\n",
       "      <th>phage_acc</th>\n",
       "      <th>protein_acc</th>\n",
       "      <th>protein_gi</th>\n",
       "      <th>cds</th>\n",
       "      <th>strand</th>\n",
       "      <th>function</th>\n",
       "      <th>spanin_type</th>\n",
       "      <th>property_feature</th>\n",
       "      <th>sequence</th>\n",
       "      <th>ncbi_sequence</th>\n",
       "      <th>same</th>\n",
       "    </tr>\n",
       "  </thead>\n",
       "  <tbody>\n",
       "    <tr>\n",
       "      <th>2</th>\n",
       "      <td>Enterobacteria</td>\n",
       "      <td>547</td>\n",
       "      <td>AP011113</td>\n",
       "      <td>NaN</td>\n",
       "      <td>26042140</td>\n",
       "      <td>NaN</td>\n",
       "      <td>NaN</td>\n",
       "      <td>ISPANIN</td>\n",
       "      <td>sep</td>\n",
       "      <td>TMD:5..24</td>\n",
       "      <td>MHVSNFTAGLLLLVIAFGGTSIILKNKVERLETSVVEITKTANENA...</td>\n",
       "      <td>NaN</td>\n",
       "      <td>NaN</td>\n",
       "    </tr>\n",
       "    <tr>\n",
       "      <th>5</th>\n",
       "      <td>Escherichia</td>\n",
       "      <td>561</td>\n",
       "      <td>EU078592</td>\n",
       "      <td>NaN</td>\n",
       "      <td>40093751</td>\n",
       "      <td>NaN</td>\n",
       "      <td>NaN</td>\n",
       "      <td>ISPANIN</td>\n",
       "      <td>emb</td>\n",
       "      <td>TMD:4..26</td>\n",
       "      <td>MSRVTAIISALVICIIVCLSWAVNHYRDNAITYKAQRDKNARELKL...</td>\n",
       "      <td>NaN</td>\n",
       "      <td>NaN</td>\n",
       "    </tr>\n",
       "    <tr>\n",
       "      <th>6</th>\n",
       "      <td>Pseudomonas</td>\n",
       "      <td>286</td>\n",
       "      <td>NC_007805.1</td>\n",
       "      <td>YP_001293406.1</td>\n",
       "      <td>148912827</td>\n",
       "      <td>37910..38360</td>\n",
       "      <td>POSITIVE</td>\n",
       "      <td>ISPANIN</td>\n",
       "      <td>emb</td>\n",
       "      <td>NaN</td>\n",
       "      <td>MRWVPWLVVALVAALVFWRLDHVTAQRNDLQAAVEQSAETITAMAQ...</td>\n",
       "      <td>MVALVAALVFWRLDHVTAQRNDLQAAVEQSAETITAMAQQAQRDTQ...</td>\n",
       "      <td>N</td>\n",
       "    </tr>\n",
       "    <tr>\n",
       "      <th>8</th>\n",
       "      <td>Salmonella</td>\n",
       "      <td>590</td>\n",
       "      <td>NC_010392.1</td>\n",
       "      <td>YP_001700615.1</td>\n",
       "      <td>169257238</td>\n",
       "      <td>30405..30858</td>\n",
       "      <td>NEGATIVE</td>\n",
       "      <td>ISPANIN</td>\n",
       "      <td>emb</td>\n",
       "      <td>NaN</td>\n",
       "      <td>MMFNWKTMFVGLLLVSLIVAGRLANHYRNNAITYKYQRDTATHNLK...</td>\n",
       "      <td>MFVGLLLVSLIVAGRLANHYRNNAITYKYQRDTATHNLKLANETIT...</td>\n",
       "      <td>N</td>\n",
       "    </tr>\n",
       "    <tr>\n",
       "      <th>9</th>\n",
       "      <td>Salmonella</td>\n",
       "      <td>590</td>\n",
       "      <td>NC_010393.1</td>\n",
       "      <td>YP_001700673.1</td>\n",
       "      <td>169257297</td>\n",
       "      <td>17493..17973</td>\n",
       "      <td>POSITIVE</td>\n",
       "      <td>ISPANIN</td>\n",
       "      <td>emb</td>\n",
       "      <td>NaN</td>\n",
       "      <td>MMFNWKTMFVGLLLVSLIVAGRLANHYRNNAITYKEQRDTVTHRLT...</td>\n",
       "      <td>MFVGLLLVSLIVAGRLANHYRNNAITYKEQRDTVTHRLTLANATIT...</td>\n",
       "      <td>N</td>\n",
       "    </tr>\n",
       "    <tr>\n",
       "      <th>15</th>\n",
       "      <td>Escherichia</td>\n",
       "      <td>561</td>\n",
       "      <td>NC_024379.1</td>\n",
       "      <td>YP_009044294.1</td>\n",
       "      <td>658607293</td>\n",
       "      <td>36334..36736</td>\n",
       "      <td>POSITIVE</td>\n",
       "      <td>ISPANIN</td>\n",
       "      <td>emb</td>\n",
       "      <td>NaN</td>\n",
       "      <td>MLEFLKRAAPWLLAAVMFAGGYHTANNKWEAKVNAEYTSNLKASED...</td>\n",
       "      <td>MFAGGYHTANNKWEAKVNAEYTSNLKASEDTRLAVQAEVNKVSKRF...</td>\n",
       "      <td>N</td>\n",
       "    </tr>\n",
       "    <tr>\n",
       "      <th>20</th>\n",
       "      <td>Burkholderia</td>\n",
       "      <td>32008</td>\n",
       "      <td>NC_009234.1</td>\n",
       "      <td>YP_001111073.1</td>\n",
       "      <td>134288770</td>\n",
       "      <td>32853..33276</td>\n",
       "      <td>NEGATIVE</td>\n",
       "      <td>ISPANIN</td>\n",
       "      <td>ovl</td>\n",
       "      <td>NaN</td>\n",
       "      <td>MNLSRLMPWLALFALIALAASCQHGRALRAQLERATDDARRANRDA...</td>\n",
       "      <td>MPWLALFALIALAASCQHGRALRAQLERATDDARRANRDAQASAAV...</td>\n",
       "      <td>N</td>\n",
       "    </tr>\n",
       "    <tr>\n",
       "      <th>25</th>\n",
       "      <td>Yersinia</td>\n",
       "      <td>629</td>\n",
       "      <td>HE956707</td>\n",
       "      <td>NaN</td>\n",
       "      <td>398313030</td>\n",
       "      <td>NaN</td>\n",
       "      <td>NaN</td>\n",
       "      <td>ISPANIN</td>\n",
       "      <td>ovl</td>\n",
       "      <td>TMD:10..27</td>\n",
       "      <td>MLTIPNKYKWAVMALLAAVSIGSLTLANHYRDSALTSQKALQEVTD...</td>\n",
       "      <td>NaN</td>\n",
       "      <td>NaN</td>\n",
       "    </tr>\n",
       "    <tr>\n",
       "      <th>28</th>\n",
       "      <td>Yersinia</td>\n",
       "      <td>629</td>\n",
       "      <td>AM076770</td>\n",
       "      <td>CAJ28448.1</td>\n",
       "      <td>164414553</td>\n",
       "      <td>18144..18336</td>\n",
       "      <td>POSITIVE</td>\n",
       "      <td>ISPANIN</td>\n",
       "      <td>ovl</td>\n",
       "      <td>NaN</td>\n",
       "      <td>MLGKLKIAVMLMIAAVLAWKAGSWNGARVERSVQIAECNNRIEKLA...</td>\n",
       "      <td>MQIAECNNRIEKLAAELEAEKAKKKVEVTKSASKTKQSVLVATDSD...</td>\n",
       "      <td>N</td>\n",
       "    </tr>\n",
       "    <tr>\n",
       "      <th>32</th>\n",
       "      <td>Stenotrophomonas</td>\n",
       "      <td>40323</td>\n",
       "      <td>NC_023588.1</td>\n",
       "      <td>YP_009008371.1</td>\n",
       "      <td>589892004</td>\n",
       "      <td>9447..9939</td>\n",
       "      <td>POSITIVE</td>\n",
       "      <td>ISPANIN</td>\n",
       "      <td>emb</td>\n",
       "      <td>NaN</td>\n",
       "      <td>MLYRALALAALVLATAGLFSYQQGRISRATTALDKANLDLAKARSE...</td>\n",
       "      <td>MLATAGLFSYQQGRISRATTALDKANLDLAKARSENAALTSSLKLA...</td>\n",
       "      <td>N</td>\n",
       "    </tr>\n",
       "    <tr>\n",
       "      <th>40</th>\n",
       "      <td>Escherichia coli O157:H7</td>\n",
       "      <td>561</td>\n",
       "      <td>KM092515</td>\n",
       "      <td>NaN</td>\n",
       "      <td>26631539</td>\n",
       "      <td>NaN</td>\n",
       "      <td>NaN</td>\n",
       "      <td>ISPANIN</td>\n",
       "      <td>ovl</td>\n",
       "      <td>TMD:10..27</td>\n",
       "      <td>MTFKEFCQATFIIVFLVGAGVWGGYSYRDYQVAEAELSNEKLISVA...</td>\n",
       "      <td>NaN</td>\n",
       "      <td>NaN</td>\n",
       "    </tr>\n",
       "    <tr>\n",
       "      <th>41</th>\n",
       "      <td>Enterobacteria</td>\n",
       "      <td>547</td>\n",
       "      <td>NC_011045.1</td>\n",
       "      <td>NaN</td>\n",
       "      <td>93201455</td>\n",
       "      <td>NaN</td>\n",
       "      <td>NaN</td>\n",
       "      <td>OSPANIN</td>\n",
       "      <td>emb</td>\n",
       "      <td>LIPO:29..32</td>\n",
       "      <td>MKYRLSIKKTLPRWKGALIGLFLICVATISGCVSESKLPEPPMVSV...</td>\n",
       "      <td>NaN</td>\n",
       "      <td>NaN</td>\n",
       "    </tr>\n",
       "    <tr>\n",
       "      <th>42</th>\n",
       "      <td>Enterobacteria</td>\n",
       "      <td>547</td>\n",
       "      <td>AP011113</td>\n",
       "      <td>NaN</td>\n",
       "      <td>26042139</td>\n",
       "      <td>NaN</td>\n",
       "      <td>NaN</td>\n",
       "      <td>OSPANIN</td>\n",
       "      <td>sep</td>\n",
       "      <td>LIPO:14..17</td>\n",
       "      <td>MIKLSAVILSIGLLVGCSTKPLEVKKETVHPNWPVQIKSYDEAKLS...</td>\n",
       "      <td>NaN</td>\n",
       "      <td>NaN</td>\n",
       "    </tr>\n",
       "    <tr>\n",
       "      <th>45</th>\n",
       "      <td>Campylobacter</td>\n",
       "      <td>194</td>\n",
       "      <td>FN667789.1</td>\n",
       "      <td>CBJ94317.1</td>\n",
       "      <td>294338279</td>\n",
       "      <td>NaN</td>\n",
       "      <td>NaN</td>\n",
       "      <td>OSPANIN</td>\n",
       "      <td>sep</td>\n",
       "      <td>LIPO:15..18</td>\n",
       "      <td>MKFKKFLLALIPFIFVGCSAVRTEFIYPKIPDVKEPPMTQDYNLTV...</td>\n",
       "      <td>MKFKKFLLALIPFIFVGCSAVRTEFIYPKIPDVKEPPMTQDYNLTV...</td>\n",
       "      <td>N</td>\n",
       "    </tr>\n",
       "    <tr>\n",
       "      <th>74</th>\n",
       "      <td>vibrio</td>\n",
       "      <td>662</td>\n",
       "      <td>NC_005083.2</td>\n",
       "      <td>NaN</td>\n",
       "      <td>2546051</td>\n",
       "      <td>NaN</td>\n",
       "      <td>NaN</td>\n",
       "      <td>OSPANIN</td>\n",
       "      <td>sep</td>\n",
       "      <td>LIPO:14..17</td>\n",
       "      <td>MVNKIIAIALCLTLVGCIGTPKEPVPEPPKNEIVHPNIPTPPPNPG...</td>\n",
       "      <td>NaN</td>\n",
       "      <td>NaN</td>\n",
       "    </tr>\n",
       "    <tr>\n",
       "      <th>79</th>\n",
       "      <td>Edwardsiella</td>\n",
       "      <td>635</td>\n",
       "      <td>NC_021342.1</td>\n",
       "      <td>NaN</td>\n",
       "      <td>509141582</td>\n",
       "      <td>NaN</td>\n",
       "      <td>NaN</td>\n",
       "      <td>OSPANIN</td>\n",
       "      <td>ovl</td>\n",
       "      <td>LIPO:16..19</td>\n",
       "      <td>MSIVSKLLLCGIVCAIAGCSNSTTRHSDCPTVSSDLLVPPRKLEST...</td>\n",
       "      <td>MLVPPRKLESTHNDPERAAWVIPWNAEALLADRSRLERWQAWYNAT...</td>\n",
       "      <td>N</td>\n",
       "    </tr>\n",
       "    <tr>\n",
       "      <th>81</th>\n",
       "      <td>Bdellovibrio</td>\n",
       "      <td>662</td>\n",
       "      <td>NC_015721.1</td>\n",
       "      <td>NaN</td>\n",
       "      <td>33882695</td>\n",
       "      <td>NaN</td>\n",
       "      <td>NaN</td>\n",
       "      <td>OSPANIN</td>\n",
       "      <td>ovl</td>\n",
       "      <td>LIPO:25..28</td>\n",
       "      <td>MQKNIRMPRLGPIKFALLLILSIGIISCAGVPKFPKDIKVWETAYL...</td>\n",
       "      <td>NaN</td>\n",
       "      <td>NaN</td>\n",
       "    </tr>\n",
       "    <tr>\n",
       "      <th>99</th>\n",
       "      <td>Enterobacteria</td>\n",
       "      <td>547</td>\n",
       "      <td>NC_012223</td>\n",
       "      <td>NaN</td>\n",
       "      <td>225220121</td>\n",
       "      <td>NaN</td>\n",
       "      <td>NaN</td>\n",
       "      <td>OSPANIN</td>\n",
       "      <td>ovl</td>\n",
       "      <td>LIPO:14..17</td>\n",
       "      <td>MLRALTALIVVLTLSACGSSSVPLMPLTESALRLPCKFDNPSADPD...</td>\n",
       "      <td>MIDVKNMECGAKLRAQVLELQQIIKGP</td>\n",
       "      <td>N</td>\n",
       "    </tr>\n",
       "    <tr>\n",
       "      <th>114</th>\n",
       "      <td>Escherichia coli O157:H7</td>\n",
       "      <td>561</td>\n",
       "      <td>KM092515</td>\n",
       "      <td>NaN</td>\n",
       "      <td>26631540</td>\n",
       "      <td>NaN</td>\n",
       "      <td>NaN</td>\n",
       "      <td>OSPANIN</td>\n",
       "      <td>ovl</td>\n",
       "      <td>LIPO:17..20</td>\n",
       "      <td>MKKLSQSFIMFVLLIIMSGCSTNKVSSTFKNSQVSESDKYTQEESR...</td>\n",
       "      <td>NaN</td>\n",
       "      <td>NaN</td>\n",
       "    </tr>\n",
       "    <tr>\n",
       "      <th>118</th>\n",
       "      <td>vibrio</td>\n",
       "      <td>662</td>\n",
       "      <td>NC_023863.2</td>\n",
       "      <td>NaN</td>\n",
       "      <td>657201235</td>\n",
       "      <td>NaN</td>\n",
       "      <td>NaN</td>\n",
       "      <td>USPANIN</td>\n",
       "      <td>USP</td>\n",
       "      <td>LIPO:14..17</td>\n",
       "      <td>MKIISTILLSLALLTGCSAMQMATGIASTLSGEQPSLSVDAQMGDR...</td>\n",
       "      <td>NaN</td>\n",
       "      <td>NaN</td>\n",
       "    </tr>\n",
       "  </tbody>\n",
       "</table>\n",
       "</div>"
      ],
      "text/plain": [
       "                         host  host_taxid    phage_acc     protein_acc  \\\n",
       "2              Enterobacteria         547     AP011113             NaN   \n",
       "5                 Escherichia         561     EU078592             NaN   \n",
       "6                 Pseudomonas         286  NC_007805.1  YP_001293406.1   \n",
       "8                  Salmonella         590  NC_010392.1  YP_001700615.1   \n",
       "9                  Salmonella         590  NC_010393.1  YP_001700673.1   \n",
       "15                Escherichia         561  NC_024379.1  YP_009044294.1   \n",
       "20               Burkholderia       32008  NC_009234.1  YP_001111073.1   \n",
       "25                   Yersinia         629     HE956707             NaN   \n",
       "28                   Yersinia         629     AM076770      CAJ28448.1   \n",
       "32           Stenotrophomonas       40323  NC_023588.1  YP_009008371.1   \n",
       "40   Escherichia coli O157:H7         561     KM092515             NaN   \n",
       "41             Enterobacteria         547  NC_011045.1             NaN   \n",
       "42             Enterobacteria         547     AP011113             NaN   \n",
       "45              Campylobacter         194   FN667789.1      CBJ94317.1   \n",
       "74                     vibrio         662  NC_005083.2             NaN   \n",
       "79               Edwardsiella         635  NC_021342.1             NaN   \n",
       "81               Bdellovibrio         662  NC_015721.1             NaN   \n",
       "99             Enterobacteria         547    NC_012223             NaN   \n",
       "114  Escherichia coli O157:H7         561     KM092515             NaN   \n",
       "118                    vibrio         662  NC_023863.2             NaN   \n",
       "\n",
       "     protein_gi           cds    strand function spanin_type property_feature  \\\n",
       "2      26042140           NaN       NaN  ISPANIN         sep        TMD:5..24   \n",
       "5      40093751           NaN       NaN  ISPANIN         emb        TMD:4..26   \n",
       "6     148912827  37910..38360  POSITIVE  ISPANIN         emb              NaN   \n",
       "8     169257238  30405..30858  NEGATIVE  ISPANIN         emb              NaN   \n",
       "9     169257297  17493..17973  POSITIVE  ISPANIN         emb              NaN   \n",
       "15    658607293  36334..36736  POSITIVE  ISPANIN         emb              NaN   \n",
       "20    134288770  32853..33276  NEGATIVE  ISPANIN         ovl              NaN   \n",
       "25    398313030           NaN       NaN  ISPANIN         ovl       TMD:10..27   \n",
       "28    164414553  18144..18336  POSITIVE  ISPANIN         ovl              NaN   \n",
       "32    589892004    9447..9939  POSITIVE  ISPANIN         emb              NaN   \n",
       "40     26631539           NaN       NaN  ISPANIN         ovl       TMD:10..27   \n",
       "41     93201455           NaN       NaN  OSPANIN         emb      LIPO:29..32   \n",
       "42     26042139           NaN       NaN  OSPANIN         sep      LIPO:14..17   \n",
       "45    294338279           NaN       NaN  OSPANIN         sep      LIPO:15..18   \n",
       "74      2546051           NaN       NaN  OSPANIN         sep      LIPO:14..17   \n",
       "79    509141582           NaN       NaN  OSPANIN         ovl      LIPO:16..19   \n",
       "81     33882695           NaN       NaN  OSPANIN         ovl      LIPO:25..28   \n",
       "99    225220121           NaN       NaN  OSPANIN         ovl      LIPO:14..17   \n",
       "114    26631540           NaN       NaN  OSPANIN         ovl      LIPO:17..20   \n",
       "118   657201235           NaN       NaN  USPANIN         USP      LIPO:14..17   \n",
       "\n",
       "                                              sequence  \\\n",
       "2    MHVSNFTAGLLLLVIAFGGTSIILKNKVERLETSVVEITKTANENA...   \n",
       "5    MSRVTAIISALVICIIVCLSWAVNHYRDNAITYKAQRDKNARELKL...   \n",
       "6    MRWVPWLVVALVAALVFWRLDHVTAQRNDLQAAVEQSAETITAMAQ...   \n",
       "8    MMFNWKTMFVGLLLVSLIVAGRLANHYRNNAITYKYQRDTATHNLK...   \n",
       "9    MMFNWKTMFVGLLLVSLIVAGRLANHYRNNAITYKEQRDTVTHRLT...   \n",
       "15   MLEFLKRAAPWLLAAVMFAGGYHTANNKWEAKVNAEYTSNLKASED...   \n",
       "20   MNLSRLMPWLALFALIALAASCQHGRALRAQLERATDDARRANRDA...   \n",
       "25   MLTIPNKYKWAVMALLAAVSIGSLTLANHYRDSALTSQKALQEVTD...   \n",
       "28   MLGKLKIAVMLMIAAVLAWKAGSWNGARVERSVQIAECNNRIEKLA...   \n",
       "32   MLYRALALAALVLATAGLFSYQQGRISRATTALDKANLDLAKARSE...   \n",
       "40   MTFKEFCQATFIIVFLVGAGVWGGYSYRDYQVAEAELSNEKLISVA...   \n",
       "41   MKYRLSIKKTLPRWKGALIGLFLICVATISGCVSESKLPEPPMVSV...   \n",
       "42   MIKLSAVILSIGLLVGCSTKPLEVKKETVHPNWPVQIKSYDEAKLS...   \n",
       "45   MKFKKFLLALIPFIFVGCSAVRTEFIYPKIPDVKEPPMTQDYNLTV...   \n",
       "74   MVNKIIAIALCLTLVGCIGTPKEPVPEPPKNEIVHPNIPTPPPNPG...   \n",
       "79   MSIVSKLLLCGIVCAIAGCSNSTTRHSDCPTVSSDLLVPPRKLEST...   \n",
       "81   MQKNIRMPRLGPIKFALLLILSIGIISCAGVPKFPKDIKVWETAYL...   \n",
       "99   MLRALTALIVVLTLSACGSSSVPLMPLTESALRLPCKFDNPSADPD...   \n",
       "114  MKKLSQSFIMFVLLIIMSGCSTNKVSSTFKNSQVSESDKYTQEESR...   \n",
       "118  MKIISTILLSLALLTGCSAMQMATGIASTLSGEQPSLSVDAQMGDR...   \n",
       "\n",
       "                                         ncbi_sequence same  \n",
       "2                                                  NaN  NaN  \n",
       "5                                                  NaN  NaN  \n",
       "6    MVALVAALVFWRLDHVTAQRNDLQAAVEQSAETITAMAQQAQRDTQ...    N  \n",
       "8    MFVGLLLVSLIVAGRLANHYRNNAITYKYQRDTATHNLKLANETIT...    N  \n",
       "9    MFVGLLLVSLIVAGRLANHYRNNAITYKEQRDTVTHRLTLANATIT...    N  \n",
       "15   MFAGGYHTANNKWEAKVNAEYTSNLKASEDTRLAVQAEVNKVSKRF...    N  \n",
       "20   MPWLALFALIALAASCQHGRALRAQLERATDDARRANRDAQASAAV...    N  \n",
       "25                                                 NaN  NaN  \n",
       "28   MQIAECNNRIEKLAAELEAEKAKKKVEVTKSASKTKQSVLVATDSD...    N  \n",
       "32   MLATAGLFSYQQGRISRATTALDKANLDLAKARSENAALTSSLKLA...    N  \n",
       "40                                                 NaN  NaN  \n",
       "41                                                 NaN  NaN  \n",
       "42                                                 NaN  NaN  \n",
       "45   MKFKKFLLALIPFIFVGCSAVRTEFIYPKIPDVKEPPMTQDYNLTV...    N  \n",
       "74                                                 NaN  NaN  \n",
       "79   MLVPPRKLESTHNDPERAAWVIPWNAEALLADRSRLERWQAWYNAT...    N  \n",
       "81                                                 NaN  NaN  \n",
       "99                         MIDVKNMECGAKLRAQVLELQQIIKGP    N  \n",
       "114                                                NaN  NaN  \n",
       "118                                                NaN  NaN  "
      ]
     },
     "execution_count": 478,
     "metadata": {},
     "output_type": "execute_result"
    }
   ],
   "source": [
    "data[data.isna().any(axis=1)]"
   ]
  },
  {
   "cell_type": "markdown",
   "id": "exclusive-touch",
   "metadata": {},
   "source": [
    "### Creating data2 DF, which drops irrelevant columns and 13 NaN rows\n",
    "* ```data2``` = original data minus rows with NaN values for sequence, ncbi_sequence or cds columns\n",
    "* ```data2``` contains 7 more rows than simply running dropna() on ```data``` (as some rows have NaN values in irrelevant columns)\n"
   ]
  },
  {
   "cell_type": "code",
   "execution_count": 479,
   "id": "statistical-faith",
   "metadata": {},
   "outputs": [
    {
     "data": {
      "text/html": [
       "<div>\n",
       "<style scoped>\n",
       "    .dataframe tbody tr th:only-of-type {\n",
       "        vertical-align: middle;\n",
       "    }\n",
       "\n",
       "    .dataframe tbody tr th {\n",
       "        vertical-align: top;\n",
       "    }\n",
       "\n",
       "    .dataframe thead th {\n",
       "        text-align: right;\n",
       "    }\n",
       "</style>\n",
       "<table border=\"1\" class=\"dataframe\">\n",
       "  <thead>\n",
       "    <tr style=\"text-align: right;\">\n",
       "      <th></th>\n",
       "      <th>phage_acc</th>\n",
       "      <th>strand</th>\n",
       "      <th>cds</th>\n",
       "      <th>sequence</th>\n",
       "      <th>ncbi_sequence</th>\n",
       "    </tr>\n",
       "  </thead>\n",
       "  <tbody>\n",
       "    <tr>\n",
       "      <th>0</th>\n",
       "      <td>NC_020879.1</td>\n",
       "      <td>NEGATIVE</td>\n",
       "      <td>126555..126789</td>\n",
       "      <td>MLLTLSSLLSWLKSNALCIIIMVLMAIMMKNQHDEISTLKTSLESM...</td>\n",
       "      <td>MKNQHDEISTLKTSLESMKSFQTKSYENAKPVTEALLKSPKATKQM...</td>\n",
       "    </tr>\n",
       "    <tr>\n",
       "      <th>1</th>\n",
       "      <td>NC_019543.1</td>\n",
       "      <td>NEGATIVE</td>\n",
       "      <td>124571..124826</td>\n",
       "      <td>MLLTLSSLLSWLKSNALYIIIMVLMAIMMKNQHDEISTLKNSLESM...</td>\n",
       "      <td>MVLMAIMMKNQHDEISTLKNSLESMKSFQTKSYENAKPVTEALLKS...</td>\n",
       "    </tr>\n",
       "    <tr>\n",
       "      <th>3</th>\n",
       "      <td>NC_024142.1</td>\n",
       "      <td>POSITIVE</td>\n",
       "      <td>12841..13066</td>\n",
       "      <td>MKMLISKGWPYLLVVVLGATIYFWGNSNGQSTVQKKWDDQKVEDQK...</td>\n",
       "      <td>MQQSERRASVYKRQAEAGTFECRSLASHAARLDNSLEEGRRLVEEL...</td>\n",
       "    </tr>\n",
       "  </tbody>\n",
       "</table>\n",
       "</div>"
      ],
      "text/plain": [
       "     phage_acc    strand             cds  \\\n",
       "0  NC_020879.1  NEGATIVE  126555..126789   \n",
       "1  NC_019543.1  NEGATIVE  124571..124826   \n",
       "3  NC_024142.1  POSITIVE    12841..13066   \n",
       "\n",
       "                                            sequence  \\\n",
       "0  MLLTLSSLLSWLKSNALCIIIMVLMAIMMKNQHDEISTLKTSLESM...   \n",
       "1  MLLTLSSLLSWLKSNALYIIIMVLMAIMMKNQHDEISTLKNSLESM...   \n",
       "3  MKMLISKGWPYLLVVVLGATIYFWGNSNGQSTVQKKWDDQKVEDQK...   \n",
       "\n",
       "                                       ncbi_sequence  \n",
       "0  MKNQHDEISTLKTSLESMKSFQTKSYENAKPVTEALLKSPKATKQM...  \n",
       "1  MVLMAIMMKNQHDEISTLKNSLESMKSFQTKSYENAKPVTEALLKS...  \n",
       "3  MQQSERRASVYKRQAEAGTFECRSLASHAARLDNSLEEGRRLVEEL...  "
      ]
     },
     "metadata": {},
     "output_type": "display_data"
    },
    {
     "data": {
      "text/plain": [
       "(109, 5)"
      ]
     },
     "metadata": {},
     "output_type": "display_data"
    }
   ],
   "source": [
    "data2 = data[['phage_acc', 'strand', 'cds', 'sequence', 'ncbi_sequence']].copy()\n",
    "data2 = data2.dropna(axis=0)\n",
    "display(data2.head(3), data2.shape)"
   ]
  },
  {
   "cell_type": "markdown",
   "id": "dramatic-whole",
   "metadata": {},
   "source": [
    "### Creating list of the protein sequences (rohit's spanin calls vs NCBI's)"
   ]
  },
  {
   "cell_type": "code",
   "execution_count": 480,
   "id": "missing-investigation",
   "metadata": {},
   "outputs": [
    {
     "data": {
      "text/plain": [
       "['MKNQHDEISTLKTSLESMKSFQTKSYENAKPVTEALLKSPKATKQMEKIAEKKPQLLEKRMNMGFQKLADQLQESTK',\n",
       " 'MVLMAIMMKNQHDEISTLKNSLESMKSFQTKSYENAKPVTEALLKSPKATKQMEKIAEKKPQLLEKRMNMGFQKLADQLQESTK']"
      ]
     },
     "execution_count": 480,
     "metadata": {},
     "output_type": "execute_result"
    }
   ],
   "source": [
    "rohit_calls: List[str] = list(data2['sequence'])\n",
    "ncbi_calls: List[str] = list(data2['ncbi_sequence'])\n",
    "[v for v in ncbi_calls][:2]"
   ]
  },
  {
   "cell_type": "markdown",
   "id": "insured-aquarium",
   "metadata": {},
   "source": [
    "### Iterates over ncbi/rohit calls, checking if each sequence is a subset of the other, or if they are identical"
   ]
  },
  {
   "cell_type": "code",
   "execution_count": 481,
   "id": "controlling-finish",
   "metadata": {},
   "outputs": [
    {
     "name": "stdout",
     "output_type": "stream",
     "text": [
      " ncbi seqs contained in rohit seqs: 57 \n",
      " rohit seqs contained in ncbi seqs: 10 \n",
      " sequence calls are the same: 0 \n",
      " total seqs in data: 109\n"
     ]
    }
   ],
   "source": [
    "ncbi_subset_of_rohit: List[bool] = [v in rohit_calls[i] for i, v in enumerate(ncbi_calls)]\n",
    "rohit_subset_of_ncbi: List[bool] = [v in ncbi_calls[i] for i, v in enumerate(rohit_calls)]\n",
    "identical: List[bool] = [v == ncbi_calls[i] for i, v in enumerate(rohit_calls)]\n",
    "print(' ncbi seqs contained in rohit seqs:', sum(ncbi_subset_of_rohit), \n",
    "      '\\n', 'rohit seqs contained in ncbi seqs:', sum(rohit_subset_of_ncbi), \n",
    "      '\\n', 'sequence calls are the same:', sum(identical),\n",
    "      '\\n', 'total seqs in data:', data2.shape[0])"
   ]
  },
  {
   "cell_type": "markdown",
   "id": "wired-cisco",
   "metadata": {},
   "source": [
    "### Adding these subset seqs to a df"
   ]
  },
  {
   "cell_type": "code",
   "execution_count": 482,
   "id": "later-banks",
   "metadata": {},
   "outputs": [
    {
     "name": "stdout",
     "output_type": "stream",
     "text": [
      "MQMFNFLFSFIKSNIIYILLGSLLAFTAYRYISLEKSNAILIENEKQLTQNIKNSKKELEALKNYNNLTEVFREKEVKYKEVLNNIKNIETKIQKLKLMRKDENETQYIIVNF MQMFNFLFSFIKSNIIYILLGSLLAFTAYRYISLEKSNAILIENEKQLTQNIKNSKKELEALKNYNNLTIEVFREKEVKYKEVLNNIKNIETKIQKLKLMRKDENETQYIIVNF\n"
     ]
    }
   ],
   "source": [
    "data2['ncbi_subset_of_rohit'] = ncbi_subset_of_rohit\n",
    "data2['rohit_subset_of_ncbi'] = rohit_subset_of_ncbi\n",
    "print(data2['sequence'].loc[4], data2['ncbi_sequence'].loc[4])"
   ]
  },
  {
   "cell_type": "markdown",
   "id": "authorized-rocket",
   "metadata": {},
   "source": [
    "# Functions"
   ]
  },
  {
   "cell_type": "markdown",
   "id": "simplified-peter",
   "metadata": {},
   "source": [
    "### Finds insertions/deletions between two strings\n",
    "- **Only true for one row at the beginning of the data. so insertions/deletions were not as common as it first appeared..**"
   ]
  },
  {
   "cell_type": "code",
   "execution_count": 483,
   "id": "aggregate-chambers",
   "metadata": {},
   "outputs": [],
   "source": [
    "def find_difference_two_strings(str1: str, str2: str):\n",
    "    from difflib import ndiff\n",
    "    return [li for li in ndiff(str1, str2) if li[0] != ' ']"
   ]
  },
  {
   "cell_type": "code",
   "execution_count": 484,
   "id": "advised-calculation",
   "metadata": {},
   "outputs": [
    {
     "name": "stdout",
     "output_type": "stream",
     "text": [
      " rohit: MQMFNFLFSFIKSNIIYILLGSLLAFTAYRYISLEKSNAILIENEKQLTQNIKNSKKELEALKNYNNLTEVFREKEVKYKEVLNNIKNIETKIQKLKLMRKDENETQYIIVNF \n",
      " ncbi:  MQMFNFLFSFIKSNIIYILLGSLLAFTAYRYISLEKSNAILIENEKQLTQNIKNSKKELEALKNYNNLTIEVFREKEVKYKEVLNNIKNIETKIQKLKLMRKDENETQYIIVNF \n",
      " difference: ['+ I']\n"
     ]
    }
   ],
   "source": [
    "row4_rohit = data2['sequence'].loc[4]\n",
    "row4_ncbi = data2['ncbi_sequence'].loc[4]\n",
    "\n",
    "print(' rohit:', row4_rohit, '\\n', 'ncbi: ', row4_ncbi, '\\n difference:', find_difference_two_strings(row4_rohit, row4_ncbi))"
   ]
  },
  {
   "cell_type": "markdown",
   "id": "musical-rwanda",
   "metadata": {},
   "source": [
    "*May need this code to find the index where the insertions/deletions occur at as well.*"
   ]
  },
  {
   "cell_type": "code",
   "execution_count": 485,
   "id": "existing-probability",
   "metadata": {},
   "outputs": [
    {
     "data": {
      "text/plain": [
       "[Match(a=0, b=0, size=69),\n",
       " Match(a=69, b=70, size=44),\n",
       " Match(a=113, b=114, size=0)]"
      ]
     },
     "metadata": {},
     "output_type": "display_data"
    },
    {
     "data": {
      "text/plain": [
       "'I'"
      ]
     },
     "metadata": {},
     "output_type": "display_data"
    }
   ],
   "source": [
    "# Attempting to find the index of the difference between two strings\n",
    "from difflib import ndiff, SequenceMatcher\n",
    "test_a = 'MQMFNFLFSFIKSNIIYILLGSLLAFTAYRYISLEKSNAILIENEKQLTQNIKNSKKELEALKNYNNLTEVFREKEVKYKEVLNNIKNIETKIQKLKLMRKDENETQYIIVNF'\n",
    "test_b = 'MQMFNFLFSFIKSNIIYILLGSLLAFTAYRYISLEKSNAILIENEKQLTQNIKNSKKELEALKNYNNLTIEVFREKEVKYKEVLNNIKNIETKIQKLKLMRKDENETQYIIVNF'\n",
    "\n",
    "display(SequenceMatcher(None, test_a, test_b).get_matching_blocks(), test_b[69])"
   ]
  },
  {
   "cell_type": "code",
   "execution_count": 486,
   "id": "worst-compound",
   "metadata": {},
   "outputs": [],
   "source": [
    "def check_if_begin_end_same(seq1: str, seq2:str) -> bool:\n",
    "    '''\n",
    "    Tells you if the first three letters and last three chars of a string are both the same. \n",
    "    If not, an insertion, deletion or frameshift is likely.\n",
    "    '''\n",
    "    if (seq1.startswith(seq2[:3]) and seq1.endswith(seq2[-3:])):\n",
    "        return True\n",
    "    else:\n",
    "        return False"
   ]
  },
  {
   "cell_type": "code",
   "execution_count": 487,
   "id": "above-spare",
   "metadata": {},
   "outputs": [
    {
     "data": {
      "text/html": [
       "<div>\n",
       "<style scoped>\n",
       "    .dataframe tbody tr th:only-of-type {\n",
       "        vertical-align: middle;\n",
       "    }\n",
       "\n",
       "    .dataframe tbody tr th {\n",
       "        vertical-align: top;\n",
       "    }\n",
       "\n",
       "    .dataframe thead th {\n",
       "        text-align: right;\n",
       "    }\n",
       "</style>\n",
       "<table border=\"1\" class=\"dataframe\">\n",
       "  <thead>\n",
       "    <tr style=\"text-align: right;\">\n",
       "      <th></th>\n",
       "      <th>phage_acc</th>\n",
       "      <th>strand</th>\n",
       "      <th>cds</th>\n",
       "      <th>sequence</th>\n",
       "      <th>ncbi_sequence</th>\n",
       "      <th>ncbi_subset_of_rohit</th>\n",
       "      <th>rohit_subset_of_ncbi</th>\n",
       "      <th>begin_end_same</th>\n",
       "    </tr>\n",
       "  </thead>\n",
       "  <tbody>\n",
       "    <tr>\n",
       "      <th>4</th>\n",
       "      <td>NC_016562.1</td>\n",
       "      <td>NEGATIVE</td>\n",
       "      <td>89202..89547</td>\n",
       "      <td>MQMFNFLFSFIKSNIIYILLGSLLAFTAYRYISLEKSNAILIENEK...</td>\n",
       "      <td>MQMFNFLFSFIKSNIIYILLGSLLAFTAYRYISLEKSNAILIENEK...</td>\n",
       "      <td>False</td>\n",
       "      <td>False</td>\n",
       "      <td>True</td>\n",
       "    </tr>\n",
       "  </tbody>\n",
       "</table>\n",
       "</div>"
      ],
      "text/plain": [
       "     phage_acc    strand           cds  \\\n",
       "4  NC_016562.1  NEGATIVE  89202..89547   \n",
       "\n",
       "                                            sequence  \\\n",
       "4  MQMFNFLFSFIKSNIIYILLGSLLAFTAYRYISLEKSNAILIENEK...   \n",
       "\n",
       "                                       ncbi_sequence  ncbi_subset_of_rohit  \\\n",
       "4  MQMFNFLFSFIKSNIIYILLGSLLAFTAYRYISLEKSNAILIENEK...                 False   \n",
       "\n",
       "   rohit_subset_of_ncbi  begin_end_same  \n",
       "4                 False            True  "
      ]
     },
     "metadata": {},
     "output_type": "display_data"
    }
   ],
   "source": [
    "# Running function on all spanin sequence data\n",
    "data2['begin_end_same'] = [check_if_begin_end_same(rohit_calls[i], ncbi_calls[i]) for i, v in enumerate(rohit_calls)]\n",
    "display(data2[data2['begin_end_same'] == True])"
   ]
  },
  {
   "cell_type": "markdown",
   "id": "vital-baptist",
   "metadata": {},
   "source": [
    "### Find the *length* difference between two strings, then based on which string is a subset of one another, determine the new cds\n",
    "* Need to parse sequence and ncbi_sequence against one another, checking if one is a subset of another.\n",
    "* If so, determine the difference in lengths between the larger one and the smaller\n",
    "* Multiply this difference by three. The starting CDS should be approximately that many bases before or after the NCBI CDS (or +1 the NCBI CDS due to messed up indexing?)"
   ]
  },
  {
   "cell_type": "code",
   "execution_count": 488,
   "id": "married-special",
   "metadata": {},
   "outputs": [],
   "source": [
    "def length_difference_two_strings(str1: str, str2: str) -> int:\n",
    "    return abs(len(str1) - len(str2))"
   ]
  },
  {
   "cell_type": "code",
   "execution_count": 489,
   "id": "danish-tournament",
   "metadata": {},
   "outputs": [],
   "source": [
    "def check_if_subset(str1: str, str2: str) -> bool:\n",
    "    return str1 in str2"
   ]
  },
  {
   "cell_type": "code",
   "execution_count": 490,
   "id": "biblical-nerve",
   "metadata": {},
   "outputs": [],
   "source": [
    "def convert_ncbi_cds(cds: str) -> List[int]:\n",
    "    \"\"\"\n",
    "    Splits ncbi cds data (Ex: '123..6789') into a list of two integers\n",
    "    \"\"\"\n",
    "    return cds.split('..')"
   ]
  },
  {
   "cell_type": "code",
   "execution_count": 491,
   "id": "attempted-likelihood",
   "metadata": {},
   "outputs": [],
   "source": [
    "def find_new_cds(seq1_cds: str, seq1: str, seq2: str, strand: str) -> List[int]:\n",
    "    \"\"\"\n",
    "    Finds a new cds given a previous cds, the old protein sequence, and a new protein sequence IFF one is a subset of the other.\n",
    "    This assumes the annotations are in the same reading frame.\n",
    "    It also assumes seq2's annotations are correct and the seq1 ones are not.\n",
    "    \"\"\"\n",
    "    # Converts ncbi cds\n",
    "    cds: List[str] = seq1_cds.split('..')\n",
    "    cds: List[int] = [int(x) for x in cds]\n",
    "    \n",
    "    # Finds difference in length between two seqs\n",
    "    length_difference: int = length_difference_two_strings(seq1, seq2)\n",
    "    \n",
    "    # Determines which is a subset of the other\n",
    "    seq1_subset_of_seq2: bool = check_if_subset(seq1, seq2)\n",
    "    seq2_subset_of_seq1: bool = check_if_subset(seq2, seq1)\n",
    "    \n",
    "    # Checks if they begin the same or end the same (first and last 3 characters)\n",
    "    begin_same: bool = seq1.startswith(seq2[:3])\n",
    "    end_same: bool = seq1.endswith(seq2[-3:])\n",
    "    \n",
    "    # Determines how much to shift the cds\n",
    "    # Multiplies by 3, because cds indexes by nucleotides while passed seqs are protein seqs\n",
    "    cds_shift: int = length_difference*3\n",
    "    \n",
    "    if strand == 'POSITIVE':\n",
    "        # seq1 = ncbi_seq and seq2 = rohit_seq\n",
    "        if seq1_subset_of_seq2:\n",
    "            if begin_same:\n",
    "                # extends seq1 cds end to seq2 cds end\n",
    "                cds[1] = cds[1] + cds_shift\n",
    "                return cds\n",
    "\n",
    "            if end_same:\n",
    "                # extends seq1 cds start to seq2 cds start\n",
    "                cds[0] = cds[0] - cds_shift\n",
    "                return cds\n",
    "\n",
    "        elif seq2_subset_of_seq1:\n",
    "            # reduces seq1 cds end to the seq2 cds end\n",
    "            if begin_same:\n",
    "                cds[1] = cds[1] - cds_shift \n",
    "                return cds\n",
    "\n",
    "            if end_same:\n",
    "                # reduces seq1 cds to match seq2 cds start\n",
    "                cds[0] = cds[0] + cds_shift\n",
    "                return cds\n",
    "            \n",
    "    if strand == 'NEGATIVE':\n",
    "    # Flipped the signs for all. Need to verify that is correct.\n",
    "        if seq1_subset_of_seq2:\n",
    "            if begin_same:\n",
    "                cds[1] = cds[1] - cds_shift\n",
    "                return cds\n",
    "\n",
    "            if end_same:\n",
    "                cds[1] = cds[1] + cds_shift\n",
    "                return cds\n",
    "\n",
    "        elif seq2_subset_of_seq1:\n",
    "            if begin_same:\n",
    "                cds[0] = cds[0] + cds_shift \n",
    "                return cds\n",
    "\n",
    "            if end_same:\n",
    "                cds[1] = cds[1] - cds_shift\n",
    "                return cds\n",
    "        \n",
    "    if begin_same:\n",
    "        if end_same:\n",
    "            # Imperfectly checks if there are insertions or deletions\n",
    "            # Probably not worth writing the logic to handle this. Only one case in the data.\n",
    "            return [1,1]\n",
    "    \n",
    "        # Probably need entirely different logic to handle this case\n",
    "    if (not begin_same and not end_same):\n",
    "        return [0,0]\n",
    "    \n",
    "    else:\n",
    "        # these cases do not match because the ncbi_seq uses an uncommon start codon upstream of the one rohit selected (V, L or I mostly it looks like).\n",
    "        # Handling these by finding the difference in length between ncbi_sequence and sequence, and changing the new cds to match rohit's sequence\n",
    "        if strand == 'POSITIVE':\n",
    "            if end_same:\n",
    "                cds[0] = cds[0] - cds_shift \n",
    "                return cds\n",
    "        if strand == 'NEGATIVE':\n",
    "            if end_same:\n",
    "                cds[1] = cds[1] + cds_shift\n",
    "                return cds\n",
    "    \n",
    "    # failsafe to avoid returning None\n",
    "    return [2,2]"
   ]
  },
  {
   "cell_type": "markdown",
   "id": "economic-merit",
   "metadata": {},
   "source": [
    "## Applying the function"
   ]
  },
  {
   "cell_type": "code",
   "execution_count": 492,
   "id": "refined-exemption",
   "metadata": {},
   "outputs": [
    {
     "data": {
      "text/html": [
       "<div>\n",
       "<style scoped>\n",
       "    .dataframe tbody tr th:only-of-type {\n",
       "        vertical-align: middle;\n",
       "    }\n",
       "\n",
       "    .dataframe tbody tr th {\n",
       "        vertical-align: top;\n",
       "    }\n",
       "\n",
       "    .dataframe thead th {\n",
       "        text-align: right;\n",
       "    }\n",
       "</style>\n",
       "<table border=\"1\" class=\"dataframe\">\n",
       "  <thead>\n",
       "    <tr style=\"text-align: right;\">\n",
       "      <th></th>\n",
       "      <th>phage_acc</th>\n",
       "      <th>strand</th>\n",
       "      <th>cds</th>\n",
       "      <th>sequence</th>\n",
       "      <th>ncbi_sequence</th>\n",
       "      <th>ncbi_subset_of_rohit</th>\n",
       "      <th>rohit_subset_of_ncbi</th>\n",
       "      <th>begin_end_same</th>\n",
       "      <th>new_cds</th>\n",
       "    </tr>\n",
       "  </thead>\n",
       "  <tbody>\n",
       "    <tr>\n",
       "      <th>0</th>\n",
       "      <td>NC_020879.1</td>\n",
       "      <td>NEGATIVE</td>\n",
       "      <td>126555..126789</td>\n",
       "      <td>MLLTLSSLLSWLKSNALCIIIMVLMAIMMKNQHDEISTLKTSLESM...</td>\n",
       "      <td>MKNQHDEISTLKTSLESMKSFQTKSYENAKPVTEALLKSPKATKQM...</td>\n",
       "      <td>True</td>\n",
       "      <td>False</td>\n",
       "      <td>False</td>\n",
       "      <td>[126555, 126873]</td>\n",
       "    </tr>\n",
       "    <tr>\n",
       "      <th>1</th>\n",
       "      <td>NC_019543.1</td>\n",
       "      <td>NEGATIVE</td>\n",
       "      <td>124571..124826</td>\n",
       "      <td>MLLTLSSLLSWLKSNALYIIIMVLMAIMMKNQHDEISTLKNSLESM...</td>\n",
       "      <td>MVLMAIMMKNQHDEISTLKNSLESMKSFQTKSYENAKPVTEALLKS...</td>\n",
       "      <td>True</td>\n",
       "      <td>False</td>\n",
       "      <td>False</td>\n",
       "      <td>[124571, 124889]</td>\n",
       "    </tr>\n",
       "    <tr>\n",
       "      <th>3</th>\n",
       "      <td>NC_024142.1</td>\n",
       "      <td>POSITIVE</td>\n",
       "      <td>12841..13066</td>\n",
       "      <td>MKMLISKGWPYLLVVVLGATIYFWGNSNGQSTVQKKWDDQKVEDQK...</td>\n",
       "      <td>MQQSERRASVYKRQAEAGTFECRSLASHAARLDNSLEEGRRLVEEL...</td>\n",
       "      <td>True</td>\n",
       "      <td>False</td>\n",
       "      <td>False</td>\n",
       "      <td>[12559, 13066]</td>\n",
       "    </tr>\n",
       "    <tr>\n",
       "      <th>4</th>\n",
       "      <td>NC_016562.1</td>\n",
       "      <td>NEGATIVE</td>\n",
       "      <td>89202..89547</td>\n",
       "      <td>MQMFNFLFSFIKSNIIYILLGSLLAFTAYRYISLEKSNAILIENEK...</td>\n",
       "      <td>MQMFNFLFSFIKSNIIYILLGSLLAFTAYRYISLEKSNAILIENEK...</td>\n",
       "      <td>False</td>\n",
       "      <td>False</td>\n",
       "      <td>True</td>\n",
       "      <td>[1, 1]</td>\n",
       "    </tr>\n",
       "    <tr>\n",
       "      <th>6</th>\n",
       "      <td>NC_007805.1</td>\n",
       "      <td>POSITIVE</td>\n",
       "      <td>37910..38360</td>\n",
       "      <td>MRWVPWLVVALVAALVFWRLDHVTAQRNDLQAAVEQSAETITAMAQ...</td>\n",
       "      <td>MVALVAALVFWRLDHVTAQRNDLQAAVEQSAETITAMAQQAQRDTQ...</td>\n",
       "      <td>False</td>\n",
       "      <td>False</td>\n",
       "      <td>False</td>\n",
       "      <td>[37889, 38360]</td>\n",
       "    </tr>\n",
       "    <tr>\n",
       "      <th>7</th>\n",
       "      <td>KC139515.1</td>\n",
       "      <td>NEGATIVE</td>\n",
       "      <td>17634..17832</td>\n",
       "      <td>MTGLLARIKTGVLAALVFVVALFGVWRAGRTKGKQDQINNQNNDTL...</td>\n",
       "      <td>MALFGVWRAGRTKGKQDQINNQNNDTLREQANADKNVAEVHNEINK...</td>\n",
       "      <td>False</td>\n",
       "      <td>False</td>\n",
       "      <td>False</td>\n",
       "      <td>[17634, 17889]</td>\n",
       "    </tr>\n",
       "    <tr>\n",
       "      <th>8</th>\n",
       "      <td>NC_010392.1</td>\n",
       "      <td>NEGATIVE</td>\n",
       "      <td>30405..30858</td>\n",
       "      <td>MMFNWKTMFVGLLLVSLIVAGRLANHYRNNAITYKYQRDTATHNLK...</td>\n",
       "      <td>MFVGLLLVSLIVAGRLANHYRNNAITYKYQRDTATHNLKLANETIT...</td>\n",
       "      <td>True</td>\n",
       "      <td>False</td>\n",
       "      <td>False</td>\n",
       "      <td>[30405, 30879]</td>\n",
       "    </tr>\n",
       "  </tbody>\n",
       "</table>\n",
       "</div>"
      ],
      "text/plain": [
       "     phage_acc    strand             cds  \\\n",
       "0  NC_020879.1  NEGATIVE  126555..126789   \n",
       "1  NC_019543.1  NEGATIVE  124571..124826   \n",
       "3  NC_024142.1  POSITIVE    12841..13066   \n",
       "4  NC_016562.1  NEGATIVE    89202..89547   \n",
       "6  NC_007805.1  POSITIVE    37910..38360   \n",
       "7   KC139515.1  NEGATIVE    17634..17832   \n",
       "8  NC_010392.1  NEGATIVE    30405..30858   \n",
       "\n",
       "                                            sequence  \\\n",
       "0  MLLTLSSLLSWLKSNALCIIIMVLMAIMMKNQHDEISTLKTSLESM...   \n",
       "1  MLLTLSSLLSWLKSNALYIIIMVLMAIMMKNQHDEISTLKNSLESM...   \n",
       "3  MKMLISKGWPYLLVVVLGATIYFWGNSNGQSTVQKKWDDQKVEDQK...   \n",
       "4  MQMFNFLFSFIKSNIIYILLGSLLAFTAYRYISLEKSNAILIENEK...   \n",
       "6  MRWVPWLVVALVAALVFWRLDHVTAQRNDLQAAVEQSAETITAMAQ...   \n",
       "7  MTGLLARIKTGVLAALVFVVALFGVWRAGRTKGKQDQINNQNNDTL...   \n",
       "8  MMFNWKTMFVGLLLVSLIVAGRLANHYRNNAITYKYQRDTATHNLK...   \n",
       "\n",
       "                                       ncbi_sequence  ncbi_subset_of_rohit  \\\n",
       "0  MKNQHDEISTLKTSLESMKSFQTKSYENAKPVTEALLKSPKATKQM...                  True   \n",
       "1  MVLMAIMMKNQHDEISTLKNSLESMKSFQTKSYENAKPVTEALLKS...                  True   \n",
       "3  MQQSERRASVYKRQAEAGTFECRSLASHAARLDNSLEEGRRLVEEL...                  True   \n",
       "4  MQMFNFLFSFIKSNIIYILLGSLLAFTAYRYISLEKSNAILIENEK...                 False   \n",
       "6  MVALVAALVFWRLDHVTAQRNDLQAAVEQSAETITAMAQQAQRDTQ...                 False   \n",
       "7  MALFGVWRAGRTKGKQDQINNQNNDTLREQANADKNVAEVHNEINK...                 False   \n",
       "8  MFVGLLLVSLIVAGRLANHYRNNAITYKYQRDTATHNLKLANETIT...                  True   \n",
       "\n",
       "   rohit_subset_of_ncbi  begin_end_same           new_cds  \n",
       "0                 False           False  [126555, 126873]  \n",
       "1                 False           False  [124571, 124889]  \n",
       "3                 False           False    [12559, 13066]  \n",
       "4                 False            True            [1, 1]  \n",
       "6                 False           False    [37889, 38360]  \n",
       "7                 False           False    [17634, 17889]  \n",
       "8                 False           False    [30405, 30879]  "
      ]
     },
     "execution_count": 492,
     "metadata": {},
     "output_type": "execute_result"
    }
   ],
   "source": [
    "data2['new_cds'] = data2.apply(lambda x: find_new_cds(x['cds'], x['ncbi_sequence'], x['sequence'], x['strand']), axis=1)\n",
    "data2.head(7)"
   ]
  },
  {
   "cell_type": "code",
   "execution_count": 493,
   "id": "worth-regression",
   "metadata": {
    "scrolled": false
   },
   "outputs": [
    {
     "data": {
      "text/html": [
       "<div>\n",
       "<style scoped>\n",
       "    .dataframe tbody tr th:only-of-type {\n",
       "        vertical-align: middle;\n",
       "    }\n",
       "\n",
       "    .dataframe tbody tr th {\n",
       "        vertical-align: top;\n",
       "    }\n",
       "\n",
       "    .dataframe thead th {\n",
       "        text-align: right;\n",
       "    }\n",
       "</style>\n",
       "<table border=\"1\" class=\"dataframe\">\n",
       "  <thead>\n",
       "    <tr style=\"text-align: right;\">\n",
       "      <th></th>\n",
       "      <th>phage_acc</th>\n",
       "      <th>strand</th>\n",
       "      <th>cds</th>\n",
       "      <th>sequence</th>\n",
       "      <th>ncbi_sequence</th>\n",
       "      <th>ncbi_subset_of_rohit</th>\n",
       "      <th>rohit_subset_of_ncbi</th>\n",
       "      <th>begin_end_same</th>\n",
       "      <th>new_cds</th>\n",
       "    </tr>\n",
       "  </thead>\n",
       "  <tbody>\n",
       "  </tbody>\n",
       "</table>\n",
       "</div>"
      ],
      "text/plain": [
       "Empty DataFrame\n",
       "Columns: [phage_acc, strand, cds, sequence, ncbi_sequence, ncbi_subset_of_rohit, rohit_subset_of_ncbi, begin_end_same, new_cds]\n",
       "Index: []"
      ]
     },
     "execution_count": 493,
     "metadata": {},
     "output_type": "execute_result"
    }
   ],
   "source": [
    "data2[data2['new_cds'].isnull()]"
   ]
  },
  {
   "cell_type": "code",
   "execution_count": 494,
   "id": "subsequent-breeding",
   "metadata": {},
   "outputs": [
    {
     "data": {
      "text/html": [
       "<div>\n",
       "<style scoped>\n",
       "    .dataframe tbody tr th:only-of-type {\n",
       "        vertical-align: middle;\n",
       "    }\n",
       "\n",
       "    .dataframe tbody tr th {\n",
       "        vertical-align: top;\n",
       "    }\n",
       "\n",
       "    .dataframe thead th {\n",
       "        text-align: right;\n",
       "    }\n",
       "</style>\n",
       "<table border=\"1\" class=\"dataframe\">\n",
       "  <thead>\n",
       "    <tr style=\"text-align: right;\">\n",
       "      <th></th>\n",
       "      <th>host</th>\n",
       "      <th>host_taxid</th>\n",
       "      <th>phage_acc</th>\n",
       "      <th>protein_acc</th>\n",
       "      <th>protein_gi</th>\n",
       "      <th>cds</th>\n",
       "      <th>strand</th>\n",
       "      <th>function</th>\n",
       "      <th>spanin_type</th>\n",
       "      <th>property_feature</th>\n",
       "      <th>sequence</th>\n",
       "      <th>ncbi_sequence</th>\n",
       "      <th>same</th>\n",
       "    </tr>\n",
       "  </thead>\n",
       "  <tbody>\n",
       "    <tr>\n",
       "      <th>62</th>\n",
       "      <td>Pseudomonas</td>\n",
       "      <td>286</td>\n",
       "      <td>NC_020203.1</td>\n",
       "      <td>YP_007392789.1</td>\n",
       "      <td>448245071</td>\n",
       "      <td>12285..12399</td>\n",
       "      <td>POSITIVE</td>\n",
       "      <td>OSPANIN</td>\n",
       "      <td>ovl</td>\n",
       "      <td>LIPO:17..20</td>\n",
       "      <td>MPWPKPLLIALPAAFLLASCSSSKPPVNVPPRPLPAALAQPCPTPV...</td>\n",
       "      <td>MTDDSPDATAIALKQLYDQYGVCAGLHWDTVRHLQKD</td>\n",
       "      <td>N</td>\n",
       "    </tr>\n",
       "    <tr>\n",
       "      <th>63</th>\n",
       "      <td>Pseudomonas</td>\n",
       "      <td>286</td>\n",
       "      <td>JN811560.1</td>\n",
       "      <td>AEY99484.1</td>\n",
       "      <td>374112688</td>\n",
       "      <td>12561..12675</td>\n",
       "      <td>POSITIVE</td>\n",
       "      <td>OSPANIN</td>\n",
       "      <td>ovl</td>\n",
       "      <td>LIPO:17..20</td>\n",
       "      <td>MPWPKPLLIALPAAFLLASCSSSKPPVNVPPRPLPAALAQPCPTPV...</td>\n",
       "      <td>MTDDSPDATAIALKQLYDQYGLCAGLHWDTVRHLQKD</td>\n",
       "      <td>N</td>\n",
       "    </tr>\n",
       "    <tr>\n",
       "      <th>64</th>\n",
       "      <td>Pseudomonas</td>\n",
       "      <td>286</td>\n",
       "      <td>NC_020198.1</td>\n",
       "      <td>YP_007392334.1</td>\n",
       "      <td>448244611</td>\n",
       "      <td>12392..12506</td>\n",
       "      <td>POSITIVE</td>\n",
       "      <td>OSPANIN</td>\n",
       "      <td>ovl</td>\n",
       "      <td>LIPO:17..20</td>\n",
       "      <td>MPWPKPLLIALPAAFLLASCSSSKPPVNVPPRPLPAALAQPCPTPV...</td>\n",
       "      <td>MTDDSPDATAIALKQLYDQYGLCAGLHWDTVRHLQKD</td>\n",
       "      <td>N</td>\n",
       "    </tr>\n",
       "    <tr>\n",
       "      <th>65</th>\n",
       "      <td>Pseudomonas</td>\n",
       "      <td>286</td>\n",
       "      <td>NC_020202.1</td>\n",
       "      <td>YP_007392731.1</td>\n",
       "      <td>448245012</td>\n",
       "      <td>12344..12458</td>\n",
       "      <td>POSITIVE</td>\n",
       "      <td>OSPANIN</td>\n",
       "      <td>ovl</td>\n",
       "      <td>LIPO:17..20</td>\n",
       "      <td>MPWPKPLLIALPAAFLLASCSSSKPPVNVPPRPLPAALAQPCQTPV...</td>\n",
       "      <td>MTDDSPDAAAIALKQLYDQYGACAGLHWDTVRHLQKD</td>\n",
       "      <td>N</td>\n",
       "    </tr>\n",
       "    <tr>\n",
       "      <th>66</th>\n",
       "      <td>Pseudomonas</td>\n",
       "      <td>286</td>\n",
       "      <td>NC_020200.1</td>\n",
       "      <td>YP_007392432.1</td>\n",
       "      <td>448244711</td>\n",
       "      <td>11426..11540</td>\n",
       "      <td>POSITIVE</td>\n",
       "      <td>OSPANIN</td>\n",
       "      <td>ovl</td>\n",
       "      <td>LIPO:17..20</td>\n",
       "      <td>MPWPKPLLIALPAAFLLASCSSSKPPVNVPPRPLPAALAQPCPTPV...</td>\n",
       "      <td>MTDDSPDAAAIALKQLYDQYGACAGLHWDTVRHFQKD</td>\n",
       "      <td>N</td>\n",
       "    </tr>\n",
       "  </tbody>\n",
       "</table>\n",
       "</div>"
      ],
      "text/plain": [
       "           host  host_taxid    phage_acc     protein_acc  protein_gi  \\\n",
       "62  Pseudomonas         286  NC_020203.1  YP_007392789.1   448245071   \n",
       "63  Pseudomonas         286   JN811560.1      AEY99484.1   374112688   \n",
       "64  Pseudomonas         286  NC_020198.1  YP_007392334.1   448244611   \n",
       "65  Pseudomonas         286  NC_020202.1  YP_007392731.1   448245012   \n",
       "66  Pseudomonas         286  NC_020200.1  YP_007392432.1   448244711   \n",
       "\n",
       "             cds    strand function spanin_type property_feature  \\\n",
       "62  12285..12399  POSITIVE  OSPANIN         ovl      LIPO:17..20   \n",
       "63  12561..12675  POSITIVE  OSPANIN         ovl      LIPO:17..20   \n",
       "64  12392..12506  POSITIVE  OSPANIN         ovl      LIPO:17..20   \n",
       "65  12344..12458  POSITIVE  OSPANIN         ovl      LIPO:17..20   \n",
       "66  11426..11540  POSITIVE  OSPANIN         ovl      LIPO:17..20   \n",
       "\n",
       "                                             sequence  \\\n",
       "62  MPWPKPLLIALPAAFLLASCSSSKPPVNVPPRPLPAALAQPCPTPV...   \n",
       "63  MPWPKPLLIALPAAFLLASCSSSKPPVNVPPRPLPAALAQPCPTPV...   \n",
       "64  MPWPKPLLIALPAAFLLASCSSSKPPVNVPPRPLPAALAQPCPTPV...   \n",
       "65  MPWPKPLLIALPAAFLLASCSSSKPPVNVPPRPLPAALAQPCQTPV...   \n",
       "66  MPWPKPLLIALPAAFLLASCSSSKPPVNVPPRPLPAALAQPCPTPV...   \n",
       "\n",
       "                            ncbi_sequence same  \n",
       "62  MTDDSPDATAIALKQLYDQYGVCAGLHWDTVRHLQKD    N  \n",
       "63  MTDDSPDATAIALKQLYDQYGLCAGLHWDTVRHLQKD    N  \n",
       "64  MTDDSPDATAIALKQLYDQYGLCAGLHWDTVRHLQKD    N  \n",
       "65  MTDDSPDAAAIALKQLYDQYGACAGLHWDTVRHLQKD    N  \n",
       "66  MTDDSPDAAAIALKQLYDQYGACAGLHWDTVRHFQKD    N  "
      ]
     },
     "execution_count": 494,
     "metadata": {},
     "output_type": "execute_result"
    }
   ],
   "source": [
    "data.loc[62:66]"
   ]
  },
  {
   "cell_type": "code",
   "execution_count": 495,
   "id": "aquatic-screw",
   "metadata": {},
   "outputs": [
    {
     "data": {
      "text/plain": [
       "[['126555', '126789'],\n",
       " ['124571', '124826'],\n",
       " ['12841', '13066'],\n",
       " ['89202', '89547'],\n",
       " ['37910', '38360'],\n",
       " ['17634', '17832'],\n",
       " ['30405', '30858'],\n",
       " ['17493', '17973'],\n",
       " ['132794', '133061'],\n",
       " ['59169', '59394'],\n",
       " ['26697', '26961'],\n",
       " ['23912', '24308'],\n",
       " ['11928', '12216'],\n",
       " ['36334', '36736'],\n",
       " ['6803', '7103'],\n",
       " ['20330', '20630'],\n",
       " ['41067', '41313'],\n",
       " ['22226', '22775'],\n",
       " ['32853', '33276'],\n",
       " ['42438', '42759'],\n",
       " ['23635', '23845'],\n",
       " ['167032', '167455'],\n",
       " ['24156', '24534'],\n",
       " ['134824', '135121'],\n",
       " ['11233', '11458'],\n",
       " ['18144', '18336'],\n",
       " ['46829', '47042'],\n",
       " ['129054', '129321'],\n",
       " ['43580', '43853'],\n",
       " ['9447', '9939'],\n",
       " ['137726', '138050'],\n",
       " ['136877', '137234'],\n",
       " ['58896', '59115'],\n",
       " ['28053', '28608'],\n",
       " ['132260', '132545'],\n",
       " ['234503', '234857'],\n",
       " ['23239', '23539'],\n",
       " ['210927', '211197'],\n",
       " ['132642', '132858'],\n",
       " ['35414', '35684'],\n",
       " ['9381', '9528'],\n",
       " ['16184', '16514'],\n",
       " ['79273', '79471'],\n",
       " ['36139', '36415'],\n",
       " ['4906', '5065'],\n",
       " ['115946', '116180'],\n",
       " ['5604', '6030'],\n",
       " ['4907', '5066'],\n",
       " ['12341', '12461'],\n",
       " ['2293', '2491'],\n",
       " ['39487', '39685'],\n",
       " ['41536', '41719'],\n",
       " ['39172', '39370'],\n",
       " ['17504', '17687'],\n",
       " ['46778', '46928'],\n",
       " ['12285', '12399'],\n",
       " ['12561', '12675'],\n",
       " ['12392', '12506'],\n",
       " ['12344', '12458'],\n",
       " ['11426', '11540'],\n",
       " ['11422', '11536'],\n",
       " ['50520', '50652'],\n",
       " ['36645', '36921'],\n",
       " ['34587', '34761'],\n",
       " ['34442', '34568'],\n",
       " ['38218', '38710'],\n",
       " ['12475', '12604'],\n",
       " ['36023', '36176'],\n",
       " ['40435', '40609'],\n",
       " ['24318', '24450'],\n",
       " ['24032', '24245'],\n",
       " ['6837', '7050'],\n",
       " ['43195', '43435'],\n",
       " ['41369', '41549'],\n",
       " ['13794', '13980'],\n",
       " ['8346', '8475'],\n",
       " ['35272', '35446'],\n",
       " ['903', '1020'],\n",
       " ['48191', '48293'],\n",
       " ['14934', '15114'],\n",
       " ['18310', '18466'],\n",
       " ['412', '688'],\n",
       " ['41803', '41962'],\n",
       " ['10798', '11119'],\n",
       " ['23051', '23264'],\n",
       " ['23651', '23795'],\n",
       " ['6599', '6743'],\n",
       " ['6290', '6434'],\n",
       " ['38716', '39058'],\n",
       " ['0', '117'],\n",
       " ['97681', '97978'],\n",
       " ['41005', '41188'],\n",
       " ['59448', '59820'],\n",
       " ['30956', '31124'],\n",
       " ['25882', '26137'],\n",
       " ['6326', '6500'],\n",
       " ['6331', '6478'],\n",
       " ['6338', '6482'],\n",
       " ['37640', '37760'],\n",
       " ['48826', '48901'],\n",
       " ['131970', '132120'],\n",
       " ['234882', '235176'],\n",
       " ['34458', '34713'],\n",
       " ['14606', '14918'],\n",
       " ['41131', '41452'],\n",
       " ['44760', '45078'],\n",
       " ['20740', '21175'],\n",
       " ['629', '968'],\n",
       " ['41476', '41839']]"
      ]
     },
     "execution_count": 495,
     "metadata": {},
     "output_type": "execute_result"
    }
   ],
   "source": [
    "list(data2['cds'].apply(lambda x: x.split('..')))"
   ]
  },
  {
   "cell_type": "code",
   "execution_count": 496,
   "id": "clinical-picnic",
   "metadata": {
    "scrolled": true
   },
   "outputs": [],
   "source": [
    "from Bio import Entrez\n",
    "from Bio import SeqIO\n",
    "\n",
    "\n",
    "class GetPhageSeq:\n",
    "    \"\"\"\n",
    "    Connnects to the NUCCORE database and retrieves phage sequence.\n",
    "        Email : Email used by NCBI to notifiy with errors and problems\n",
    "        acc : Accession use to query database\n",
    "        db : database\n",
    "    \"\"\"\n",
    "    def __init__(self,email,acc,db):\n",
    "        self.email = email\n",
    "        self.acc = acc\n",
    "        self.db = db\n",
    "        Entrez.email = self.email\n",
    "    \n",
    "    def get_and_return_sequence(self, ret_type):\n",
    "        \"\"\"\n",
    "        Uses input params to retrieve the sequence from NCBI\n",
    "        \"\"\"\n",
    "\n",
    "        sequence = Entrez.efetch(db=self.db, id=self.acc, rettype=ret_type, retmode=\"text\")\n",
    "        read_fasta = str(SeqIO.read(sequence,\"fasta\").seq)\n",
    "\n",
    "        return read_fasta\n",
    "\n",
    "\n",
    "\n",
    "# if __name__ == '__main__':\n",
    "\n",
    "#     payload = {\n",
    "#         \"email\" : \"curtisross@tamu.edu\",\n",
    "#         \"acc\" : \"NC_001416.1\",\n",
    "#         \"db\" : \"nuccore\"\n",
    "#     }\n",
    "\n",
    "    # gps = GetPhageSeq(**payload).get_and_return_sequence(ret_type=\"fasta\")\n",
    "    #sequence = str(SeqIO.read(gps,\"fasta\").seq)\n",
    "\n",
    "\n",
    "    # print(gps)\n",
    "    # print(len(gps))\n",
    "    # print(sequence)"
   ]
  },
  {
   "cell_type": "code",
   "execution_count": 497,
   "id": "ongoing-signal",
   "metadata": {},
   "outputs": [],
   "source": [
    "payload = {\n",
    "        \"email\" : \"curtisross@tamu.edu\",\n",
    "        \"acc\" : \"NC_020879.1\",\n",
    "        \"db\" : \"nuccore\"\n",
    "    }\n",
    "from Bio.Seq import Seq\n",
    "\n",
    "phage1 = Seq(GetPhageSeq(**payload).get_and_return_sequence(ret_type=\"fasta\"))\n"
   ]
  },
  {
   "cell_type": "markdown",
   "id": "noticed-coverage",
   "metadata": {},
   "source": [
    "# Phage \"NC_007805.1\" "
   ]
  },
  {
   "cell_type": "code",
   "execution_count": 498,
   "id": "selective-energy",
   "metadata": {},
   "outputs": [],
   "source": [
    "payload3 = {\n",
    "        \"email\" : \"curtisross@tamu.edu\",\n",
    "        \"acc\" : \"NC_007805.1\",\n",
    "        \"db\" : \"nuccore\"\n",
    "    }\n",
    "phage3pos_strand = Seq(GetPhageSeq(**payload3).get_and_return_sequence(ret_type=\"fasta\"))"
   ]
  },
  {
   "cell_type": "code",
   "execution_count": 499,
   "id": "major-simon",
   "metadata": {},
   "outputs": [
    {
     "data": {
      "text/plain": [
       "'VVALVAALVFWRLDHVTAQRNDLQAAVEQSAETITAMAQQAQRDTQAQVQTDALARTYQAALQASHEENQLRRDAIGTGARVVYVKARCPAGGVHQAPGATGSADAGRAVLAAADGQVVSDLRAGVERRELMIAALRKHIAGLPRYCRR'"
      ]
     },
     "execution_count": 499,
     "metadata": {},
     "output_type": "execute_result"
    }
   ],
   "source": [
    "str(phage3pos_strand[37910:38360].translate(to_stop=True))"
   ]
  },
  {
   "cell_type": "code",
   "execution_count": 500,
   "id": "important-klein",
   "metadata": {},
   "outputs": [
    {
     "data": {
      "text/plain": [
       "'MRWVPWLVVALVAALVFWRLDHVTAQRNDLQAAVEQSAETITAMAQQAQRDTQAQVQTDALARTYQAALQASHEENQLRRDAIGTGARVVYVKARCPAGGVHQAPGATGSADAGRAVLAAADGQVVSDLRAGVERRELMIAALRKHIAGLPRYCRR'"
      ]
     },
     "execution_count": 500,
     "metadata": {},
     "output_type": "execute_result"
    }
   ],
   "source": [
    "str(phage3pos_strand[37889:38360].translate(to_stop=True))"
   ]
  },
  {
   "cell_type": "code",
   "execution_count": 501,
   "id": "extensive-criticism",
   "metadata": {},
   "outputs": [
    {
     "data": {
      "text/html": [
       "<div>\n",
       "<style scoped>\n",
       "    .dataframe tbody tr th:only-of-type {\n",
       "        vertical-align: middle;\n",
       "    }\n",
       "\n",
       "    .dataframe tbody tr th {\n",
       "        vertical-align: top;\n",
       "    }\n",
       "\n",
       "    .dataframe thead th {\n",
       "        text-align: right;\n",
       "    }\n",
       "</style>\n",
       "<table border=\"1\" class=\"dataframe\">\n",
       "  <thead>\n",
       "    <tr style=\"text-align: right;\">\n",
       "      <th></th>\n",
       "      <th>phage_acc</th>\n",
       "      <th>strand</th>\n",
       "      <th>cds</th>\n",
       "      <th>sequence</th>\n",
       "      <th>ncbi_sequence</th>\n",
       "      <th>ncbi_subset_of_rohit</th>\n",
       "      <th>rohit_subset_of_ncbi</th>\n",
       "      <th>begin_end_same</th>\n",
       "      <th>new_cds</th>\n",
       "    </tr>\n",
       "  </thead>\n",
       "  <tbody>\n",
       "    <tr>\n",
       "      <th>0</th>\n",
       "      <td>NC_020879.1</td>\n",
       "      <td>NEGATIVE</td>\n",
       "      <td>126555..126789</td>\n",
       "      <td>MLLTLSSLLSWLKSNALCIIIMVLMAIMMKNQHDEISTLKTSLESM...</td>\n",
       "      <td>MKNQHDEISTLKTSLESMKSFQTKSYENAKPVTEALLKSPKATKQM...</td>\n",
       "      <td>True</td>\n",
       "      <td>False</td>\n",
       "      <td>False</td>\n",
       "      <td>[126555, 126873]</td>\n",
       "    </tr>\n",
       "    <tr>\n",
       "      <th>1</th>\n",
       "      <td>NC_019543.1</td>\n",
       "      <td>NEGATIVE</td>\n",
       "      <td>124571..124826</td>\n",
       "      <td>MLLTLSSLLSWLKSNALYIIIMVLMAIMMKNQHDEISTLKNSLESM...</td>\n",
       "      <td>MVLMAIMMKNQHDEISTLKNSLESMKSFQTKSYENAKPVTEALLKS...</td>\n",
       "      <td>True</td>\n",
       "      <td>False</td>\n",
       "      <td>False</td>\n",
       "      <td>[124571, 124889]</td>\n",
       "    </tr>\n",
       "    <tr>\n",
       "      <th>3</th>\n",
       "      <td>NC_024142.1</td>\n",
       "      <td>POSITIVE</td>\n",
       "      <td>12841..13066</td>\n",
       "      <td>MKMLISKGWPYLLVVVLGATIYFWGNSNGQSTVQKKWDDQKVEDQK...</td>\n",
       "      <td>MQQSERRASVYKRQAEAGTFECRSLASHAARLDNSLEEGRRLVEEL...</td>\n",
       "      <td>True</td>\n",
       "      <td>False</td>\n",
       "      <td>False</td>\n",
       "      <td>[12559, 13066]</td>\n",
       "    </tr>\n",
       "    <tr>\n",
       "      <th>4</th>\n",
       "      <td>NC_016562.1</td>\n",
       "      <td>NEGATIVE</td>\n",
       "      <td>89202..89547</td>\n",
       "      <td>MQMFNFLFSFIKSNIIYILLGSLLAFTAYRYISLEKSNAILIENEK...</td>\n",
       "      <td>MQMFNFLFSFIKSNIIYILLGSLLAFTAYRYISLEKSNAILIENEK...</td>\n",
       "      <td>False</td>\n",
       "      <td>False</td>\n",
       "      <td>True</td>\n",
       "      <td>[1, 1]</td>\n",
       "    </tr>\n",
       "    <tr>\n",
       "      <th>6</th>\n",
       "      <td>NC_007805.1</td>\n",
       "      <td>POSITIVE</td>\n",
       "      <td>37910..38360</td>\n",
       "      <td>MRWVPWLVVALVAALVFWRLDHVTAQRNDLQAAVEQSAETITAMAQ...</td>\n",
       "      <td>MVALVAALVFWRLDHVTAQRNDLQAAVEQSAETITAMAQQAQRDTQ...</td>\n",
       "      <td>False</td>\n",
       "      <td>False</td>\n",
       "      <td>False</td>\n",
       "      <td>[37889, 38360]</td>\n",
       "    </tr>\n",
       "    <tr>\n",
       "      <th>...</th>\n",
       "      <td>...</td>\n",
       "      <td>...</td>\n",
       "      <td>...</td>\n",
       "      <td>...</td>\n",
       "      <td>...</td>\n",
       "      <td>...</td>\n",
       "      <td>...</td>\n",
       "      <td>...</td>\n",
       "      <td>...</td>\n",
       "    </tr>\n",
       "    <tr>\n",
       "      <th>116</th>\n",
       "      <td>NC_021794.1</td>\n",
       "      <td>POSITIVE</td>\n",
       "      <td>41131..41452</td>\n",
       "      <td>MEKTSNTSKNFMIVILMMLFSIACFAQDKNYVSVHRDSLYNALLNI...</td>\n",
       "      <td>MMLFSIACFAQDKNYVSVHRDSLYNALLNISELKVENAFLRKKNDN...</td>\n",
       "      <td>True</td>\n",
       "      <td>False</td>\n",
       "      <td>False</td>\n",
       "      <td>[41083, 41452]</td>\n",
       "    </tr>\n",
       "    <tr>\n",
       "      <th>117</th>\n",
       "      <td>NC_021789.1</td>\n",
       "      <td>POSITIVE</td>\n",
       "      <td>44760..45078</td>\n",
       "      <td>MEKTSNTSKNFMIVILMMLFSIACFAQDKNYVSVHRDSLYNALLNI...</td>\n",
       "      <td>MLFSIACFAQDKNYVSVHRDSLYNALLNISELKVENAFLRKKNDNQ...</td>\n",
       "      <td>True</td>\n",
       "      <td>False</td>\n",
       "      <td>False</td>\n",
       "      <td>[44709, 45078]</td>\n",
       "    </tr>\n",
       "    <tr>\n",
       "      <th>119</th>\n",
       "      <td>NC_019540.1</td>\n",
       "      <td>NEGATIVE</td>\n",
       "      <td>20740..21175</td>\n",
       "      <td>MKRLRQVLLMLGMVLALSGCSAVTSAVTDRLAGGDKPAVGIDTEIV...</td>\n",
       "      <td>MLSRLCQKHLDLQGTTMKRLRQVLLMLGMVLALSGCSAVTSAVTDR...</td>\n",
       "      <td>False</td>\n",
       "      <td>True</td>\n",
       "      <td>False</td>\n",
       "      <td>[20740, 21127]</td>\n",
       "    </tr>\n",
       "    <tr>\n",
       "      <th>120</th>\n",
       "      <td>NC_024791.1</td>\n",
       "      <td>NEGATIVE</td>\n",
       "      <td>629..968</td>\n",
       "      <td>MTYVRNKMKSLLVLMGLVLALSTNGCSSLTPVEIAKDVLLPDQQSG...</td>\n",
       "      <td>MGLVLALSTNGCSSLTPVEIAKDVLLPDQQSGITVDTQIGDKEYAL...</td>\n",
       "      <td>True</td>\n",
       "      <td>False</td>\n",
       "      <td>False</td>\n",
       "      <td>[629, 1010]</td>\n",
       "    </tr>\n",
       "    <tr>\n",
       "      <th>121</th>\n",
       "      <td>NC_007603.1</td>\n",
       "      <td>POSITIVE</td>\n",
       "      <td>41476..41839</td>\n",
       "      <td>MLKWIAALVMCVALSGCSATSALTGLIGSKPEISAQAGAENNKVGV...</td>\n",
       "      <td>MCVALSGCSATSALTGLIGSKPEISAQAGAENNKVGVGLTNKVDSS...</td>\n",
       "      <td>True</td>\n",
       "      <td>False</td>\n",
       "      <td>False</td>\n",
       "      <td>[41449, 41839]</td>\n",
       "    </tr>\n",
       "  </tbody>\n",
       "</table>\n",
       "<p>109 rows × 9 columns</p>\n",
       "</div>"
      ],
      "text/plain": [
       "       phage_acc    strand             cds  \\\n",
       "0    NC_020879.1  NEGATIVE  126555..126789   \n",
       "1    NC_019543.1  NEGATIVE  124571..124826   \n",
       "3    NC_024142.1  POSITIVE    12841..13066   \n",
       "4    NC_016562.1  NEGATIVE    89202..89547   \n",
       "6    NC_007805.1  POSITIVE    37910..38360   \n",
       "..           ...       ...             ...   \n",
       "116  NC_021794.1  POSITIVE    41131..41452   \n",
       "117  NC_021789.1  POSITIVE    44760..45078   \n",
       "119  NC_019540.1  NEGATIVE    20740..21175   \n",
       "120  NC_024791.1  NEGATIVE        629..968   \n",
       "121  NC_007603.1  POSITIVE    41476..41839   \n",
       "\n",
       "                                              sequence  \\\n",
       "0    MLLTLSSLLSWLKSNALCIIIMVLMAIMMKNQHDEISTLKTSLESM...   \n",
       "1    MLLTLSSLLSWLKSNALYIIIMVLMAIMMKNQHDEISTLKNSLESM...   \n",
       "3    MKMLISKGWPYLLVVVLGATIYFWGNSNGQSTVQKKWDDQKVEDQK...   \n",
       "4    MQMFNFLFSFIKSNIIYILLGSLLAFTAYRYISLEKSNAILIENEK...   \n",
       "6    MRWVPWLVVALVAALVFWRLDHVTAQRNDLQAAVEQSAETITAMAQ...   \n",
       "..                                                 ...   \n",
       "116  MEKTSNTSKNFMIVILMMLFSIACFAQDKNYVSVHRDSLYNALLNI...   \n",
       "117  MEKTSNTSKNFMIVILMMLFSIACFAQDKNYVSVHRDSLYNALLNI...   \n",
       "119  MKRLRQVLLMLGMVLALSGCSAVTSAVTDRLAGGDKPAVGIDTEIV...   \n",
       "120  MTYVRNKMKSLLVLMGLVLALSTNGCSSLTPVEIAKDVLLPDQQSG...   \n",
       "121  MLKWIAALVMCVALSGCSATSALTGLIGSKPEISAQAGAENNKVGV...   \n",
       "\n",
       "                                         ncbi_sequence  ncbi_subset_of_rohit  \\\n",
       "0    MKNQHDEISTLKTSLESMKSFQTKSYENAKPVTEALLKSPKATKQM...                  True   \n",
       "1    MVLMAIMMKNQHDEISTLKNSLESMKSFQTKSYENAKPVTEALLKS...                  True   \n",
       "3    MQQSERRASVYKRQAEAGTFECRSLASHAARLDNSLEEGRRLVEEL...                  True   \n",
       "4    MQMFNFLFSFIKSNIIYILLGSLLAFTAYRYISLEKSNAILIENEK...                 False   \n",
       "6    MVALVAALVFWRLDHVTAQRNDLQAAVEQSAETITAMAQQAQRDTQ...                 False   \n",
       "..                                                 ...                   ...   \n",
       "116  MMLFSIACFAQDKNYVSVHRDSLYNALLNISELKVENAFLRKKNDN...                  True   \n",
       "117  MLFSIACFAQDKNYVSVHRDSLYNALLNISELKVENAFLRKKNDNQ...                  True   \n",
       "119  MLSRLCQKHLDLQGTTMKRLRQVLLMLGMVLALSGCSAVTSAVTDR...                 False   \n",
       "120  MGLVLALSTNGCSSLTPVEIAKDVLLPDQQSGITVDTQIGDKEYAL...                  True   \n",
       "121  MCVALSGCSATSALTGLIGSKPEISAQAGAENNKVGVGLTNKVDSS...                  True   \n",
       "\n",
       "     rohit_subset_of_ncbi  begin_end_same           new_cds  \n",
       "0                   False           False  [126555, 126873]  \n",
       "1                   False           False  [124571, 124889]  \n",
       "3                   False           False    [12559, 13066]  \n",
       "4                   False            True            [1, 1]  \n",
       "6                   False           False    [37889, 38360]  \n",
       "..                    ...             ...               ...  \n",
       "116                 False           False    [41083, 41452]  \n",
       "117                 False           False    [44709, 45078]  \n",
       "119                  True           False    [20740, 21127]  \n",
       "120                 False           False       [629, 1010]  \n",
       "121                 False           False    [41449, 41839]  \n",
       "\n",
       "[109 rows x 9 columns]"
      ]
     },
     "execution_count": 501,
     "metadata": {},
     "output_type": "execute_result"
    }
   ],
   "source": [
    "data2"
   ]
  },
  {
   "cell_type": "code",
   "execution_count": 502,
   "id": "israeli-airplane",
   "metadata": {},
   "outputs": [],
   "source": [
    "def test_phage_sequence(acc: str, cds: str, new: List[int], strand: str, rohitseq: str):\n",
    "           \n",
    "    payload = {\n",
    "        \"email\" : \"curtisross@tamu.edu\",\n",
    "        \"acc\" : f\"{acc}\",\n",
    "        \"db\" : \"nuccore\"\n",
    "    }\n",
    "    \n",
    "    # Imports genome as FASTA\n",
    "    genome = Seq(GetPhageSeq(**payload).get_and_return_sequence(ret_type=\"fasta\"))\n",
    "    \n",
    "    # Converts ncbi cds\n",
    "    old_cds: List[str] = cds.split('..')\n",
    "    old_cds: List[int] = [int(x) for x in old_cds]\n",
    "        \n",
    "    start: int = old_cds[0]\n",
    "    end: int = old_cds[1]\n",
    "    \n",
    "    if strand == 'POSITIVE':\n",
    "        if rohitseq == str(genome[new[0]:new[1]].translate(to_stop=True)):\n",
    "            return True\n",
    "        else:\n",
    "            return str(find_difference_two_strings(rohitseq, str(genome[new[0]:new[1]].translate(to_stop=True))))\n",
    "        \n",
    "    if strand == 'NEGATIVE':\n",
    "        if rohitseq == str(genome[new[0]:new[1]].reverse_complement().translate(to_stop=True)):\n",
    "            return True\n",
    "        else:\n",
    "            # return rohitseq + '   ' + str(genome[new_cds[0]:new_cds[1]].reverse_complement().translate(to_stop=True))\n",
    "            #return str(genome[126471:126789].reverse_complement().translate(to_stop=True))\n",
    "            #return rohitseq == str(genome[new_cds[0]:new_cds[1]].reverse_complement().translate(to_stop=True))\n",
    "            return find_difference_two_strings(rohitseq, str(genome[new[0]:new[1]].reverse_complement().translate(to_stop=True)))"
   ]
  },
  {
   "cell_type": "code",
   "execution_count": 503,
   "id": "accompanied-fitting",
   "metadata": {},
   "outputs": [],
   "source": [
    "data2['verified'] = data2.apply(lambda x: test_phage_sequence(x['phage_acc'], x['cds'], x['new_cds'], x['strand'], x['sequence']), axis=1)"
   ]
  },
  {
   "cell_type": "code",
   "execution_count": 504,
   "id": "fallen-crawford",
   "metadata": {},
   "outputs": [
    {
     "data": {
      "text/html": [
       "<div>\n",
       "<style scoped>\n",
       "    .dataframe tbody tr th:only-of-type {\n",
       "        vertical-align: middle;\n",
       "    }\n",
       "\n",
       "    .dataframe tbody tr th {\n",
       "        vertical-align: top;\n",
       "    }\n",
       "\n",
       "    .dataframe thead th {\n",
       "        text-align: right;\n",
       "    }\n",
       "</style>\n",
       "<table border=\"1\" class=\"dataframe\">\n",
       "  <thead>\n",
       "    <tr style=\"text-align: right;\">\n",
       "      <th></th>\n",
       "      <th>phage_acc</th>\n",
       "      <th>strand</th>\n",
       "      <th>cds</th>\n",
       "      <th>sequence</th>\n",
       "      <th>ncbi_sequence</th>\n",
       "      <th>ncbi_subset_of_rohit</th>\n",
       "      <th>rohit_subset_of_ncbi</th>\n",
       "      <th>begin_end_same</th>\n",
       "      <th>new_cds</th>\n",
       "      <th>verified</th>\n",
       "    </tr>\n",
       "  </thead>\n",
       "  <tbody>\n",
       "    <tr>\n",
       "      <th>0</th>\n",
       "      <td>NC_020879.1</td>\n",
       "      <td>NEGATIVE</td>\n",
       "      <td>126555..126789</td>\n",
       "      <td>MLLTLSSLLSWLKSNALCIIIMVLMAIMMKNQHDEISTLKTSLESM...</td>\n",
       "      <td>MKNQHDEISTLKTSLESMKSFQTKSYENAKPVTEALLKSPKATKQM...</td>\n",
       "      <td>True</td>\n",
       "      <td>False</td>\n",
       "      <td>False</td>\n",
       "      <td>[126555, 126873]</td>\n",
       "      <td>True</td>\n",
       "    </tr>\n",
       "    <tr>\n",
       "      <th>1</th>\n",
       "      <td>NC_019543.1</td>\n",
       "      <td>NEGATIVE</td>\n",
       "      <td>124571..124826</td>\n",
       "      <td>MLLTLSSLLSWLKSNALYIIIMVLMAIMMKNQHDEISTLKNSLESM...</td>\n",
       "      <td>MVLMAIMMKNQHDEISTLKNSLESMKSFQTKSYENAKPVTEALLKS...</td>\n",
       "      <td>True</td>\n",
       "      <td>False</td>\n",
       "      <td>False</td>\n",
       "      <td>[124571, 124889]</td>\n",
       "      <td>True</td>\n",
       "    </tr>\n",
       "    <tr>\n",
       "      <th>3</th>\n",
       "      <td>NC_024142.1</td>\n",
       "      <td>POSITIVE</td>\n",
       "      <td>12841..13066</td>\n",
       "      <td>MKMLISKGWPYLLVVVLGATIYFWGNSNGQSTVQKKWDDQKVEDQK...</td>\n",
       "      <td>MQQSERRASVYKRQAEAGTFECRSLASHAARLDNSLEEGRRLVEEL...</td>\n",
       "      <td>True</td>\n",
       "      <td>False</td>\n",
       "      <td>False</td>\n",
       "      <td>[12559, 13066]</td>\n",
       "      <td>['+ G', '+ I', '- K', '- M', '- L', '+ A', '+ ...</td>\n",
       "    </tr>\n",
       "    <tr>\n",
       "      <th>4</th>\n",
       "      <td>NC_016562.1</td>\n",
       "      <td>NEGATIVE</td>\n",
       "      <td>89202..89547</td>\n",
       "      <td>MQMFNFLFSFIKSNIIYILLGSLLAFTAYRYISLEKSNAILIENEK...</td>\n",
       "      <td>MQMFNFLFSFIKSNIIYILLGSLLAFTAYRYISLEKSNAILIENEK...</td>\n",
       "      <td>False</td>\n",
       "      <td>False</td>\n",
       "      <td>True</td>\n",
       "      <td>[1, 1]</td>\n",
       "      <td>[- M, - Q, - M, - F, - N, - F, - L, - F, - S, ...</td>\n",
       "    </tr>\n",
       "    <tr>\n",
       "      <th>6</th>\n",
       "      <td>NC_007805.1</td>\n",
       "      <td>POSITIVE</td>\n",
       "      <td>37910..38360</td>\n",
       "      <td>MRWVPWLVVALVAALVFWRLDHVTAQRNDLQAAVEQSAETITAMAQ...</td>\n",
       "      <td>MVALVAALVFWRLDHVTAQRNDLQAAVEQSAETITAMAQQAQRDTQ...</td>\n",
       "      <td>False</td>\n",
       "      <td>False</td>\n",
       "      <td>False</td>\n",
       "      <td>[37889, 38360]</td>\n",
       "      <td>True</td>\n",
       "    </tr>\n",
       "  </tbody>\n",
       "</table>\n",
       "</div>"
      ],
      "text/plain": [
       "     phage_acc    strand             cds  \\\n",
       "0  NC_020879.1  NEGATIVE  126555..126789   \n",
       "1  NC_019543.1  NEGATIVE  124571..124826   \n",
       "3  NC_024142.1  POSITIVE    12841..13066   \n",
       "4  NC_016562.1  NEGATIVE    89202..89547   \n",
       "6  NC_007805.1  POSITIVE    37910..38360   \n",
       "\n",
       "                                            sequence  \\\n",
       "0  MLLTLSSLLSWLKSNALCIIIMVLMAIMMKNQHDEISTLKTSLESM...   \n",
       "1  MLLTLSSLLSWLKSNALYIIIMVLMAIMMKNQHDEISTLKNSLESM...   \n",
       "3  MKMLISKGWPYLLVVVLGATIYFWGNSNGQSTVQKKWDDQKVEDQK...   \n",
       "4  MQMFNFLFSFIKSNIIYILLGSLLAFTAYRYISLEKSNAILIENEK...   \n",
       "6  MRWVPWLVVALVAALVFWRLDHVTAQRNDLQAAVEQSAETITAMAQ...   \n",
       "\n",
       "                                       ncbi_sequence  ncbi_subset_of_rohit  \\\n",
       "0  MKNQHDEISTLKTSLESMKSFQTKSYENAKPVTEALLKSPKATKQM...                  True   \n",
       "1  MVLMAIMMKNQHDEISTLKNSLESMKSFQTKSYENAKPVTEALLKS...                  True   \n",
       "3  MQQSERRASVYKRQAEAGTFECRSLASHAARLDNSLEEGRRLVEEL...                  True   \n",
       "4  MQMFNFLFSFIKSNIIYILLGSLLAFTAYRYISLEKSNAILIENEK...                 False   \n",
       "6  MVALVAALVFWRLDHVTAQRNDLQAAVEQSAETITAMAQQAQRDTQ...                 False   \n",
       "\n",
       "   rohit_subset_of_ncbi  begin_end_same           new_cds  \\\n",
       "0                 False           False  [126555, 126873]   \n",
       "1                 False           False  [124571, 124889]   \n",
       "3                 False           False    [12559, 13066]   \n",
       "4                 False            True            [1, 1]   \n",
       "6                 False           False    [37889, 38360]   \n",
       "\n",
       "                                            verified  \n",
       "0                                               True  \n",
       "1                                               True  \n",
       "3  ['+ G', '+ I', '- K', '- M', '- L', '+ A', '+ ...  \n",
       "4  [- M, - Q, - M, - F, - N, - F, - L, - F, - S, ...  \n",
       "6                                               True  "
      ]
     },
     "execution_count": 504,
     "metadata": {},
     "output_type": "execute_result"
    }
   ],
   "source": [
    "data2.head()"
   ]
  },
  {
   "cell_type": "code",
   "execution_count": 505,
   "id": "muslim-baptist",
   "metadata": {},
   "outputs": [
    {
     "data": {
      "text/html": [
       "<div>\n",
       "<style scoped>\n",
       "    .dataframe tbody tr th:only-of-type {\n",
       "        vertical-align: middle;\n",
       "    }\n",
       "\n",
       "    .dataframe tbody tr th {\n",
       "        vertical-align: top;\n",
       "    }\n",
       "\n",
       "    .dataframe thead th {\n",
       "        text-align: right;\n",
       "    }\n",
       "</style>\n",
       "<table border=\"1\" class=\"dataframe\">\n",
       "  <thead>\n",
       "    <tr style=\"text-align: right;\">\n",
       "      <th></th>\n",
       "      <th>phage_acc</th>\n",
       "      <th>strand</th>\n",
       "      <th>cds</th>\n",
       "      <th>sequence</th>\n",
       "      <th>ncbi_sequence</th>\n",
       "      <th>ncbi_subset_of_rohit</th>\n",
       "      <th>rohit_subset_of_ncbi</th>\n",
       "      <th>begin_end_same</th>\n",
       "      <th>new_cds</th>\n",
       "      <th>verified</th>\n",
       "    </tr>\n",
       "  </thead>\n",
       "  <tbody>\n",
       "    <tr>\n",
       "      <th>0</th>\n",
       "      <td>NC_020879.1</td>\n",
       "      <td>NEGATIVE</td>\n",
       "      <td>126555..126789</td>\n",
       "      <td>MLLTLSSLLSWLKSNALCIIIMVLMAIMMKNQHDEISTLKTSLESM...</td>\n",
       "      <td>MKNQHDEISTLKTSLESMKSFQTKSYENAKPVTEALLKSPKATKQM...</td>\n",
       "      <td>True</td>\n",
       "      <td>False</td>\n",
       "      <td>False</td>\n",
       "      <td>[126555, 126873]</td>\n",
       "      <td>True</td>\n",
       "    </tr>\n",
       "    <tr>\n",
       "      <th>1</th>\n",
       "      <td>NC_019543.1</td>\n",
       "      <td>NEGATIVE</td>\n",
       "      <td>124571..124826</td>\n",
       "      <td>MLLTLSSLLSWLKSNALYIIIMVLMAIMMKNQHDEISTLKNSLESM...</td>\n",
       "      <td>MVLMAIMMKNQHDEISTLKNSLESMKSFQTKSYENAKPVTEALLKS...</td>\n",
       "      <td>True</td>\n",
       "      <td>False</td>\n",
       "      <td>False</td>\n",
       "      <td>[124571, 124889]</td>\n",
       "      <td>True</td>\n",
       "    </tr>\n",
       "    <tr>\n",
       "      <th>6</th>\n",
       "      <td>NC_007805.1</td>\n",
       "      <td>POSITIVE</td>\n",
       "      <td>37910..38360</td>\n",
       "      <td>MRWVPWLVVALVAALVFWRLDHVTAQRNDLQAAVEQSAETITAMAQ...</td>\n",
       "      <td>MVALVAALVFWRLDHVTAQRNDLQAAVEQSAETITAMAQQAQRDTQ...</td>\n",
       "      <td>False</td>\n",
       "      <td>False</td>\n",
       "      <td>False</td>\n",
       "      <td>[37889, 38360]</td>\n",
       "      <td>True</td>\n",
       "    </tr>\n",
       "    <tr>\n",
       "      <th>7</th>\n",
       "      <td>KC139515.1</td>\n",
       "      <td>NEGATIVE</td>\n",
       "      <td>17634..17832</td>\n",
       "      <td>MTGLLARIKTGVLAALVFVVALFGVWRAGRTKGKQDQINNQNNDTL...</td>\n",
       "      <td>MALFGVWRAGRTKGKQDQINNQNNDTLREQANADKNVAEVHNEINK...</td>\n",
       "      <td>False</td>\n",
       "      <td>False</td>\n",
       "      <td>False</td>\n",
       "      <td>[17634, 17889]</td>\n",
       "      <td>True</td>\n",
       "    </tr>\n",
       "    <tr>\n",
       "      <th>8</th>\n",
       "      <td>NC_010392.1</td>\n",
       "      <td>NEGATIVE</td>\n",
       "      <td>30405..30858</td>\n",
       "      <td>MMFNWKTMFVGLLLVSLIVAGRLANHYRNNAITYKYQRDTATHNLK...</td>\n",
       "      <td>MFVGLLLVSLIVAGRLANHYRNNAITYKYQRDTATHNLKLANETIT...</td>\n",
       "      <td>True</td>\n",
       "      <td>False</td>\n",
       "      <td>False</td>\n",
       "      <td>[30405, 30879]</td>\n",
       "      <td>True</td>\n",
       "    </tr>\n",
       "    <tr>\n",
       "      <th>...</th>\n",
       "      <td>...</td>\n",
       "      <td>...</td>\n",
       "      <td>...</td>\n",
       "      <td>...</td>\n",
       "      <td>...</td>\n",
       "      <td>...</td>\n",
       "      <td>...</td>\n",
       "      <td>...</td>\n",
       "      <td>...</td>\n",
       "      <td>...</td>\n",
       "    </tr>\n",
       "    <tr>\n",
       "      <th>116</th>\n",
       "      <td>NC_021794.1</td>\n",
       "      <td>POSITIVE</td>\n",
       "      <td>41131..41452</td>\n",
       "      <td>MEKTSNTSKNFMIVILMMLFSIACFAQDKNYVSVHRDSLYNALLNI...</td>\n",
       "      <td>MMLFSIACFAQDKNYVSVHRDSLYNALLNISELKVENAFLRKKNDN...</td>\n",
       "      <td>True</td>\n",
       "      <td>False</td>\n",
       "      <td>False</td>\n",
       "      <td>[41083, 41452]</td>\n",
       "      <td>True</td>\n",
       "    </tr>\n",
       "    <tr>\n",
       "      <th>117</th>\n",
       "      <td>NC_021789.1</td>\n",
       "      <td>POSITIVE</td>\n",
       "      <td>44760..45078</td>\n",
       "      <td>MEKTSNTSKNFMIVILMMLFSIACFAQDKNYVSVHRDSLYNALLNI...</td>\n",
       "      <td>MLFSIACFAQDKNYVSVHRDSLYNALLNISELKVENAFLRKKNDNQ...</td>\n",
       "      <td>True</td>\n",
       "      <td>False</td>\n",
       "      <td>False</td>\n",
       "      <td>[44709, 45078]</td>\n",
       "      <td>True</td>\n",
       "    </tr>\n",
       "    <tr>\n",
       "      <th>119</th>\n",
       "      <td>NC_019540.1</td>\n",
       "      <td>NEGATIVE</td>\n",
       "      <td>20740..21175</td>\n",
       "      <td>MKRLRQVLLMLGMVLALSGCSAVTSAVTDRLAGGDKPAVGIDTEIV...</td>\n",
       "      <td>MLSRLCQKHLDLQGTTMKRLRQVLLMLGMVLALSGCSAVTSAVTDR...</td>\n",
       "      <td>False</td>\n",
       "      <td>True</td>\n",
       "      <td>False</td>\n",
       "      <td>[20740, 21127]</td>\n",
       "      <td>True</td>\n",
       "    </tr>\n",
       "    <tr>\n",
       "      <th>120</th>\n",
       "      <td>NC_024791.1</td>\n",
       "      <td>NEGATIVE</td>\n",
       "      <td>629..968</td>\n",
       "      <td>MTYVRNKMKSLLVLMGLVLALSTNGCSSLTPVEIAKDVLLPDQQSG...</td>\n",
       "      <td>MGLVLALSTNGCSSLTPVEIAKDVLLPDQQSGITVDTQIGDKEYAL...</td>\n",
       "      <td>True</td>\n",
       "      <td>False</td>\n",
       "      <td>False</td>\n",
       "      <td>[629, 1010]</td>\n",
       "      <td>True</td>\n",
       "    </tr>\n",
       "    <tr>\n",
       "      <th>121</th>\n",
       "      <td>NC_007603.1</td>\n",
       "      <td>POSITIVE</td>\n",
       "      <td>41476..41839</td>\n",
       "      <td>MLKWIAALVMCVALSGCSATSALTGLIGSKPEISAQAGAENNKVGV...</td>\n",
       "      <td>MCVALSGCSATSALTGLIGSKPEISAQAGAENNKVGVGLTNKVDSS...</td>\n",
       "      <td>True</td>\n",
       "      <td>False</td>\n",
       "      <td>False</td>\n",
       "      <td>[41449, 41839]</td>\n",
       "      <td>True</td>\n",
       "    </tr>\n",
       "  </tbody>\n",
       "</table>\n",
       "<p>85 rows × 10 columns</p>\n",
       "</div>"
      ],
      "text/plain": [
       "       phage_acc    strand             cds  \\\n",
       "0    NC_020879.1  NEGATIVE  126555..126789   \n",
       "1    NC_019543.1  NEGATIVE  124571..124826   \n",
       "6    NC_007805.1  POSITIVE    37910..38360   \n",
       "7     KC139515.1  NEGATIVE    17634..17832   \n",
       "8    NC_010392.1  NEGATIVE    30405..30858   \n",
       "..           ...       ...             ...   \n",
       "116  NC_021794.1  POSITIVE    41131..41452   \n",
       "117  NC_021789.1  POSITIVE    44760..45078   \n",
       "119  NC_019540.1  NEGATIVE    20740..21175   \n",
       "120  NC_024791.1  NEGATIVE        629..968   \n",
       "121  NC_007603.1  POSITIVE    41476..41839   \n",
       "\n",
       "                                              sequence  \\\n",
       "0    MLLTLSSLLSWLKSNALCIIIMVLMAIMMKNQHDEISTLKTSLESM...   \n",
       "1    MLLTLSSLLSWLKSNALYIIIMVLMAIMMKNQHDEISTLKNSLESM...   \n",
       "6    MRWVPWLVVALVAALVFWRLDHVTAQRNDLQAAVEQSAETITAMAQ...   \n",
       "7    MTGLLARIKTGVLAALVFVVALFGVWRAGRTKGKQDQINNQNNDTL...   \n",
       "8    MMFNWKTMFVGLLLVSLIVAGRLANHYRNNAITYKYQRDTATHNLK...   \n",
       "..                                                 ...   \n",
       "116  MEKTSNTSKNFMIVILMMLFSIACFAQDKNYVSVHRDSLYNALLNI...   \n",
       "117  MEKTSNTSKNFMIVILMMLFSIACFAQDKNYVSVHRDSLYNALLNI...   \n",
       "119  MKRLRQVLLMLGMVLALSGCSAVTSAVTDRLAGGDKPAVGIDTEIV...   \n",
       "120  MTYVRNKMKSLLVLMGLVLALSTNGCSSLTPVEIAKDVLLPDQQSG...   \n",
       "121  MLKWIAALVMCVALSGCSATSALTGLIGSKPEISAQAGAENNKVGV...   \n",
       "\n",
       "                                         ncbi_sequence  ncbi_subset_of_rohit  \\\n",
       "0    MKNQHDEISTLKTSLESMKSFQTKSYENAKPVTEALLKSPKATKQM...                  True   \n",
       "1    MVLMAIMMKNQHDEISTLKNSLESMKSFQTKSYENAKPVTEALLKS...                  True   \n",
       "6    MVALVAALVFWRLDHVTAQRNDLQAAVEQSAETITAMAQQAQRDTQ...                 False   \n",
       "7    MALFGVWRAGRTKGKQDQINNQNNDTLREQANADKNVAEVHNEINK...                 False   \n",
       "8    MFVGLLLVSLIVAGRLANHYRNNAITYKYQRDTATHNLKLANETIT...                  True   \n",
       "..                                                 ...                   ...   \n",
       "116  MMLFSIACFAQDKNYVSVHRDSLYNALLNISELKVENAFLRKKNDN...                  True   \n",
       "117  MLFSIACFAQDKNYVSVHRDSLYNALLNISELKVENAFLRKKNDNQ...                  True   \n",
       "119  MLSRLCQKHLDLQGTTMKRLRQVLLMLGMVLALSGCSAVTSAVTDR...                 False   \n",
       "120  MGLVLALSTNGCSSLTPVEIAKDVLLPDQQSGITVDTQIGDKEYAL...                  True   \n",
       "121  MCVALSGCSATSALTGLIGSKPEISAQAGAENNKVGVGLTNKVDSS...                  True   \n",
       "\n",
       "     rohit_subset_of_ncbi  begin_end_same           new_cds verified  \n",
       "0                   False           False  [126555, 126873]     True  \n",
       "1                   False           False  [124571, 124889]     True  \n",
       "6                   False           False    [37889, 38360]     True  \n",
       "7                   False           False    [17634, 17889]     True  \n",
       "8                   False           False    [30405, 30879]     True  \n",
       "..                    ...             ...               ...      ...  \n",
       "116                 False           False    [41083, 41452]     True  \n",
       "117                 False           False    [44709, 45078]     True  \n",
       "119                  True           False    [20740, 21127]     True  \n",
       "120                 False           False       [629, 1010]     True  \n",
       "121                 False           False    [41449, 41839]     True  \n",
       "\n",
       "[85 rows x 10 columns]"
      ]
     },
     "execution_count": 505,
     "metadata": {},
     "output_type": "execute_result"
    }
   ],
   "source": [
    "true = data2[data2['verified'] == True]\n",
    "true"
   ]
  },
  {
   "cell_type": "code",
   "execution_count": 506,
   "id": "adolescent-darkness",
   "metadata": {},
   "outputs": [
    {
     "data": {
      "text/html": [
       "<div>\n",
       "<style scoped>\n",
       "    .dataframe tbody tr th:only-of-type {\n",
       "        vertical-align: middle;\n",
       "    }\n",
       "\n",
       "    .dataframe tbody tr th {\n",
       "        vertical-align: top;\n",
       "    }\n",
       "\n",
       "    .dataframe thead th {\n",
       "        text-align: right;\n",
       "    }\n",
       "</style>\n",
       "<table border=\"1\" class=\"dataframe\">\n",
       "  <thead>\n",
       "    <tr style=\"text-align: right;\">\n",
       "      <th></th>\n",
       "      <th>phage_acc</th>\n",
       "      <th>strand</th>\n",
       "      <th>cds</th>\n",
       "      <th>sequence</th>\n",
       "      <th>ncbi_sequence</th>\n",
       "      <th>ncbi_subset_of_rohit</th>\n",
       "      <th>rohit_subset_of_ncbi</th>\n",
       "      <th>begin_end_same</th>\n",
       "      <th>new_cds</th>\n",
       "      <th>verified</th>\n",
       "    </tr>\n",
       "  </thead>\n",
       "  <tbody>\n",
       "    <tr>\n",
       "      <th>3</th>\n",
       "      <td>NC_024142.1</td>\n",
       "      <td>POSITIVE</td>\n",
       "      <td>12841..13066</td>\n",
       "      <td>MKMLISKGWPYLLVVVLGATIYFWGNSNGQSTVQKKWDDQKVEDQK...</td>\n",
       "      <td>MQQSERRASVYKRQAEAGTFECRSLASHAARLDNSLEEGRRLVEEL...</td>\n",
       "      <td>True</td>\n",
       "      <td>False</td>\n",
       "      <td>False</td>\n",
       "      <td>[12559, 13066]</td>\n",
       "      <td>['+ G', '+ I', '- K', '- M', '- L', '+ A', '+ ...</td>\n",
       "    </tr>\n",
       "    <tr>\n",
       "      <th>4</th>\n",
       "      <td>NC_016562.1</td>\n",
       "      <td>NEGATIVE</td>\n",
       "      <td>89202..89547</td>\n",
       "      <td>MQMFNFLFSFIKSNIIYILLGSLLAFTAYRYISLEKSNAILIENEK...</td>\n",
       "      <td>MQMFNFLFSFIKSNIIYILLGSLLAFTAYRYISLEKSNAILIENEK...</td>\n",
       "      <td>False</td>\n",
       "      <td>False</td>\n",
       "      <td>True</td>\n",
       "      <td>[1, 1]</td>\n",
       "      <td>[- M, - Q, - M, - F, - N, - F, - L, - F, - S, ...</td>\n",
       "    </tr>\n",
       "    <tr>\n",
       "      <th>14</th>\n",
       "      <td>NC_005884.1</td>\n",
       "      <td>POSITIVE</td>\n",
       "      <td>11928..12216</td>\n",
       "      <td>MYKIAIGLALGLALFSLWSYYSLQLTKQELATTKEALADRSKEVEF...</td>\n",
       "      <td>MATTKEALADRSKEVEFLNTSLQLRDKVALQTAEREGAINAQLQRI...</td>\n",
       "      <td>False</td>\n",
       "      <td>False</td>\n",
       "      <td>False</td>\n",
       "      <td>[11841, 12216]</td>\n",
       "      <td>['- M', '+ L']</td>\n",
       "    </tr>\n",
       "    <tr>\n",
       "      <th>16</th>\n",
       "      <td>GQ422450.1</td>\n",
       "      <td>POSITIVE</td>\n",
       "      <td>6803..7103</td>\n",
       "      <td>MSRIKAIIASVIICIIVCLSWAVNHYRDNAITYKEQRDKATSIIAD...</td>\n",
       "      <td>MQKRQRDVAELDARYTKELADANATIETLRADVSAGRKRLQVSATC...</td>\n",
       "      <td>True</td>\n",
       "      <td>False</td>\n",
       "      <td>False</td>\n",
       "      <td>[6665, 7103]</td>\n",
       "      <td>['- M', '+ V']</td>\n",
       "    </tr>\n",
       "    <tr>\n",
       "      <th>17</th>\n",
       "      <td>GQ422451.1</td>\n",
       "      <td>POSITIVE</td>\n",
       "      <td>20330..20630</td>\n",
       "      <td>MSRIKAIIASVIICIIVCLSWAVNHYRDNAITYKEQRDKATSIIAD...</td>\n",
       "      <td>MQKRQRDVAELDARYTKELADANATIETLRADVSAGRKRLQVSATC...</td>\n",
       "      <td>True</td>\n",
       "      <td>False</td>\n",
       "      <td>False</td>\n",
       "      <td>[20192, 20630]</td>\n",
       "      <td>['- M', '+ V']</td>\n",
       "    </tr>\n",
       "    <tr>\n",
       "      <th>21</th>\n",
       "      <td>NC_019926.1</td>\n",
       "      <td>POSITIVE</td>\n",
       "      <td>42438..42759</td>\n",
       "      <td>MRKIYVVIITTIVMAGLIWAFIATQVNTGVTSKRQEDALAVSEANV...</td>\n",
       "      <td>MAGLIWAFIATQVNTGVTSKRQEDALAVSEANVGIGKEAKDQGEQA...</td>\n",
       "      <td>True</td>\n",
       "      <td>False</td>\n",
       "      <td>False</td>\n",
       "      <td>[42399, 42759]</td>\n",
       "      <td>['- M', '+ V']</td>\n",
       "    </tr>\n",
       "    <tr>\n",
       "      <th>23</th>\n",
       "      <td>NC_016163</td>\n",
       "      <td>NEGATIVE</td>\n",
       "      <td>167032..167455</td>\n",
       "      <td>MDSILNNFVSSYKNIILAICIAIVVVVIGLFLNGIADNAKASTEWE...</td>\n",
       "      <td>MDSILNNFVSSYKNIILAICIAIVVVVIGLFLNGIADNAKASTEWE...</td>\n",
       "      <td>False</td>\n",
       "      <td>True</td>\n",
       "      <td>False</td>\n",
       "      <td>[167035, 167455]</td>\n",
       "      <td>[+ L]</td>\n",
       "    </tr>\n",
       "    <tr>\n",
       "      <th>28</th>\n",
       "      <td>AM076770</td>\n",
       "      <td>POSITIVE</td>\n",
       "      <td>18144..18336</td>\n",
       "      <td>MLGKLKIAVMLMIAAVLAWKAGSWNGARVERSVQIAECNNRIEKLA...</td>\n",
       "      <td>MQIAECNNRIEKLAAELEAEKAKKKVEVTKSASKTKQSVLVATDSD...</td>\n",
       "      <td>False</td>\n",
       "      <td>False</td>\n",
       "      <td>False</td>\n",
       "      <td>[18048, 18336]</td>\n",
       "      <td>['- M', '+ L']</td>\n",
       "    </tr>\n",
       "    <tr>\n",
       "      <th>34</th>\n",
       "      <td>NC_024794.1</td>\n",
       "      <td>NEGATIVE</td>\n",
       "      <td>136877..137234</td>\n",
       "      <td>MLKVNPIYAIVAAFALVSTVTIVVLNNKVDSLNTELASVKETAKNN...</td>\n",
       "      <td>MLKVNPIYAIVAAFALVSTVTIVVLNNKVDSLNTELASVKETAKNN...</td>\n",
       "      <td>False</td>\n",
       "      <td>True</td>\n",
       "      <td>False</td>\n",
       "      <td>[137081, 137234]</td>\n",
       "      <td>[+ D]</td>\n",
       "    </tr>\n",
       "    <tr>\n",
       "      <th>38</th>\n",
       "      <td>NC_023568.1</td>\n",
       "      <td>POSITIVE</td>\n",
       "      <td>234503..234857</td>\n",
       "      <td>MFSQNKIYVLLAVAAVFIGSIGYLKYENVSLEKDLVTQTAEVERLT...</td>\n",
       "      <td>MAVAAVFIGSIGYLKYENVSLEKDLVTQTAEVERLTGDNERLQTTI...</td>\n",
       "      <td>False</td>\n",
       "      <td>False</td>\n",
       "      <td>False</td>\n",
       "      <td>[234473, 234857]</td>\n",
       "      <td>['- M', '+ V']</td>\n",
       "    </tr>\n",
       "    <tr>\n",
       "      <th>44</th>\n",
       "      <td>NC_014662.1</td>\n",
       "      <td>NEGATIVE</td>\n",
       "      <td>132642..132858</td>\n",
       "      <td>MKLLVATVLSIGLLAGCSQKTPELPQPTVVHPSWPDQIKPWNGHWT...</td>\n",
       "      <td>MHPSWPDQIKPWNGHWTIVEVDGRPFVGMPYSDSQEFRIWLNDVLR...</td>\n",
       "      <td>False</td>\n",
       "      <td>False</td>\n",
       "      <td>False</td>\n",
       "      <td>[132642, 132945]</td>\n",
       "      <td>[- M, + V]</td>\n",
       "    </tr>\n",
       "    <tr>\n",
       "      <th>46</th>\n",
       "      <td>NC_023576.1</td>\n",
       "      <td>POSITIVE</td>\n",
       "      <td>35414..35684</td>\n",
       "      <td>MLSKLKSTKCPSGFRTKCPRWKAALIGLLLTLTAITSGCASKSTPQ...</td>\n",
       "      <td>MQNTPRILRHRKIQGLLSKLKSTKCPSGFRTKCPRWKAALIGLLLT...</td>\n",
       "      <td>False</td>\n",
       "      <td>False</td>\n",
       "      <td>False</td>\n",
       "      <td>[35369, 35684]</td>\n",
       "      <td>['+ L', '+ V', '+ A', '+ T', '+ T', '+ P', '+ ...</td>\n",
       "    </tr>\n",
       "    <tr>\n",
       "      <th>50</th>\n",
       "      <td>NC_011042</td>\n",
       "      <td>POSITIVE</td>\n",
       "      <td>36139..36415</td>\n",
       "      <td>MLSKLKSTKCPNGFRTKCHRWKVALIGLLLTFSLTISGCASESKLR...</td>\n",
       "      <td>MQNTPRILRHRRIQGLLSKLKSTKCPNGFRTKCHRWKVALIGLLLT...</td>\n",
       "      <td>False</td>\n",
       "      <td>False</td>\n",
       "      <td>False</td>\n",
       "      <td>[36094, 36415]</td>\n",
       "      <td>['+ L', '+ G', '+ A', '+ T', '+ T', '+ P', '+ ...</td>\n",
       "    </tr>\n",
       "    <tr>\n",
       "      <th>69</th>\n",
       "      <td>NC_007456.1</td>\n",
       "      <td>POSITIVE</td>\n",
       "      <td>36645..36921</td>\n",
       "      <td>MLSKLKSTKCPNGFRTKCPRWKAALIGLLLTLSLTISGCSSESNLR...</td>\n",
       "      <td>MRNTPRILRHRKIQGLLSKLKSTKCPNGFRTKCPRWKAALIGLLLT...</td>\n",
       "      <td>False</td>\n",
       "      <td>False</td>\n",
       "      <td>False</td>\n",
       "      <td>[36600, 36921]</td>\n",
       "      <td>['- M', '+ V', '+ C', '+ W', '+ W', '- S', '- ...</td>\n",
       "    </tr>\n",
       "    <tr>\n",
       "      <th>72</th>\n",
       "      <td>NC_013647.1</td>\n",
       "      <td>POSITIVE</td>\n",
       "      <td>38218..38710</td>\n",
       "      <td>MTQYRLSTKQTLRGWRAALIGLLLICVATISGCASKSNLPVSPQDQ...</td>\n",
       "      <td>MTISSPYSDILKVLLYVVPLWMSLHYARRSYVKSEKHLEALCWKLQ...</td>\n",
       "      <td>False</td>\n",
       "      <td>False</td>\n",
       "      <td>False</td>\n",
       "      <td>[37933, 38710]</td>\n",
       "      <td>['+ P', '- M', '- T', '- Q', '- Y', '- L', '- ...</td>\n",
       "    </tr>\n",
       "    <tr>\n",
       "      <th>84</th>\n",
       "      <td>NC_019528.1</td>\n",
       "      <td>NEGATIVE</td>\n",
       "      <td>13794..13980</td>\n",
       "      <td>MKLLNRVWSVAMLWLIAGLLMSCATQHVAPKATPMHVPEALTAPTP...</td>\n",
       "      <td>MHVPEALTAPTPAPEIEPGIRISDYPKLILRSLGALEEANADKAAV...</td>\n",
       "      <td>True</td>\n",
       "      <td>False</td>\n",
       "      <td>False</td>\n",
       "      <td>[13794, 14082]</td>\n",
       "      <td>[- M, + L]</td>\n",
       "    </tr>\n",
       "    <tr>\n",
       "      <th>87</th>\n",
       "      <td>NC_006938.1</td>\n",
       "      <td>POSITIVE</td>\n",
       "      <td>903..1020</td>\n",
       "      <td>MTLSQEPVRSLLRGLSIVALLVLGACSSVPPERSVIQSVQVKTPKT...</td>\n",
       "      <td>MALTPRQYQNLSNNLAEVLRYVKQADSQLDYYRRELGQ</td>\n",
       "      <td>True</td>\n",
       "      <td>False</td>\n",
       "      <td>False</td>\n",
       "      <td>[687, 1020]</td>\n",
       "      <td>['- M', '+ L']</td>\n",
       "    </tr>\n",
       "    <tr>\n",
       "      <th>90</th>\n",
       "      <td>AM076770</td>\n",
       "      <td>POSITIVE</td>\n",
       "      <td>18310..18466</td>\n",
       "      <td>MLAKLNKAFWLLLIAILISGCQSGRVITVPVVVDTSCDWVEVIRPT...</td>\n",
       "      <td>MITVPVVVDTSCDWVEVIRPTLQDIKVMDLGTKRQIVYHNEMVEKM...</td>\n",
       "      <td>False</td>\n",
       "      <td>False</td>\n",
       "      <td>False</td>\n",
       "      <td>[18235, 18466]</td>\n",
       "      <td>['- M', '+ V']</td>\n",
       "    </tr>\n",
       "    <tr>\n",
       "      <th>94</th>\n",
       "      <td>NC_013597.1</td>\n",
       "      <td>NEGATIVE</td>\n",
       "      <td>23051..23264</td>\n",
       "      <td>MKMRKPLKQSLKLNLVIVLSSLSLLLSGCTSKVTTKAEYIYPPQAY...</td>\n",
       "      <td>MSGCTSKVTTKAEYIYPPQAYTAPCAKTPFTGETYGDAVLQLVKVT...</td>\n",
       "      <td>False</td>\n",
       "      <td>False</td>\n",
       "      <td>False</td>\n",
       "      <td>[23051, 23339]</td>\n",
       "      <td>[- M, + V]</td>\n",
       "    </tr>\n",
       "    <tr>\n",
       "      <th>95</th>\n",
       "      <td>NC_016763</td>\n",
       "      <td>POSITIVE</td>\n",
       "      <td>23651..23795</td>\n",
       "      <td>MKLSNTLPVLAVLSVSFLLNGCQSNNAPLRMLIPSPDMTLMQPPCK...</td>\n",
       "      <td>MQPPCKLIPPSSDADEDLAVDVQNAECTRQLRLKVFRLQEYIRNILE</td>\n",
       "      <td>True</td>\n",
       "      <td>False</td>\n",
       "      <td>False</td>\n",
       "      <td>[23531, 23795]</td>\n",
       "      <td>['- M', '+ V']</td>\n",
       "    </tr>\n",
       "    <tr>\n",
       "      <th>98</th>\n",
       "      <td>NC_022749.1</td>\n",
       "      <td>POSITIVE</td>\n",
       "      <td>38716..39058</td>\n",
       "      <td>MRMMIVLYALCLLPLLTGCESSRTVYVPVPAIPLPASLTAETPQPA...</td>\n",
       "      <td>MQNNRSHWSHREPRLISKWLLRMMIVLYALCLLPLLTGCESSRTVY...</td>\n",
       "      <td>False</td>\n",
       "      <td>False</td>\n",
       "      <td>False</td>\n",
       "      <td>[38656, 39058]</td>\n",
       "      <td>['+ L', '+ P', '+ I', '+ T', '+ S', '+ C', '+ ...</td>\n",
       "    </tr>\n",
       "    <tr>\n",
       "      <th>100</th>\n",
       "      <td>JQ177063.1</td>\n",
       "      <td>NEGATIVE</td>\n",
       "      <td>0..117</td>\n",
       "      <td>MNGSKTPLCIAALLIAGCSSSSTPPTALIAPSADLLVPPGEPLPVC...</td>\n",
       "      <td>MCCDPETAPAAIRHNGVLLLDSSDRLRRWQRWWEMQDK</td>\n",
       "      <td>False</td>\n",
       "      <td>False</td>\n",
       "      <td>False</td>\n",
       "      <td>[0, 249]</td>\n",
       "      <td>[- M, + V]</td>\n",
       "    </tr>\n",
       "    <tr>\n",
       "      <th>109</th>\n",
       "      <td>NC_019713.1</td>\n",
       "      <td>POSITIVE</td>\n",
       "      <td>37640..37760</td>\n",
       "      <td>MRLVKLTLSSLFLVMSMSACTTTQYVQPTEPPKKDIPPELLKRCPP...</td>\n",
       "      <td>MKTVESNDPWVLLKVATENVGTAASCILDYHTLQDTVSD</td>\n",
       "      <td>True</td>\n",
       "      <td>False</td>\n",
       "      <td>False</td>\n",
       "      <td>[37502, 37760]</td>\n",
       "      <td>['- M', '+ V']</td>\n",
       "    </tr>\n",
       "    <tr>\n",
       "      <th>115</th>\n",
       "      <td>NC_021803.1</td>\n",
       "      <td>POSITIVE</td>\n",
       "      <td>14606..14918</td>\n",
       "      <td>MEKTSNTSKNFMIVILMMLFSIACFAQDKNYVSVHRDSLYNALLNI...</td>\n",
       "      <td>MNIYEFSYSGGETDWVFAPNIKEAKDFYLKFTGCGDLTLTTVKRVP...</td>\n",
       "      <td>False</td>\n",
       "      <td>False</td>\n",
       "      <td>False</td>\n",
       "      <td>[0, 0]</td>\n",
       "      <td>['- M', '- E', '- K', '- T', '- S', '- N', '- ...</td>\n",
       "    </tr>\n",
       "  </tbody>\n",
       "</table>\n",
       "</div>"
      ],
      "text/plain": [
       "       phage_acc    strand             cds  \\\n",
       "3    NC_024142.1  POSITIVE    12841..13066   \n",
       "4    NC_016562.1  NEGATIVE    89202..89547   \n",
       "14   NC_005884.1  POSITIVE    11928..12216   \n",
       "16    GQ422450.1  POSITIVE      6803..7103   \n",
       "17    GQ422451.1  POSITIVE    20330..20630   \n",
       "21   NC_019926.1  POSITIVE    42438..42759   \n",
       "23     NC_016163  NEGATIVE  167032..167455   \n",
       "28      AM076770  POSITIVE    18144..18336   \n",
       "34   NC_024794.1  NEGATIVE  136877..137234   \n",
       "38   NC_023568.1  POSITIVE  234503..234857   \n",
       "44   NC_014662.1  NEGATIVE  132642..132858   \n",
       "46   NC_023576.1  POSITIVE    35414..35684   \n",
       "50     NC_011042  POSITIVE    36139..36415   \n",
       "69   NC_007456.1  POSITIVE    36645..36921   \n",
       "72   NC_013647.1  POSITIVE    38218..38710   \n",
       "84   NC_019528.1  NEGATIVE    13794..13980   \n",
       "87   NC_006938.1  POSITIVE       903..1020   \n",
       "90      AM076770  POSITIVE    18310..18466   \n",
       "94   NC_013597.1  NEGATIVE    23051..23264   \n",
       "95     NC_016763  POSITIVE    23651..23795   \n",
       "98   NC_022749.1  POSITIVE    38716..39058   \n",
       "100   JQ177063.1  NEGATIVE          0..117   \n",
       "109  NC_019713.1  POSITIVE    37640..37760   \n",
       "115  NC_021803.1  POSITIVE    14606..14918   \n",
       "\n",
       "                                              sequence  \\\n",
       "3    MKMLISKGWPYLLVVVLGATIYFWGNSNGQSTVQKKWDDQKVEDQK...   \n",
       "4    MQMFNFLFSFIKSNIIYILLGSLLAFTAYRYISLEKSNAILIENEK...   \n",
       "14   MYKIAIGLALGLALFSLWSYYSLQLTKQELATTKEALADRSKEVEF...   \n",
       "16   MSRIKAIIASVIICIIVCLSWAVNHYRDNAITYKEQRDKATSIIAD...   \n",
       "17   MSRIKAIIASVIICIIVCLSWAVNHYRDNAITYKEQRDKATSIIAD...   \n",
       "21   MRKIYVVIITTIVMAGLIWAFIATQVNTGVTSKRQEDALAVSEANV...   \n",
       "23   MDSILNNFVSSYKNIILAICIAIVVVVIGLFLNGIADNAKASTEWE...   \n",
       "28   MLGKLKIAVMLMIAAVLAWKAGSWNGARVERSVQIAECNNRIEKLA...   \n",
       "34   MLKVNPIYAIVAAFALVSTVTIVVLNNKVDSLNTELASVKETAKNN...   \n",
       "38   MFSQNKIYVLLAVAAVFIGSIGYLKYENVSLEKDLVTQTAEVERLT...   \n",
       "44   MKLLVATVLSIGLLAGCSQKTPELPQPTVVHPSWPDQIKPWNGHWT...   \n",
       "46   MLSKLKSTKCPSGFRTKCPRWKAALIGLLLTLTAITSGCASKSTPQ...   \n",
       "50   MLSKLKSTKCPNGFRTKCHRWKVALIGLLLTFSLTISGCASESKLR...   \n",
       "69   MLSKLKSTKCPNGFRTKCPRWKAALIGLLLTLSLTISGCSSESNLR...   \n",
       "72   MTQYRLSTKQTLRGWRAALIGLLLICVATISGCASKSNLPVSPQDQ...   \n",
       "84   MKLLNRVWSVAMLWLIAGLLMSCATQHVAPKATPMHVPEALTAPTP...   \n",
       "87   MTLSQEPVRSLLRGLSIVALLVLGACSSVPPERSVIQSVQVKTPKT...   \n",
       "90   MLAKLNKAFWLLLIAILISGCQSGRVITVPVVVDTSCDWVEVIRPT...   \n",
       "94   MKMRKPLKQSLKLNLVIVLSSLSLLLSGCTSKVTTKAEYIYPPQAY...   \n",
       "95   MKLSNTLPVLAVLSVSFLLNGCQSNNAPLRMLIPSPDMTLMQPPCK...   \n",
       "98   MRMMIVLYALCLLPLLTGCESSRTVYVPVPAIPLPASLTAETPQPA...   \n",
       "100  MNGSKTPLCIAALLIAGCSSSSTPPTALIAPSADLLVPPGEPLPVC...   \n",
       "109  MRLVKLTLSSLFLVMSMSACTTTQYVQPTEPPKKDIPPELLKRCPP...   \n",
       "115  MEKTSNTSKNFMIVILMMLFSIACFAQDKNYVSVHRDSLYNALLNI...   \n",
       "\n",
       "                                         ncbi_sequence  ncbi_subset_of_rohit  \\\n",
       "3    MQQSERRASVYKRQAEAGTFECRSLASHAARLDNSLEEGRRLVEEL...                  True   \n",
       "4    MQMFNFLFSFIKSNIIYILLGSLLAFTAYRYISLEKSNAILIENEK...                 False   \n",
       "14   MATTKEALADRSKEVEFLNTSLQLRDKVALQTAEREGAINAQLQRI...                 False   \n",
       "16   MQKRQRDVAELDARYTKELADANATIETLRADVSAGRKRLQVSATC...                  True   \n",
       "17   MQKRQRDVAELDARYTKELADANATIETLRADVSAGRKRLQVSATC...                  True   \n",
       "21   MAGLIWAFIATQVNTGVTSKRQEDALAVSEANVGIGKEAKDQGEQA...                  True   \n",
       "23   MDSILNNFVSSYKNIILAICIAIVVVVIGLFLNGIADNAKASTEWE...                 False   \n",
       "28   MQIAECNNRIEKLAAELEAEKAKKKVEVTKSASKTKQSVLVATDSD...                 False   \n",
       "34   MLKVNPIYAIVAAFALVSTVTIVVLNNKVDSLNTELASVKETAKNN...                 False   \n",
       "38   MAVAAVFIGSIGYLKYENVSLEKDLVTQTAEVERLTGDNERLQTTI...                 False   \n",
       "44   MHPSWPDQIKPWNGHWTIVEVDGRPFVGMPYSDSQEFRIWLNDVLR...                 False   \n",
       "46   MQNTPRILRHRKIQGLLSKLKSTKCPSGFRTKCPRWKAALIGLLLT...                 False   \n",
       "50   MQNTPRILRHRRIQGLLSKLKSTKCPNGFRTKCHRWKVALIGLLLT...                 False   \n",
       "69   MRNTPRILRHRKIQGLLSKLKSTKCPNGFRTKCPRWKAALIGLLLT...                 False   \n",
       "72   MTISSPYSDILKVLLYVVPLWMSLHYARRSYVKSEKHLEALCWKLQ...                 False   \n",
       "84   MHVPEALTAPTPAPEIEPGIRISDYPKLILRSLGALEEANADKAAV...                  True   \n",
       "87              MALTPRQYQNLSNNLAEVLRYVKQADSQLDYYRRELGQ                  True   \n",
       "90   MITVPVVVDTSCDWVEVIRPTLQDIKVMDLGTKRQIVYHNEMVEKM...                 False   \n",
       "94   MSGCTSKVTTKAEYIYPPQAYTAPCAKTPFTGETYGDAVLQLVKVT...                 False   \n",
       "95     MQPPCKLIPPSSDADEDLAVDVQNAECTRQLRLKVFRLQEYIRNILE                  True   \n",
       "98   MQNNRSHWSHREPRLISKWLLRMMIVLYALCLLPLLTGCESSRTVY...                 False   \n",
       "100             MCCDPETAPAAIRHNGVLLLDSSDRLRRWQRWWEMQDK                 False   \n",
       "109            MKTVESNDPWVLLKVATENVGTAASCILDYHTLQDTVSD                  True   \n",
       "115  MNIYEFSYSGGETDWVFAPNIKEAKDFYLKFTGCGDLTLTTVKRVP...                 False   \n",
       "\n",
       "     rohit_subset_of_ncbi  begin_end_same           new_cds  \\\n",
       "3                   False           False    [12559, 13066]   \n",
       "4                   False            True            [1, 1]   \n",
       "14                  False           False    [11841, 12216]   \n",
       "16                  False           False      [6665, 7103]   \n",
       "17                  False           False    [20192, 20630]   \n",
       "21                  False           False    [42399, 42759]   \n",
       "23                   True           False  [167035, 167455]   \n",
       "28                  False           False    [18048, 18336]   \n",
       "34                   True           False  [137081, 137234]   \n",
       "38                  False           False  [234473, 234857]   \n",
       "44                  False           False  [132642, 132945]   \n",
       "46                  False           False    [35369, 35684]   \n",
       "50                  False           False    [36094, 36415]   \n",
       "69                  False           False    [36600, 36921]   \n",
       "72                  False           False    [37933, 38710]   \n",
       "84                  False           False    [13794, 14082]   \n",
       "87                  False           False       [687, 1020]   \n",
       "90                  False           False    [18235, 18466]   \n",
       "94                  False           False    [23051, 23339]   \n",
       "95                  False           False    [23531, 23795]   \n",
       "98                  False           False    [38656, 39058]   \n",
       "100                 False           False          [0, 249]   \n",
       "109                 False           False    [37502, 37760]   \n",
       "115                 False           False            [0, 0]   \n",
       "\n",
       "                                              verified  \n",
       "3    ['+ G', '+ I', '- K', '- M', '- L', '+ A', '+ ...  \n",
       "4    [- M, - Q, - M, - F, - N, - F, - L, - F, - S, ...  \n",
       "14                                      ['- M', '+ L']  \n",
       "16                                      ['- M', '+ V']  \n",
       "17                                      ['- M', '+ V']  \n",
       "21                                      ['- M', '+ V']  \n",
       "23                                               [+ L]  \n",
       "28                                      ['- M', '+ L']  \n",
       "34                                               [+ D]  \n",
       "38                                      ['- M', '+ V']  \n",
       "44                                          [- M, + V]  \n",
       "46   ['+ L', '+ V', '+ A', '+ T', '+ T', '+ P', '+ ...  \n",
       "50   ['+ L', '+ G', '+ A', '+ T', '+ T', '+ P', '+ ...  \n",
       "69   ['- M', '+ V', '+ C', '+ W', '+ W', '- S', '- ...  \n",
       "72   ['+ P', '- M', '- T', '- Q', '- Y', '- L', '- ...  \n",
       "84                                          [- M, + L]  \n",
       "87                                      ['- M', '+ L']  \n",
       "90                                      ['- M', '+ V']  \n",
       "94                                          [- M, + V]  \n",
       "95                                      ['- M', '+ V']  \n",
       "98   ['+ L', '+ P', '+ I', '+ T', '+ S', '+ C', '+ ...  \n",
       "100                                         [- M, + V]  \n",
       "109                                     ['- M', '+ V']  \n",
       "115  ['- M', '- E', '- K', '- T', '- S', '- N', '- ...  "
      ]
     },
     "execution_count": 506,
     "metadata": {},
     "output_type": "execute_result"
    }
   ],
   "source": [
    "false = data2[data2['verified'] != True]\n",
    "false"
   ]
  },
  {
   "cell_type": "markdown",
   "id": "cardiovascular-weekly",
   "metadata": {},
   "source": [
    "### Phage 3   = Phage 3 is a mess. Genome was updated to NC_024142.2. New cds in ncbi is 12842..13066, however their CDS in ncbi is not a multiple of three. AND I get a different sequence when I translate that cds (probably because the genome in NCBI is a slightly different size than the one efetch gets me...?)\n",
    "### Phage 23 = Rohit's annotation appears to be incorrect here. He ends one amino acid before the stop codon, while NCBI's annotation correctly goes to the stop codon\n",
    "### Phage 34 = 137084:137234, NC_024794.1 (manually)\n",
    "### Phage 46 =  35459:35684, NC_023576.1\n",
    "### Phage 50 =  36184:36415\n",
    "### Phage 69 = This one is a mess too. The protein_acc and protein_gi are out of date and do not match anything in ncbi. They appear to have re-annotated it  by shifting the cds from 36645:36921 to 36550:37000 - which is completely different from rohit's annotation and their original annotation - not even in the same reading frame\n",
    "### Phage 72 = 38503:38710 **but** I find rohit's annotation a little questionable here. He's missing a huge part of the orf\n",
    "### Phage 98 = 38776:39058\n",
    "### Phage 115 = My guess is that they annotated different genes here because the sequence is completely different"
   ]
  },
  {
   "cell_type": "code",
   "execution_count": 507,
   "id": "unusual-defeat",
   "metadata": {},
   "outputs": [
    {
     "name": "stdout",
     "output_type": "stream",
     "text": [
      " MQNTPRILRHRKIQGLLSKLKSTKCPSGFRTKCPRWKAALIGLLLTLTAITSGCASKSTPQVSPSQISVDASLMVESNYTQKLLKVLSE* \n",
      " LVATTPLTISGRLRSMQNTPRILRHRKIQGLLSKLKSTKCPSGFRTKCPRWKAALIGLLLTLTAITSGCASKSTPQVSPSQISVDASLMVESNYTQKLLKVLSE*\n"
     ]
    },
    {
     "data": {
      "text/plain": [
       "(None, '\\n', 'length:', 39207)"
      ]
     },
     "execution_count": 507,
     "metadata": {},
     "output_type": "execute_result"
    }
   ],
   "source": [
    "payload46 = {\n",
    "        \"email\" : \"curtisross@tamu.edu\",\n",
    "        \"acc\" : \"NC_023576.1\",\n",
    "        \"db\" : \"nuccore\"\n",
    "    }\n",
    "from Bio.Seq import Seq\n",
    "\n",
    "phage46 = Seq(GetPhageSeq(**payload46).get_and_return_sequence(ret_type=\"fasta\"))\n",
    "# negative strand so need to rev_complement\n",
    "\n",
    "print('', phage46[35414:35684].translate(), '\\n', phage46[35369:35684].translate()),'\\n', 'length:', len(phage46)"
   ]
  },
  {
   "cell_type": "code",
   "execution_count": 508,
   "id": "broadband-brazil",
   "metadata": {},
   "outputs": [
    {
     "data": {
      "text/plain": [
       "('MLSKLKSTKCPSGFRTKCPRWKAALIGLLLTLTAITSGCASKSTPQVSPSQISVDASLMVESNYTQKLLKVLSE',\n",
       " 'MQNTPRILRHRKIQGLLSKLKSTKCPSGFRTKCPRWKAALIGLLLTLTAITSGCASKSTPQVSPSQISVDASLMVESNYTQKLLKVLSE')"
      ]
     },
     "execution_count": 508,
     "metadata": {},
     "output_type": "execute_result"
    }
   ],
   "source": [
    "data2['sequence'][46], data2['ncbi_sequence'][46]"
   ]
  },
  {
   "cell_type": "code",
   "execution_count": 509,
   "id": "christian-butterfly",
   "metadata": {},
   "outputs": [],
   "source": [
    "def test_spanin(acc: str, cds: List[int], test_cds: List[int], strand: str):\n",
    "    payloadtest = {\n",
    "        \"email\" : \"curtisross@tamu.edu\",\n",
    "        \"acc\" : f\"{acc}\",\n",
    "        \"db\" : \"nuccore\"\n",
    "                }\n",
    "    \n",
    "    phage = Seq(GetPhageSeq(**payloadtest).get_and_return_sequence(ret_type=\"fasta\"))\n",
    "    \n",
    "    if strand == 'NEGATIVE':\n",
    "        return print('', phage[cds[0]:cds[1]].reverse_complement().translate(), '\\n', phage[test_cds[0]:test_cds[1]].reverse_complement().translate()),'\\n', 'length:', len(phage)\n",
    "    return print('', phage[cds[0]:cds[1]].translate(), '\\n', phage[test_cds[0]:test_cds[1]].translate()),'\\n', 'length:', len(phage)"
   ]
  },
  {
   "cell_type": "code",
   "execution_count": 510,
   "id": "confident-prototype",
   "metadata": {},
   "outputs": [
    {
     "name": "stdout",
     "output_type": "stream",
     "text": [
      " MQQSERRASVYKRQAEAGTFECRSLASHAARLDNSLEEGRRLVEELRATVRLRDSQLIELGKQIQADRKLFEQE* \n",
      " CNSLKDEHRYINVKPKPEPLSAEVLQAMQPDSTTVLKKADVWLKNSGQLLDSVTAN*LSWVNRFRLIVNFLNRN\n"
     ]
    },
    {
     "name": "stderr",
     "output_type": "stream",
     "text": [
      "C:\\Users\\jcham\\Anaconda3\\lib\\site-packages\\Bio\\Seq.py:2742: BiopythonWarning: Partial codon, len(sequence) not a multiple of three. Explicitly trim the sequence or add trailing N before translation. This may become an error in future.\n",
      "  BiopythonWarning,\n"
     ]
    },
    {
     "data": {
      "text/plain": [
       "(None, '\\n', 'length:', 72583)"
      ]
     },
     "execution_count": 510,
     "metadata": {},
     "output_type": "execute_result"
    }
   ],
   "source": [
    "# Had to update the acc to the updated version for phage3\n",
    "phage3 = test_spanin('NC_024142.2', [12841, 13066], test_cds = [12842,13066], strand=data2['strand'][3])\n",
    "phage3"
   ]
  },
  {
   "cell_type": "code",
   "execution_count": 511,
   "id": "expanded-constitution",
   "metadata": {},
   "outputs": [
    {
     "data": {
      "text/plain": [
       "('MKMLISKGWPYLLVVVLGATIYFWGNSNGQSTVQKKWDDQKVEDQKAMQKLQDKYNALQRNHSYEVGLLTSRLQTAESNYASELARVSSDYDSRMQQSERRASVYKRQAEAGTFECRSLASHAARLDNSLEEGRRLVEELRATVRLRDSQLIELGKQIQADRKLFEQE',\n",
       " 'MQQSERRASVYKRQAEAGTFECRSLASHAARLDNSLEEGRRLVEELRATVRLRDSQLIELGKQIQADRKLFEQE')"
      ]
     },
     "execution_count": 511,
     "metadata": {},
     "output_type": "execute_result"
    }
   ],
   "source": [
    "data2['sequence'][3], data2['ncbi_sequence'][3]"
   ]
  },
  {
   "cell_type": "markdown",
   "id": "regular-water",
   "metadata": {},
   "source": [
    "#### Rohit's annotation stops one amino acid before the stop codon here. NCBI annotation is the correct one"
   ]
  },
  {
   "cell_type": "code",
   "execution_count": 512,
   "id": "ongoing-aging",
   "metadata": {},
   "outputs": [
    {
     "name": "stdout",
     "output_type": "stream",
     "text": [
      " MDSILNNFVSSYKNIILAICIAIVVVVIGLFLNGIADNAKASTEWEGKYTAQKLVSDQLEAALKAEQDKNKKLEAANAIQQTEIANLKAEDNKLNDIDKSNVEVIIKEVPADKVISKESSKALVKIADNFDTVVDNLEDL* \n",
      " MDSILNNFVSSYKNIILAICIAIVVVVIGLFLNGIADNAKASTEWEGKYTAQKLVSDQLEAALKAEQDKNKKLEAANAIQQTEIANLKAEDNKLNDIDKSNVEVIIKEVPADKVISKESSKALVKIADNFDTVVDNLEDL\n"
     ]
    },
    {
     "data": {
      "text/plain": [
       "(None, '\\n', 'length:', 262391)"
      ]
     },
     "execution_count": 512,
     "metadata": {},
     "output_type": "execute_result"
    }
   ],
   "source": [
    "phage23 = test_spanin(data2['phage_acc'][23], [167032, 167455], test_cds = [167035,167455], strand=data2['strand'][23])\n",
    "phage23"
   ]
  },
  {
   "cell_type": "code",
   "execution_count": 513,
   "id": "endangered-bobby",
   "metadata": {},
   "outputs": [
    {
     "data": {
      "text/plain": [
       "'rohit'"
      ]
     },
     "metadata": {},
     "output_type": "display_data"
    },
    {
     "data": {
      "text/plain": [
       "'MDSILNNFVSSYKNIILAICIAIVVVVIGLFLNGIADNAKASTEWEGKYTAQKLVSDQLEAALKAEQDKNKKLEAANAIQQTEIANLKAEDNKLNDIDKSNVEVIIKEVPADKVISKESSKALVKIADNFDTVVDNLED'"
      ]
     },
     "metadata": {},
     "output_type": "display_data"
    },
    {
     "data": {
      "text/plain": [
       "'ncbi'"
      ]
     },
     "metadata": {},
     "output_type": "display_data"
    },
    {
     "data": {
      "text/plain": [
       "'MDSILNNFVSSYKNIILAICIAIVVVVIGLFLNGIADNAKASTEWEGKYTAQKLVSDQLEAALKAEQDKNKKLEAANAIQQTEIANLKAEDNKLNDIDKSNVEVIIKEVPADKVISKESSKALVKIADNFDTVVDNLEDL'"
      ]
     },
     "metadata": {},
     "output_type": "display_data"
    }
   ],
   "source": [
    "display('rohit', data2['sequence'][23], 'ncbi', data2['ncbi_sequence'][23])"
   ]
  },
  {
   "cell_type": "code",
   "execution_count": 514,
   "id": "common-diversity",
   "metadata": {},
   "outputs": [
    {
     "data": {
      "text/plain": [
       "'MDSILNNFVSSYKNIILAICIAIVVVVIGLFLNGIADNAKASTEWEGKYTAQKLVSDQLEAALKAEQDKNKKLEAANAIQQTEIANLKAEDNKLNDIDKSNVEVIIKEVPADKVISKESSKALVKIADNFDTVVDNLED'"
      ]
     },
     "execution_count": 514,
     "metadata": {},
     "output_type": "execute_result"
    }
   ],
   "source": [
    "data2['sequence'][23]"
   ]
  },
  {
   "cell_type": "code",
   "execution_count": 515,
   "id": "brave-nicaragua",
   "metadata": {},
   "outputs": [
    {
     "name": "stdout",
     "output_type": "stream",
     "text": [
      " MQNTPRILRHRKIQGLLSKLKSTKCPSGFRTKCPRWKAALIGLLLTLTAITSGCASKSTPQVSPSQISVDASLMVESNYTQKLLKVLSE* \n",
      " LLSKLKSTKCPSGFRTKCPRWKAALIGLLLTLTAITSGCASKSTPQVSPSQISVDASLMVESNYTQKLLKVLSE*\n"
     ]
    },
    {
     "data": {
      "text/plain": [
       "(None, '\\n', 'length:', 39207)"
      ]
     },
     "execution_count": 515,
     "metadata": {},
     "output_type": "execute_result"
    }
   ],
   "source": [
    "phage46 = test_spanin(data2['phage_acc'][46], [35414, 35684], test_cds = [35459,35684], strand=data2['strand'][46])\n",
    "phage46"
   ]
  },
  {
   "cell_type": "code",
   "execution_count": 516,
   "id": "bound-window",
   "metadata": {},
   "outputs": [
    {
     "name": "stdout",
     "output_type": "stream",
     "text": [
      " MQNTPRILRHRRIQGLLSKLKSTKCPNGFRTKCHRWKVALIGLLLTFSLTISGCASESKLRVEPRKVTVDASLMVTPNLTNEMLNVLSPSE* \n",
      " LLSKLKSTKCPNGFRTKCHRWKVALIGLLLTFSLTISGCASESKLRVEPRKVTVDASLMVTPNLTNEMLNVLSPSE*\n"
     ]
    },
    {
     "data": {
      "text/plain": [
       "(None, '\\n', 'length:', 39252)"
      ]
     },
     "execution_count": 516,
     "metadata": {},
     "output_type": "execute_result"
    }
   ],
   "source": [
    "phage50 = test_spanin(data2['phage_acc'][50], [36139, 36415], test_cds = [36184,36415], strand=data2['strand'][50])\n",
    "phage50"
   ]
  },
  {
   "cell_type": "code",
   "execution_count": 517,
   "id": "level-associate",
   "metadata": {},
   "outputs": [
    {
     "name": "stdout",
     "output_type": "stream",
     "text": [
      " MLEFLKRAAPWLLAAVMFAGGYHTANNKWEAKVNAEYTSNLKASEDTRLAVQAEVNKVSKRFQDEMSSLEGSTDRIIADLKSDNKRLLIRVKPTSGTTQSDGRCFIDGYAELDERDAKRLIAIGVKGDKWIKALQDTVRALQQEKEVTH* \n",
      " MLEFLKRAAPWLLAAVMFAGGYHTANNKWEAKVNAEYTSNLKASEDTRLAVQAEVNKVSKRFQDEMSSLEGSTDRIIADLKSDNKRLLIRVKPTSGTTQSDGRCFIDGYAELDERDAKRLIAIGVKGDKWIKALQDTVRALQQEKEVTH*\n"
     ]
    },
    {
     "data": {
      "text/plain": [
       "(None, '\\n', 'length:', 39704)"
      ]
     },
     "execution_count": 517,
     "metadata": {},
     "output_type": "execute_result"
    }
   ],
   "source": [
    "phage69 = test_spanin(data2['phage_acc'][69], [36550, 37000], test_cds = [36550,37000], strand=data2['strand'][69])\n",
    "phage69"
   ]
  },
  {
   "cell_type": "code",
   "execution_count": 518,
   "id": "considerable-operation",
   "metadata": {},
   "outputs": [
    {
     "data": {
      "text/plain": [
       "('MLSKLKSTKCPNGFRTKCPRWKAALIGLLLTLSLTISGCSSESNLRVEPRKVTVDASLMVTPNLTNEMLNVLSPSE',\n",
       " 'MRNTPRILRHRKIQGLLSKLKSTKCPNGFRTKCPRWKAALIGLLLTLSLTISGCSSESNLRVEPRKVTVDASLMVTPNLTNEMLNVLSPSE')"
      ]
     },
     "execution_count": 518,
     "metadata": {},
     "output_type": "execute_result"
    }
   ],
   "source": [
    "data['sequence'][69], data['ncbi_sequence'][69]"
   ]
  },
  {
   "cell_type": "code",
   "execution_count": 519,
   "id": "funky-thickness",
   "metadata": {},
   "outputs": [
    {
     "data": {
      "text/plain": [
       "host                                                   Enterobacteria\n",
       "host_taxid                                                        547\n",
       "phage_acc                                                 NC_007456.1\n",
       "protein_acc                                                CAJ29394.1\n",
       "protein_gi                                                   83308161\n",
       "cds                                                      36645..36921\n",
       "strand                                                       POSITIVE\n",
       "function                                                      OSPANIN\n",
       "spanin_type                                                       emb\n",
       "property_feature                                          LIPO:36..39\n",
       "sequence            MLSKLKSTKCPNGFRTKCPRWKAALIGLLLTLSLTISGCSSESNLR...\n",
       "ncbi_sequence       MRNTPRILRHRKIQGLLSKLKSTKCPNGFRTKCPRWKAALIGLLLT...\n",
       "same                                                                N\n",
       "Name: 69, dtype: object"
      ]
     },
     "execution_count": 519,
     "metadata": {},
     "output_type": "execute_result"
    }
   ],
   "source": [
    "data.iloc[69]"
   ]
  },
  {
   "cell_type": "code",
   "execution_count": 520,
   "id": "verified-paste",
   "metadata": {},
   "outputs": [
    {
     "name": "stdout",
     "output_type": "stream",
     "text": [
      " MTISSPYSDILKVLLYVVPLWMSLHYARRSYVKSEKHLEALCWKLQRESSHILWLSWCSPSGGTWVHNLRTPNGRRKYRMSTLRSKRLELKLRKRLTQYRLSTKQTLRGWRAALIGLLLICVATISGCASKSNLPVSPQDQTVDASLMVSSNYTKQLLEVLSQ* \n",
      " MTISSPYSDILKVLLYVVPLWMSLHYARRSYVKSEKHLEALCWKLQRESSHILWLSWCSPSGGTWVHNLRTPNGRRKYRMSTLRSKRLELKLRKRLTQYRLSTKQTLRGWRAALIGLLLICVATISGCASKSNLPVSPQDQTVDASLMVSSNYTKQLLEVLSQ*\n"
     ]
    },
    {
     "data": {
      "text/plain": [
       "(None, '\\n', 'length:', 41119)"
      ]
     },
     "execution_count": 520,
     "metadata": {},
     "output_type": "execute_result"
    }
   ],
   "source": [
    "phage72 = test_spanin(data2['phage_acc'][72], [38218, 38710], test_cds = [38218,38710], strand=data2['strand'][72])\n",
    "phage72"
   ]
  },
  {
   "cell_type": "markdown",
   "id": "active-technology",
   "metadata": {},
   "source": [
    "#### Rohit is missing a huge part of the orf here compared to the ncbi annotation, and does not have a stop codon to justify it"
   ]
  },
  {
   "cell_type": "code",
   "execution_count": 521,
   "id": "maritime-eclipse",
   "metadata": {},
   "outputs": [
    {
     "data": {
      "text/plain": [
       "('MTQYRLSTKQTLRGWRAALIGLLLICVATISGCASKSNLPVSPQDQTVDASLMVSSNYTKQLLEVLSQ',\n",
       " 'MTISSPYSDILKVLLYVVPLWMSLHYARRSYVKSEKHLEALCWKLQRESSHILWLSWCSPSGGTWVHNLRTPNGRRKYRMSTLRSKRLELKLRKRLTQYRLSTKQTLRGWRAALIGLLLICVATISGCASKSNLPVSPQDQTVDASLMVSSNYTKQLLEVLSQ')"
      ]
     },
     "execution_count": 521,
     "metadata": {},
     "output_type": "execute_result"
    }
   ],
   "source": [
    "data2['sequence'][72], data2['ncbi_sequence'][72]"
   ]
  },
  {
   "cell_type": "code",
   "execution_count": 522,
   "id": "entertaining-violation",
   "metadata": {},
   "outputs": [
    {
     "name": "stdout",
     "output_type": "stream",
     "text": [
      " MTISSPYSDILKVLLYVVPLWMSLHYARRSYVKSEKHLEALCWKLQRESSHILWLSWCSPSGGTWVHNLRTPNGRRKYRMSTLRSKRLELKLRKRLTQYRLSTKQTLRGWRAALIGLLLICVATISGCASKSNLPVSPQDQTVDASLMVSSNYTKQLLEVLSQ* \n",
      " LTQYRLSTKQTLRGWRAALIGLLLICVATISGCASKSNLPVSPQDQTVDASLMVSSNYTKQLLEVLSQ*\n"
     ]
    },
    {
     "data": {
      "text/plain": [
       "(None, '\\n', 'length:', 41119)"
      ]
     },
     "execution_count": 522,
     "metadata": {},
     "output_type": "execute_result"
    }
   ],
   "source": [
    "phage72 = test_spanin(data2['phage_acc'][72], [38218, 38710], test_cds = [38503,38710], strand=data2['strand'][72])\n",
    "phage72"
   ]
  },
  {
   "cell_type": "code",
   "execution_count": 523,
   "id": "renewable-arthur",
   "metadata": {},
   "outputs": [
    {
     "name": "stdout",
     "output_type": "stream",
     "text": [
      " MQNNRSHWSHREPRLISKWLLRMMIVLYALCLLPLLTGCESSRTVYVPVPAIPLPASLTAETPQPAISEPLTYAGSLDLNVSLLSALGQCNLDKAGIRRIEASRSGRSESGSK* \n",
      " LRMMIVLYALCLLPLLTGCESSRTVYVPVPAIPLPASLTAETPQPAISEPLTYAGSLDLNVSLLSALGQCNLDKAGIRRIEASRSGRSESGSK*\n"
     ]
    },
    {
     "data": {
      "text/plain": [
       "(None, '\\n', 'length:', 39758)"
      ]
     },
     "execution_count": 523,
     "metadata": {},
     "output_type": "execute_result"
    }
   ],
   "source": [
    "phage98 = test_spanin(data2['phage_acc'][98], [38716, 39058], test_cds = [38776,39058], strand=data2['strand'][98])\n",
    "phage98"
   ]
  },
  {
   "cell_type": "code",
   "execution_count": 524,
   "id": "stable-accessory",
   "metadata": {},
   "outputs": [
    {
     "name": "stdout",
     "output_type": "stream",
     "text": [
      " MNIYEFSYSGGETDWVFAPNIKEAKDFYLKFTGCGDLTLTTVKRVPKSKWNEMYLLDPNYSEPDEDEEDYNEEDYSCGLKIIETFAEYAERNTITDMIATTEY* \n",
      " MNIYEFSYSGGETDWVFAPNIKEAKDFYLKFTGCGDLTLTTVKRVPKSKWNEMYLLDPNYSEPDEDEEDYNEEDYSCGLKIIETFAEYAERNTITDMIATTEY*\n"
     ]
    },
    {
     "data": {
      "text/plain": [
       "(None, '\\n', 'length:', 72369)"
      ]
     },
     "execution_count": 524,
     "metadata": {},
     "output_type": "execute_result"
    }
   ],
   "source": [
    "phage115 = test_spanin(data2['phage_acc'][115], [14606, 14918], test_cds = [14606,14918], strand=data2['strand'][115])\n",
    "phage115"
   ]
  },
  {
   "cell_type": "code",
   "execution_count": 525,
   "id": "polar-lover",
   "metadata": {},
   "outputs": [
    {
     "data": {
      "text/plain": [
       "('MEKTSNTSKNFMIVILMMLFSIACFAQDKNYVSVHRDSLYNALLNISELKVENAFLRKKNDNQKVIITAQEIIISETEFKTEILTKQISIEQSTGTKKWWNGFGKGVATGGVIVLGLFLGLK',\n",
       " 'MNIYEFSYSGGETDWVFAPNIKEAKDFYLKFTGCGDLTLTTVKRVPKSKWNEMYLLDPNYSEPDEDEEDYNEEDYSCGLKIIETFAEYAERNTITDMIATTEY')"
      ]
     },
     "execution_count": 525,
     "metadata": {},
     "output_type": "execute_result"
    }
   ],
   "source": [
    "data2['sequence'][115], data2['ncbi_sequence'][115]"
   ]
  },
  {
   "cell_type": "markdown",
   "id": "mobile-hypothetical",
   "metadata": {},
   "source": [
    "# NaN rows\n",
    "#### 45, 79 and 99"
   ]
  },
  {
   "cell_type": "markdown",
   "id": "african-dress",
   "metadata": {},
   "source": [
    "## Phage 45 = Deletion of T in rohit's annotation compared to NCBI's annotation"
   ]
  },
  {
   "cell_type": "code",
   "execution_count": 526,
   "id": "aggregate-attempt",
   "metadata": {},
   "outputs": [
    {
     "name": "stdout",
     "output_type": "stream",
     "text": [
      " MKFKKFLLALIPFIFVGCSAVRTEFIYPKIPDVKEPPMTQDYNLTVIKINNVEYYSLSPEDAKILSENWIKFKSWAETNYELLKIIKNKDLK* \n",
      " MKFKKFLLALIPFIFVGCSAVRTEFIYPKIPDVKEPPMTQDYNLTVIKINNVEYYSLSPEDAKILSENWIKFKSWAETNYELLKIIKNKDLK*\n"
     ]
    },
    {
     "data": {
      "text/plain": [
       "(None, '\\n', 'length:', 175720)"
      ]
     },
     "execution_count": 526,
     "metadata": {},
     "output_type": "execute_result"
    }
   ],
   "source": [
    "phage45 = test_spanin(data['phage_acc'][45], [99401, 99680], test_cds = [99401,99680], strand=data['strand'][45])\n",
    "phage45"
   ]
  },
  {
   "cell_type": "code",
   "execution_count": 527,
   "id": "grand-radius",
   "metadata": {},
   "outputs": [
    {
     "data": {
      "text/plain": [
       "('MKFKKFLLALIPFIFVGCSAVRTEFIYPKIPDVKEPPMTQDYNLTVIKINNVEYYSLSPEDAKILSENWIKFKSWAENYELLKIIKNKDLK',\n",
       " 'MKFKKFLLALIPFIFVGCSAVRTEFIYPKIPDVKEPPMTQDYNLTVIKINNVEYYSLSPEDAKILSENWIKFKSWAETNYELLKIIKNKDLK')"
      ]
     },
     "execution_count": 527,
     "metadata": {},
     "output_type": "execute_result"
    }
   ],
   "source": [
    "data['sequence'][45], data['ncbi_sequence'][45]"
   ]
  },
  {
   "cell_type": "code",
   "execution_count": 528,
   "id": "several-bosnia",
   "metadata": {},
   "outputs": [
    {
     "data": {
      "text/plain": [
       "['+ T']"
      ]
     },
     "execution_count": 528,
     "metadata": {},
     "output_type": "execute_result"
    }
   ],
   "source": [
    "find_difference_two_strings(\n",
    "    'MKFKKFLLALIPFIFVGCSAVRTEFIYPKIPDVKEPPMTQDYNLTVIKINNVEYYSLSPEDAKILSENWIKFKSWAENYELLKIIKNKDLK',\n",
    "    'MKFKKFLLALIPFIFVGCSAVRTEFIYPKIPDVKEPPMTQDYNLTVIKINNVEYYSLSPEDAKILSENWIKFKSWAETNYELLKIIKNKDLK')"
   ]
  },
  {
   "cell_type": "markdown",
   "id": "promising-order",
   "metadata": {},
   "source": [
    "## Phage 79 = Genome has been updated to NC_021342.2\n",
    "* They annotate the IM spanin (26746..27057) as embedded in the OM spanin (26592..26849)\n",
    "* **Rohit only annotated the OM spanin cds here (26592:26849), which is the same cds they have.**"
   ]
  },
  {
   "cell_type": "code",
   "execution_count": 529,
   "id": "acting-homework",
   "metadata": {},
   "outputs": [
    {
     "name": "stdout",
     "output_type": "stream",
     "text": [
      " MSIVSKLLLCGIVCAIAGCSNSTTRHSDCPTVSSDLLVPPRKLESTHNDPERAAWVIPWNAEALLADRSRLERWQAWYNATRKGL \n",
      " MSIVSKLLLCGIVCAIAGCSNSTTRHSDCPTVSSDLLVPPRKLESTHNDPERAAWVIPWNAEALLADRSRLERWQAWYNATRKGL\n"
     ]
    },
    {
     "data": {
      "text/plain": [
       "(None, '\\n', 'length:', 43418)"
      ]
     },
     "execution_count": 529,
     "metadata": {},
     "output_type": "execute_result"
    }
   ],
   "source": [
    "phage79 = test_spanin(data['phage_acc'][79], [26592, 26849], test_cds = [26592,26849], strand='NEGATIVE')\n",
    "phage79"
   ]
  },
  {
   "cell_type": "code",
   "execution_count": 530,
   "id": "color-greene",
   "metadata": {},
   "outputs": [
    {
     "data": {
      "text/plain": [
       "'MSIVSKLLLCGIVCAIAGCSNSTTRHSDCPTVSSDLLVPPRKLESTHNDPERAAWVIPWNAEALLADRSRLERWQAWYNATRKGL'"
      ]
     },
     "execution_count": 530,
     "metadata": {},
     "output_type": "execute_result"
    }
   ],
   "source": [
    "data['sequence'][79]"
   ]
  },
  {
   "cell_type": "markdown",
   "id": "arranged-immunology",
   "metadata": {},
   "source": [
    "## Phage 99 = Genome has been updated to NC_012223.2\n",
    "* They have updated the annotation and it is now the same as rohit's"
   ]
  },
  {
   "cell_type": "code",
   "execution_count": 531,
   "id": "variable-edwards",
   "metadata": {},
   "outputs": [
    {
     "name": "stdout",
     "output_type": "stream",
     "text": [
      " MLRALTALIVVLTLSACGSSSVPLMPLTESALRPPCKFDNPSADPDEDLMIDVKNMECGAKLRAQVLELQQIIKGP* \n",
      " MLRALTALIVVLTLSACGSSSVPLMPLTESALRPPCKFDNPSADPDEDLMIDVKNMECGAKLRAQVLELQQIIKGP*\n"
     ]
    },
    {
     "data": {
      "text/plain": [
       "(None, '\\n', 'length:', 44899)"
      ]
     },
     "execution_count": 531,
     "metadata": {},
     "output_type": "execute_result"
    }
   ],
   "source": [
    "phage99 = test_spanin(data['phage_acc'][99], [4835, 5066], test_cds = [4835,5066], strand='POSITIVE')\n",
    "phage99"
   ]
  },
  {
   "cell_type": "code",
   "execution_count": 532,
   "id": "radio-logic",
   "metadata": {},
   "outputs": [
    {
     "data": {
      "text/plain": [
       "76"
      ]
     },
     "execution_count": 532,
     "metadata": {},
     "output_type": "execute_result"
    }
   ],
   "source": [
    "len('MLRALTALIVVLTLSACGSSSVPLMPLTESALRPPCKFDNPSADPDEDLMIDVKNMECGAKLRAQVLELQQIIKGP')"
   ]
  },
  {
   "cell_type": "markdown",
   "id": "closing-rainbow",
   "metadata": {},
   "source": [
    "# Rows not called by NCBI submitter\n",
    "#### 2, 5, 25, 40, 41, 42, 74, 81, 114, 118"
   ]
  },
  {
   "cell_type": "markdown",
   "id": "medium-border",
   "metadata": {},
   "source": [
    "### Phage 2 = called in NCBI now as hypothetical protein with CDS 134887:135240. Identical to rohit's sequence. Negative strand.\n",
    "### Phage 5 = called in NCBI now as \"Rz\" with CDS 17544:18005. Identical to rohit's sequence. Negative strand.\n",
    "### Phage 25 = called in NCBI now as hypothetical protein with CDS 41130:41510. Identical to rohit's sequence. However 41129:41510 is what properly translates in biopython. Pos strand.\n",
    "### Phage 40 = called in NCBI now as hypothetical protein with CDS 5432:5779. Identical to rohit's sequence. However 5431:5779 is what properly translates in biopython. Pos strand.\n",
    "### Phage 41 = called in NCBI now as 18.7 with CDS 35510:35761. Identical to rohit's sequence. However 35509:35761 is what properly translates in biopython. Pos strand.\n",
    "### Phage 42 = called in NCBI as conserved hypothetical protein with CDS 134591:134890. Identical to rohit's sequence. Negative strand.\n",
    "### Phage 74 = called in NCBI as hypothetical protein with CDS 54219:54575. Identical to rohit's sequence. 54218:54575 is what properly translates. Pos strand.\n",
    "### Phage 81 = Rohit's call not found anywhere in the NCBI proteins. No spanins or hypothetical lipoproteins called in the NCBI data either. \n",
    "### Phage 114 = called in NCBI as hypothetical protein with CDS 5673:5942. Identical to rohit's sequence but 5672:5942 is what properly translates. Pos strand.\n",
    "### Phage 118 = called in NCBI as hypothetical protein with CDS 56741:57115. Identical to rohit's sequence but 56740:57115 is what properly trnaslates. Pos strand."
   ]
  },
  {
   "cell_type": "code",
   "execution_count": null,
   "id": "piano-victim",
   "metadata": {},
   "outputs": [],
   "source": []
  },
  {
   "cell_type": "code",
   "execution_count": 533,
   "id": "million-parcel",
   "metadata": {},
   "outputs": [
    {
     "name": "stdout",
     "output_type": "stream",
     "text": [
      " MHVSNFTAGLLLLVIAFGGTSIILKNKVERLETSVVEITKTANENALALNNLRIQYNYIDAMNNKNREAIAAIERENEKLRKDAKKADVVARKPGLVEKQINNSFNKFAEDIQDLSK \n",
      " MHVSNFTAGLLLLVIAFGGTSIILKNKVERLETSVVEITKTANENALALNNLRIQYNYIDAMNNKNREAIAAIERENEKLRKDAKKADVVARKPGLVEKQINNSFNKFAEDIQDLSK\n"
     ]
    },
    {
     "data": {
      "text/plain": [
       "(None, '\\n', 'length:', 167435)"
      ]
     },
     "execution_count": 533,
     "metadata": {},
     "output_type": "execute_result"
    }
   ],
   "source": [
    "phage2 = test_spanin(data['phage_acc'][2], [134887, 135240], test_cds = [134887,135240], strand='NEGATIVE')\n",
    "phage2"
   ]
  },
  {
   "cell_type": "code",
   "execution_count": 534,
   "id": "united-sphere",
   "metadata": {},
   "outputs": [
    {
     "name": "stdout",
     "output_type": "stream",
     "text": [
      " MQMFNFLFSFIKSNIIYILLGSLLAFTAYRYISLEKSNAILIENEKQLTQNIKNSKKELEALKNYNNLTIEVFREKEVKYKEVLNNIKNIETKIQKLKLMRKDENETQYIIVNF \n",
      " MQMFNFLFSFIKSNIIYILLGSLLAFTAYRYISLEKSNAILIENEKQLTQNIKNSKKELEALKNYNNLTIEVFREKEVKYKEVLNNIKNIETKIQKLKLMRKDENETQYIIVNF\n"
     ]
    },
    {
     "data": {
      "text/plain": [
       "(None, '\\n', 'length:', 132662)"
      ]
     },
     "execution_count": 534,
     "metadata": {},
     "output_type": "execute_result"
    }
   ],
   "source": [
    "phage4 = test_spanin(data['phage_acc'][4], [89203, 89547], test_cds = [89203,89547], strand='NEGATIVE')\n",
    "phage4"
   ]
  },
  {
   "cell_type": "code",
   "execution_count": 535,
   "id": "inclusive-lightweight",
   "metadata": {},
   "outputs": [
    {
     "data": {
      "text/plain": [
       "host                                                    Campylobacter\n",
       "host_taxid                                                        194\n",
       "phage_acc                                                 NC_016562.1\n",
       "protein_acc                                            YP_004956969.1\n",
       "protein_gi                                                  371671013\n",
       "cds                                                      89202..89547\n",
       "strand                                                       NEGATIVE\n",
       "function                                                      ISPANIN\n",
       "spanin_type                                                       ovl\n",
       "property_feature                                           TMD:15..34\n",
       "sequence            MQMFNFLFSFIKSNIIYILLGSLLAFTAYRYISLEKSNAILIENEK...\n",
       "ncbi_sequence       MQMFNFLFSFIKSNIIYILLGSLLAFTAYRYISLEKSNAILIENEK...\n",
       "same                                                                N\n",
       "Name: 4, dtype: object"
      ]
     },
     "execution_count": 535,
     "metadata": {},
     "output_type": "execute_result"
    }
   ],
   "source": [
    "data.iloc[4]"
   ]
  },
  {
   "cell_type": "code",
   "execution_count": 536,
   "id": "third-causing",
   "metadata": {},
   "outputs": [
    {
     "data": {
      "text/plain": [
       "('MQMFNFLFSFIKSNIIYILLGSLLAFTAYRYISLEKSNAILIENEKQLTQNIKNSKKELEALKNYNNLTEVFREKEVKYKEVLNNIKNIETKIQKLKLMRKDENETQYIIVNF',\n",
       " 'MQMFNFLFSFIKSNIIYILLGSLLAFTAYRYISLEKSNAILIENEKQLTQNIKNSKKELEALKNYNNLTIEVFREKEVKYKEVLNNIKNIETKIQKLKLMRKDENETQYIIVNF')"
      ]
     },
     "execution_count": 536,
     "metadata": {},
     "output_type": "execute_result"
    }
   ],
   "source": [
    "data['sequence'][4], data['ncbi_sequence'][4]"
   ]
  },
  {
   "cell_type": "code",
   "execution_count": 537,
   "id": "standard-happening",
   "metadata": {},
   "outputs": [
    {
     "name": "stdout",
     "output_type": "stream",
     "text": [
      "  \n",
      " \n"
     ]
    },
    {
     "data": {
      "text/plain": [
       "(None, '\\n', 'length:', 42925)"
      ]
     },
     "execution_count": 537,
     "metadata": {},
     "output_type": "execute_result"
    }
   ],
   "source": [
    "phage5 = test_spanin(data['phage_acc'][5], [134887, 135240], test_cds = [134887,135240], strand='NEGATIVE')\n",
    "phage5"
   ]
  },
  {
   "cell_type": "code",
   "execution_count": 538,
   "id": "secure-camel",
   "metadata": {},
   "outputs": [
    {
     "data": {
      "text/plain": [
       "'MSRVTAIISALVICIIVCLSWAVNHYRDNAITYKAQRDKNARELKLANAAITDMQMRQRDVAALDAKYTKELADAKAENDALRDDVAAGRRRLHIKAVCQSVREATTASGVDNAASPRLADTAERDYFTLRERLITMQKQLEGTQKYINEQCR'"
      ]
     },
     "execution_count": 538,
     "metadata": {},
     "output_type": "execute_result"
    }
   ],
   "source": [
    "data['sequence'][5]"
   ]
  },
  {
   "cell_type": "code",
   "execution_count": 539,
   "id": "revolutionary-adjustment",
   "metadata": {},
   "outputs": [
    {
     "name": "stdout",
     "output_type": "stream",
     "text": [
      " LLTIPNKYKWAVMALLAAVSIGSLTLANHYRDSALTSQKALQEVTDAHVAYIEGVEAGEKTAGSRIEANKQLKERTDAAIKRVESIPGPTERVPDAVLIELQRAAEAASSSTRTSLPQKPRSSTRG* \n",
      " CLLYRTSTNGL*WPC*PL*ASVV*PWLITTGIAH*PRRRLSRRSQMHMWLI*KVWKLVRRLLVPVSKLTSS*RREPMLQSRGWSLSLVPLSVFLMLSLSSCSVQPRPPVPVHVPASLRSPVAAPEV\n"
     ]
    },
    {
     "data": {
      "text/plain": [
       "(None, '\\n', 'length:', 42085)"
      ]
     },
     "execution_count": 539,
     "metadata": {},
     "output_type": "execute_result"
    }
   ],
   "source": [
    "phage25 = test_spanin(data['phage_acc'][25], [41129, 41510], test_cds = [41130,41510], strand='POSITIVE')\n",
    "phage25"
   ]
  },
  {
   "cell_type": "code",
   "execution_count": 540,
   "id": "billion-winner",
   "metadata": {},
   "outputs": [
    {
     "name": "stdout",
     "output_type": "stream",
     "text": [
      " MTFKEFCQATFIIVFLVGAGVWGGYSYRDYQVAEAELSNEKLISVAKDAYQEGLVTLSTNYKNDLKDVLAKNKHTKEVLTYEKTKPEFYNVCVTDNYVRVFNEQSEQYIQKLPSK* \n",
      " *HLKSSVKPLS*LFS*LGRVSGEDTLTETTKLLKLS*AMRS**VLLKMLIRKD*LH*APITKMI*KMCLLRISTQKRY*HMKKLSQSFIMFVLLIIMSGCSTNKVSSTFKNSQVS\n"
     ]
    },
    {
     "data": {
      "text/plain": [
       "(None, '\\n', 'length:', 86252)"
      ]
     },
     "execution_count": 540,
     "metadata": {},
     "output_type": "execute_result"
    }
   ],
   "source": [
    "phage40 = test_spanin(data['phage_acc'][40], [5431, 5779], test_cds = [5432,5779], strand='POSITIVE')\n",
    "phage40"
   ]
  },
  {
   "cell_type": "code",
   "execution_count": 541,
   "id": "leading-attachment",
   "metadata": {},
   "outputs": [
    {
     "name": "stdout",
     "output_type": "stream",
     "text": [
      "  \n",
      " \n"
     ]
    },
    {
     "data": {
      "text/plain": [
       "(None, '\\n', 'length:', 23931)"
      ]
     },
     "execution_count": 541,
     "metadata": {},
     "output_type": "execute_result"
    }
   ],
   "source": [
    "phage81 = test_spanin(data['phage_acc'][81], [54218,54575], test_cds = [54219,54575], strand='POSITIVE')\n",
    "phage81"
   ]
  },
  {
   "cell_type": "code",
   "execution_count": 542,
   "id": "computational-bristol",
   "metadata": {},
   "outputs": [
    {
     "data": {
      "text/plain": [
       "host                                                     Bdellovibrio\n",
       "host_taxid                                                        662\n",
       "phage_acc                                                 NC_015721.1\n",
       "protein_acc                                                       NaN\n",
       "protein_gi                                                   33882695\n",
       "cds                                                               NaN\n",
       "strand                                                            NaN\n",
       "function                                                      OSPANIN\n",
       "spanin_type                                                       ovl\n",
       "property_feature                                          LIPO:25..28\n",
       "sequence            MQKNIRMPRLGPIKFALLLILSIGIISCAGVPKFPKDIKVWETAYL...\n",
       "ncbi_sequence                                                     NaN\n",
       "same                                                              NaN\n",
       "Name: 81, dtype: object"
      ]
     },
     "execution_count": 542,
     "metadata": {},
     "output_type": "execute_result"
    }
   ],
   "source": [
    "data.iloc[81]"
   ]
  },
  {
   "cell_type": "code",
   "execution_count": 543,
   "id": "daily-legend",
   "metadata": {},
   "outputs": [
    {
     "data": {
      "text/plain": [
       "'MQKNIRMPRLGPIKFALLLILSIGIISCAGVPKFPKDIKVWETAYLPPPKDVPRGTPGQWFCGEYEPTTKNITRAKDIKFKPVKDHDISKCVGVFGFKDKDFPAVLDWMDRVQNYYEDRLERCEAKK'"
      ]
     },
     "execution_count": 543,
     "metadata": {},
     "output_type": "execute_result"
    }
   ],
   "source": [
    "data['sequence'][81]"
   ]
  },
  {
   "cell_type": "code",
   "execution_count": 544,
   "id": "chronic-soldier",
   "metadata": {},
   "outputs": [
    {
     "name": "stdout",
     "output_type": "stream",
     "text": [
      " *R*FLLSYYH*LY*QVAVPCRWLQV*QAP*AENNLVYQWTPRWVIEWLMLARTITQQ*MPKITKVSSQ*LLINPRSNSTVPNR*PYRNLIVSWKCYYIPLV*LVGCYLILLRCIQKLNRGSPNL \n",
      " VKIISTILLSLALLTGCSAMQMATGIASTLSGEQPSLSVDAQMGDRVANVGENDNSTINAEDNEGILTVTSNKSEKQFNGAQQITIQESNSFVEMLLYSIGLIGWLLPNPSQMYSEVKSWFSKS*\n"
     ]
    },
    {
     "data": {
      "text/plain": [
       "(None, '\\n', 'length:', 66316)"
      ]
     },
     "execution_count": 544,
     "metadata": {},
     "output_type": "execute_result"
    }
   ],
   "source": [
    "phage118 = test_spanin(data['phage_acc'][118], [56741,57115], test_cds = [56740,57115], strand='POSITIVE')\n",
    "phage118"
   ]
  },
  {
   "cell_type": "code",
   "execution_count": 545,
   "id": "brutal-breakfast",
   "metadata": {},
   "outputs": [
    {
     "data": {
      "text/plain": [
       "host                                                           vibrio\n",
       "host_taxid                                                        662\n",
       "phage_acc                                                 NC_023863.2\n",
       "protein_acc                                                       NaN\n",
       "protein_gi                                                  657201235\n",
       "cds                                                               NaN\n",
       "strand                                                            NaN\n",
       "function                                                      USPANIN\n",
       "spanin_type                                                       USP\n",
       "property_feature                                          LIPO:14..17\n",
       "sequence            MKIISTILLSLALLTGCSAMQMATGIASTLSGEQPSLSVDAQMGDR...\n",
       "ncbi_sequence                                                     NaN\n",
       "same                                                              NaN\n",
       "Name: 118, dtype: object"
      ]
     },
     "execution_count": 545,
     "metadata": {},
     "output_type": "execute_result"
    }
   ],
   "source": [
    "data.iloc[118]"
   ]
  },
  {
   "cell_type": "code",
   "execution_count": 546,
   "id": "frank-atlanta",
   "metadata": {},
   "outputs": [
    {
     "data": {
      "text/plain": [
       "'MKIISTILLSLALLTGCSAMQMATGIASTLSGEQPSLSVDAQMGDRVANVGENDNSTINAEDNEGILTVTSNKSEKQFNGAQQITIQESNSFVEMLLYSIGLIGWLLPNPSQMYSEVKSWFSKS'"
      ]
     },
     "execution_count": 546,
     "metadata": {},
     "output_type": "execute_result"
    }
   ],
   "source": [
    "data['sequence'][118]"
   ]
  },
  {
   "cell_type": "code",
   "execution_count": 547,
   "id": "reduced-fountain",
   "metadata": {},
   "outputs": [],
   "source": [
    "# Get cds data in a column in the format of\n",
    "# rohit:XX..YY\n",
    "# make a notes column and copy my notes into it for questionable spanins"
   ]
  },
  {
   "cell_type": "code",
   "execution_count": 548,
   "id": "saved-enclosure",
   "metadata": {},
   "outputs": [],
   "source": [
    "# for other category, need to check and verify the sequence is what the cds says it is (cat1 other csv file)\n",
    "# it might be the negative strand (or some of them might be)\n",
    "# check if sequence is good, if it is not, check the other opposite strand\n",
    "# if neither of those are right, then mark it to be looked at further by curtis/jolene"
   ]
  },
  {
   "cell_type": "markdown",
   "id": "accompanied-colors",
   "metadata": {},
   "source": [
    "* Phage 2 = called in NCBI now as hypothetical protein with CDS 134887:135240. Identical to rohit's sequence. Negative strand.\n",
    "* Phage 5 = called in NCBI now as \"Rz\" with CDS 17544:18005. Identical to rohit's sequence. Negative strand.\n",
    "* Phage 25 = called in NCBI now as hypothetical protein with CDS 41130:41510. Identical to rohit's sequence. However 41129:41510 is what properly translates in biopython. Pos strand.\n",
    "* Phage 40 = called in NCBI now as hypothetical protein with CDS 5432:5779. Identical to rohit's sequence. However 5431:5779 is what properly translates in biopython. Pos strand.\n",
    "* Phage 41 = called in NCBI now as 18.7 with CDS 35510:35761. Identical to rohit's sequence. However 35509:35761 is what properly translates in biopython. Pos strand.\n",
    "* Phage 42 = called in NCBI as conserved hypothetical protein with CDS 134591:134890. Identical to rohit's sequence. Negative strand.\n",
    "* Phage 74 = called in NCBI as hypothetical protein with CDS 54219:54575. Identical to rohit's sequence. 54218:54575 is what properly translates. Pos strand.\n",
    "* Phage 81 = Rohit's call not found anywhere in the NCBI proteins. No spanins or hypothetical lipoproteins called in the NCBI data either. \n",
    "* Phage 114 = called in NCBI as hypothetical protein with CDS 5673:5942. Identical to rohit's sequence but 5672:5942 is what properly translates. Pos strand.\n",
    "* Phage 118 = called in NCBI as hypothetical protein with CDS 56741:57115. Identical to rohit's sequence but 56740:57115 is what properly trnaslates. Pos strand."
   ]
  },
  {
   "cell_type": "code",
   "execution_count": 549,
   "id": "engaged-healthcare",
   "metadata": {},
   "outputs": [
    {
     "data": {
      "text/html": [
       "<div>\n",
       "<style scoped>\n",
       "    .dataframe tbody tr th:only-of-type {\n",
       "        vertical-align: middle;\n",
       "    }\n",
       "\n",
       "    .dataframe tbody tr th {\n",
       "        vertical-align: top;\n",
       "    }\n",
       "\n",
       "    .dataframe thead th {\n",
       "        text-align: right;\n",
       "    }\n",
       "</style>\n",
       "<table border=\"1\" class=\"dataframe\">\n",
       "  <thead>\n",
       "    <tr style=\"text-align: right;\">\n",
       "      <th></th>\n",
       "      <th>host</th>\n",
       "      <th>host_taxid</th>\n",
       "      <th>phage_acc</th>\n",
       "      <th>protein_acc</th>\n",
       "      <th>protein_gi</th>\n",
       "      <th>cds</th>\n",
       "      <th>strand</th>\n",
       "      <th>function</th>\n",
       "      <th>spanin_type</th>\n",
       "      <th>property_feature</th>\n",
       "      <th>sequence</th>\n",
       "      <th>ncbi_sequence</th>\n",
       "      <th>same</th>\n",
       "      <th>new_cds</th>\n",
       "    </tr>\n",
       "  </thead>\n",
       "  <tbody>\n",
       "    <tr>\n",
       "      <th>0</th>\n",
       "      <td>Aeromonas</td>\n",
       "      <td>642</td>\n",
       "      <td>NC_020879.1</td>\n",
       "      <td>YP_007677913.1</td>\n",
       "      <td>472438133</td>\n",
       "      <td>126555..126789</td>\n",
       "      <td>NEGATIVE</td>\n",
       "      <td>ISPANIN</td>\n",
       "      <td>sep</td>\n",
       "      <td>TMD:7..29</td>\n",
       "      <td>MLLTLSSLLSWLKSNALCIIIMVLMAIMMKNQHDEISTLKTSLESM...</td>\n",
       "      <td>MKNQHDEISTLKTSLESMKSFQTKSYENAKPVTEALLKSPKATKQM...</td>\n",
       "      <td>N</td>\n",
       "      <td>[126555, 126873]</td>\n",
       "    </tr>\n",
       "    <tr>\n",
       "      <th>1</th>\n",
       "      <td>Aeromonas</td>\n",
       "      <td>642</td>\n",
       "      <td>NC_019543.1</td>\n",
       "      <td>YP_007010874.1</td>\n",
       "      <td>423262275</td>\n",
       "      <td>124571..124826</td>\n",
       "      <td>NEGATIVE</td>\n",
       "      <td>ISPANIN</td>\n",
       "      <td>sep</td>\n",
       "      <td>TMD:7..29</td>\n",
       "      <td>MLLTLSSLLSWLKSNALYIIIMVLMAIMMKNQHDEISTLKNSLESM...</td>\n",
       "      <td>MVLMAIMMKNQHDEISTLKNSLESMKSFQTKSYENAKPVTEALLKS...</td>\n",
       "      <td>N</td>\n",
       "      <td>[124571, 124889]</td>\n",
       "    </tr>\n",
       "    <tr>\n",
       "      <th>2</th>\n",
       "      <td>Enterobacteria</td>\n",
       "      <td>547</td>\n",
       "      <td>AP011113</td>\n",
       "      <td>NaN</td>\n",
       "      <td>26042140</td>\n",
       "      <td>NaN</td>\n",
       "      <td>NaN</td>\n",
       "      <td>ISPANIN</td>\n",
       "      <td>sep</td>\n",
       "      <td>TMD:5..24</td>\n",
       "      <td>MHVSNFTAGLLLLVIAFGGTSIILKNKVERLETSVVEITKTANENA...</td>\n",
       "      <td>NaN</td>\n",
       "      <td>NaN</td>\n",
       "      <td>NaN</td>\n",
       "    </tr>\n",
       "  </tbody>\n",
       "</table>\n",
       "</div>"
      ],
      "text/plain": [
       "             host  host_taxid    phage_acc     protein_acc  protein_gi  \\\n",
       "0       Aeromonas         642  NC_020879.1  YP_007677913.1   472438133   \n",
       "1       Aeromonas         642  NC_019543.1  YP_007010874.1   423262275   \n",
       "2  Enterobacteria         547     AP011113             NaN    26042140   \n",
       "\n",
       "              cds    strand function spanin_type property_feature  \\\n",
       "0  126555..126789  NEGATIVE  ISPANIN         sep        TMD:7..29   \n",
       "1  124571..124826  NEGATIVE  ISPANIN         sep        TMD:7..29   \n",
       "2             NaN       NaN  ISPANIN         sep        TMD:5..24   \n",
       "\n",
       "                                            sequence  \\\n",
       "0  MLLTLSSLLSWLKSNALCIIIMVLMAIMMKNQHDEISTLKTSLESM...   \n",
       "1  MLLTLSSLLSWLKSNALYIIIMVLMAIMMKNQHDEISTLKNSLESM...   \n",
       "2  MHVSNFTAGLLLLVIAFGGTSIILKNKVERLETSVVEITKTANENA...   \n",
       "\n",
       "                                       ncbi_sequence same           new_cds  \n",
       "0  MKNQHDEISTLKTSLESMKSFQTKSYENAKPVTEALLKSPKATKQM...    N  [126555, 126873]  \n",
       "1  MVLMAIMMKNQHDEISTLKNSLESMKSFQTKSYENAKPVTEALLKS...    N  [124571, 124889]  \n",
       "2                                                NaN  NaN               NaN  "
      ]
     },
     "execution_count": 549,
     "metadata": {},
     "output_type": "execute_result"
    }
   ],
   "source": [
    "data3 = data.copy()\n",
    "data3['new_cds'] = data2['new_cds']\n",
    "data3.head(3)"
   ]
  },
  {
   "cell_type": "code",
   "execution_count": 550,
   "id": "structural-positive",
   "metadata": {},
   "outputs": [
    {
     "name": "stderr",
     "output_type": "stream",
     "text": [
      "C:\\Users\\jcham\\Anaconda3\\lib\\site-packages\\ipykernel_launcher.py:1: SettingWithCopyWarning: \n",
      "A value is trying to be set on a copy of a slice from a DataFrame\n",
      "\n",
      "See the caveats in the documentation: https://pandas.pydata.org/pandas-docs/stable/user_guide/indexing.html#returning-a-view-versus-a-copy\n",
      "  \"\"\"Entry point for launching an IPython kernel.\n",
      "C:\\Users\\jcham\\Anaconda3\\lib\\site-packages\\ipykernel_launcher.py:2: SettingWithCopyWarning: \n",
      "A value is trying to be set on a copy of a slice from a DataFrame\n",
      "\n",
      "See the caveats in the documentation: https://pandas.pydata.org/pandas-docs/stable/user_guide/indexing.html#returning-a-view-versus-a-copy\n",
      "  \n",
      "C:\\Users\\jcham\\Anaconda3\\lib\\site-packages\\ipykernel_launcher.py:3: SettingWithCopyWarning: \n",
      "A value is trying to be set on a copy of a slice from a DataFrame\n",
      "\n",
      "See the caveats in the documentation: https://pandas.pydata.org/pandas-docs/stable/user_guide/indexing.html#returning-a-view-versus-a-copy\n",
      "  This is separate from the ipykernel package so we can avoid doing imports until\n",
      "C:\\Users\\jcham\\Anaconda3\\lib\\site-packages\\ipykernel_launcher.py:4: SettingWithCopyWarning: \n",
      "A value is trying to be set on a copy of a slice from a DataFrame\n",
      "\n",
      "See the caveats in the documentation: https://pandas.pydata.org/pandas-docs/stable/user_guide/indexing.html#returning-a-view-versus-a-copy\n",
      "  after removing the cwd from sys.path.\n",
      "C:\\Users\\jcham\\Anaconda3\\lib\\site-packages\\ipykernel_launcher.py:5: SettingWithCopyWarning: \n",
      "A value is trying to be set on a copy of a slice from a DataFrame\n",
      "\n",
      "See the caveats in the documentation: https://pandas.pydata.org/pandas-docs/stable/user_guide/indexing.html#returning-a-view-versus-a-copy\n",
      "  \"\"\"\n",
      "C:\\Users\\jcham\\Anaconda3\\lib\\site-packages\\ipykernel_launcher.py:6: SettingWithCopyWarning: \n",
      "A value is trying to be set on a copy of a slice from a DataFrame\n",
      "\n",
      "See the caveats in the documentation: https://pandas.pydata.org/pandas-docs/stable/user_guide/indexing.html#returning-a-view-versus-a-copy\n",
      "  \n",
      "C:\\Users\\jcham\\Anaconda3\\lib\\site-packages\\ipykernel_launcher.py:7: SettingWithCopyWarning: \n",
      "A value is trying to be set on a copy of a slice from a DataFrame\n",
      "\n",
      "See the caveats in the documentation: https://pandas.pydata.org/pandas-docs/stable/user_guide/indexing.html#returning-a-view-versus-a-copy\n",
      "  import sys\n",
      "C:\\Users\\jcham\\Anaconda3\\lib\\site-packages\\ipykernel_launcher.py:8: SettingWithCopyWarning: \n",
      "A value is trying to be set on a copy of a slice from a DataFrame\n",
      "\n",
      "See the caveats in the documentation: https://pandas.pydata.org/pandas-docs/stable/user_guide/indexing.html#returning-a-view-versus-a-copy\n",
      "  \n",
      "C:\\Users\\jcham\\Anaconda3\\lib\\site-packages\\ipykernel_launcher.py:9: SettingWithCopyWarning: \n",
      "A value is trying to be set on a copy of a slice from a DataFrame\n",
      "\n",
      "See the caveats in the documentation: https://pandas.pydata.org/pandas-docs/stable/user_guide/indexing.html#returning-a-view-versus-a-copy\n",
      "  if __name__ == '__main__':\n"
     ]
    }
   ],
   "source": [
    "data3['new_cds'][2] = [134887, 135240]\n",
    "data3['new_cds'][5] = [17544, 18005]\n",
    "data3['new_cds'][25] = [41130, 41510]\n",
    "data3['new_cds'][40] = [5432, 5779]\n",
    "data3['new_cds'][41] = [35510, 35761]\n",
    "data3['new_cds'][42] = [134591, 134890]\n",
    "data3['new_cds'][74] = [54219, 54575]\n",
    "data3['new_cds'][114] = [5673, 5942]\n",
    "data3['new_cds'][118] = [56741, 57115]"
   ]
  },
  {
   "cell_type": "code",
   "execution_count": 551,
   "id": "broke-blast",
   "metadata": {},
   "outputs": [
    {
     "name": "stderr",
     "output_type": "stream",
     "text": [
      "C:\\Users\\jcham\\Anaconda3\\lib\\site-packages\\ipykernel_launcher.py:1: SettingWithCopyWarning: \n",
      "A value is trying to be set on a copy of a slice from a DataFrame\n",
      "\n",
      "See the caveats in the documentation: https://pandas.pydata.org/pandas-docs/stable/user_guide/indexing.html#returning-a-view-versus-a-copy\n",
      "  \"\"\"Entry point for launching an IPython kernel.\n",
      "C:\\Users\\jcham\\Anaconda3\\lib\\site-packages\\ipykernel_launcher.py:2: SettingWithCopyWarning: \n",
      "A value is trying to be set on a copy of a slice from a DataFrame\n",
      "\n",
      "See the caveats in the documentation: https://pandas.pydata.org/pandas-docs/stable/user_guide/indexing.html#returning-a-view-versus-a-copy\n",
      "  \n",
      "C:\\Users\\jcham\\Anaconda3\\lib\\site-packages\\ipykernel_launcher.py:3: SettingWithCopyWarning: \n",
      "A value is trying to be set on a copy of a slice from a DataFrame\n",
      "\n",
      "See the caveats in the documentation: https://pandas.pydata.org/pandas-docs/stable/user_guide/indexing.html#returning-a-view-versus-a-copy\n",
      "  This is separate from the ipykernel package so we can avoid doing imports until\n"
     ]
    }
   ],
   "source": [
    "data3['new_cds'][45] = [99401,99680]\n",
    "data3['new_cds'][79]= [26592,26849]\n",
    "data3['new_cds'][99] = [4835, 5066]"
   ]
  },
  {
   "cell_type": "markdown",
   "id": "median-viewer",
   "metadata": {},
   "source": [
    "* Phage 3   = Phage 3 is a mess. Genome was updated to NC_024142.2. New cds in ncbi is 12842..13066, however their CDS in ncbi is not a multiple of three. AND I get a different sequence when I translate that cds (probably because the genome in NCBI is a slightly different size than the one efetch gets me...?)\n",
    "* Phage 4 = Deletion of 'I' in rohit's sequence vs NCBI's. 89203:89547 is the ncbi cds\n",
    "* Phage 23 = Rohit's annotation appears to be incorrect here (CDS is 167035,167455 however). He ends one amino acid before the stop codon, while NCBI's annotation correctly goes to the stop codon\n",
    "* Phage 34 = 137084:137234, NC_024794.1 (manually)\n",
    "* Phage 46 =  35459:35684, NC_023576.1\n",
    "* Phage 50 =  36184:36415\n",
    "* Phage 69 = This one is a mess too. The protein_acc and protein_gi are out of date and do not match anything in ncbi. They appear to have re-annotated it  by shifting the cds from 36645:36921 to 36550:37000 - which is completely different from rohit's annotation and their original annotation - not even in the same reading frame\n",
    "* Phage 72 = 38503:38710 **but** I find rohit's annotation a little questionable here. He's missing a huge part of the orf\n",
    "* Phage 98 = 38776:39058\n",
    "* Phage 115 = My guess is that they annotated different genes here because the sequence is completely different"
   ]
  },
  {
   "cell_type": "code",
   "execution_count": 571,
   "id": "informational-canadian",
   "metadata": {},
   "outputs": [
    {
     "name": "stderr",
     "output_type": "stream",
     "text": [
      "C:\\Users\\jcham\\Anaconda3\\lib\\site-packages\\ipykernel_launcher.py:1: SettingWithCopyWarning: \n",
      "A value is trying to be set on a copy of a slice from a DataFrame\n",
      "\n",
      "See the caveats in the documentation: https://pandas.pydata.org/pandas-docs/stable/user_guide/indexing.html#returning-a-view-versus-a-copy\n",
      "  \"\"\"Entry point for launching an IPython kernel.\n",
      "C:\\Users\\jcham\\Anaconda3\\lib\\site-packages\\ipykernel_launcher.py:2: SettingWithCopyWarning: \n",
      "A value is trying to be set on a copy of a slice from a DataFrame\n",
      "\n",
      "See the caveats in the documentation: https://pandas.pydata.org/pandas-docs/stable/user_guide/indexing.html#returning-a-view-versus-a-copy\n",
      "  \n",
      "C:\\Users\\jcham\\Anaconda3\\lib\\site-packages\\ipykernel_launcher.py:3: SettingWithCopyWarning: \n",
      "A value is trying to be set on a copy of a slice from a DataFrame\n",
      "\n",
      "See the caveats in the documentation: https://pandas.pydata.org/pandas-docs/stable/user_guide/indexing.html#returning-a-view-versus-a-copy\n",
      "  This is separate from the ipykernel package so we can avoid doing imports until\n",
      "C:\\Users\\jcham\\Anaconda3\\lib\\site-packages\\ipykernel_launcher.py:4: SettingWithCopyWarning: \n",
      "A value is trying to be set on a copy of a slice from a DataFrame\n",
      "\n",
      "See the caveats in the documentation: https://pandas.pydata.org/pandas-docs/stable/user_guide/indexing.html#returning-a-view-versus-a-copy\n",
      "  after removing the cwd from sys.path.\n",
      "C:\\Users\\jcham\\Anaconda3\\lib\\site-packages\\ipykernel_launcher.py:5: SettingWithCopyWarning: \n",
      "A value is trying to be set on a copy of a slice from a DataFrame\n",
      "\n",
      "See the caveats in the documentation: https://pandas.pydata.org/pandas-docs/stable/user_guide/indexing.html#returning-a-view-versus-a-copy\n",
      "  \"\"\"\n",
      "C:\\Users\\jcham\\Anaconda3\\lib\\site-packages\\ipykernel_launcher.py:6: SettingWithCopyWarning: \n",
      "A value is trying to be set on a copy of a slice from a DataFrame\n",
      "\n",
      "See the caveats in the documentation: https://pandas.pydata.org/pandas-docs/stable/user_guide/indexing.html#returning-a-view-versus-a-copy\n",
      "  \n",
      "C:\\Users\\jcham\\Anaconda3\\lib\\site-packages\\ipykernel_launcher.py:7: SettingWithCopyWarning: \n",
      "A value is trying to be set on a copy of a slice from a DataFrame\n",
      "\n",
      "See the caveats in the documentation: https://pandas.pydata.org/pandas-docs/stable/user_guide/indexing.html#returning-a-view-versus-a-copy\n",
      "  import sys\n",
      "C:\\Users\\jcham\\Anaconda3\\lib\\site-packages\\ipykernel_launcher.py:8: SettingWithCopyWarning: \n",
      "A value is trying to be set on a copy of a slice from a DataFrame\n",
      "\n",
      "See the caveats in the documentation: https://pandas.pydata.org/pandas-docs/stable/user_guide/indexing.html#returning-a-view-versus-a-copy\n",
      "  \n"
     ]
    }
   ],
   "source": [
    "data3['new_cds'][4] = [89203, 89547]\n",
    "data3['new_cds'][23] = [167035, 167455]\n",
    "data3['new_cds'][34] = [137084, 137234]\n",
    "data3['new_cds'][46] = [35459, 35684]\n",
    "data3['new_cds'][50] = [36184, 36415]\n",
    "data3['new_cds'][72] = [38503, 38710]\n",
    "data3['new_cds'][81] = [0,0]\n",
    "data3['new_cds'][98] = [38776, 39058]"
   ]
  },
  {
   "cell_type": "code",
   "execution_count": 553,
   "id": "revolutionary-catering",
   "metadata": {},
   "outputs": [],
   "source": [
    "# Convert cds data in a column to the format of\n",
    "# rohit:XX..YY"
   ]
  },
  {
   "cell_type": "code",
   "execution_count": 573,
   "id": "better-planet",
   "metadata": {},
   "outputs": [
    {
     "data": {
      "text/plain": [
       "0      126555..126873\n",
       "1      124571..124889\n",
       "2      134887..135240\n",
       "3        12559..13066\n",
       "4        89203..89547\n",
       "            ...      \n",
       "117      44709..45078\n",
       "118      56741..57115\n",
       "119      20740..21127\n",
       "120         629..1010\n",
       "121      41449..41839\n",
       "Name: new_cds, Length: 122, dtype: object"
      ]
     },
     "execution_count": 573,
     "metadata": {},
     "output_type": "execute_result"
    }
   ],
   "source": [
    "data3['new_cds'].apply(lambda x: str(x[0]) + '..' + str(x[1]))"
   ]
  },
  {
   "cell_type": "code",
   "execution_count": 574,
   "id": "isolated-antibody",
   "metadata": {},
   "outputs": [],
   "source": [
    "# data3.to_csv('category_I_sequence_diff_JSC.csv')"
   ]
  },
  {
   "cell_type": "code",
   "execution_count": null,
   "id": "consecutive-chrome",
   "metadata": {},
   "outputs": [],
   "source": [
    "os.getcwd()"
   ]
  },
  {
   "cell_type": "code",
   "execution_count": 572,
   "id": "apparent-happiness",
   "metadata": {},
   "outputs": [
    {
     "data": {
      "text/html": [
       "<div>\n",
       "<style scoped>\n",
       "    .dataframe tbody tr th:only-of-type {\n",
       "        vertical-align: middle;\n",
       "    }\n",
       "\n",
       "    .dataframe tbody tr th {\n",
       "        vertical-align: top;\n",
       "    }\n",
       "\n",
       "    .dataframe thead th {\n",
       "        text-align: right;\n",
       "    }\n",
       "</style>\n",
       "<table border=\"1\" class=\"dataframe\">\n",
       "  <thead>\n",
       "    <tr style=\"text-align: right;\">\n",
       "      <th></th>\n",
       "      <th>host</th>\n",
       "      <th>host_taxid</th>\n",
       "      <th>phage_acc</th>\n",
       "      <th>protein_acc</th>\n",
       "      <th>protein_gi</th>\n",
       "      <th>cds</th>\n",
       "      <th>strand</th>\n",
       "      <th>function</th>\n",
       "      <th>spanin_type</th>\n",
       "      <th>property_feature</th>\n",
       "      <th>sequence</th>\n",
       "      <th>ncbi_sequence</th>\n",
       "      <th>same</th>\n",
       "      <th>new_cds</th>\n",
       "    </tr>\n",
       "  </thead>\n",
       "  <tbody>\n",
       "  </tbody>\n",
       "</table>\n",
       "</div>"
      ],
      "text/plain": [
       "Empty DataFrame\n",
       "Columns: [host, host_taxid, phage_acc, protein_acc, protein_gi, cds, strand, function, spanin_type, property_feature, sequence, ncbi_sequence, same, new_cds]\n",
       "Index: []"
      ]
     },
     "execution_count": 572,
     "metadata": {},
     "output_type": "execute_result"
    }
   ],
   "source": [
    "data3[data3['new_cds'].isnull() == True]"
   ]
  }
 ],
 "metadata": {
  "kernelspec": {
   "display_name": "Python 3",
   "language": "python",
   "name": "python3"
  },
  "language_info": {
   "codemirror_mode": {
    "name": "ipython",
    "version": 3
   },
   "file_extension": ".py",
   "mimetype": "text/x-python",
   "name": "python",
   "nbconvert_exporter": "python",
   "pygments_lexer": "ipython3",
   "version": "3.6.12"
  }
 },
 "nbformat": 4,
 "nbformat_minor": 5
}
